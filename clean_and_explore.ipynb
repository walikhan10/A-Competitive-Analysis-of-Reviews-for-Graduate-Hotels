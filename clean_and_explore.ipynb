{
  "cells": [
    {
      "cell_type": "markdown",
      "metadata": {
        "id": "Gie4i4jp0j96"
      },
      "source": [
        "# BUSI/COMP 488 Major Class Project: A Competitive Analysis of Reviews for Graduate Hotels\n",
        "### by Anuttam Perumal, Hugh Williamson, Matthew Jaynes, Pranav Vinaayak, Emil Foldager Jensen, and Wali Khan"
      ]
    },
    {
      "cell_type": "markdown",
      "source": [
        "We start off by importing the data from Drive. We chose to use both both TripAdvisor and Google reviews in order to get as broad of a sample as possible. Furthermore, the two review sources have similarly formatted dataframes which mains cleaning relatively straightforward,"
      ],
      "metadata": {
        "id": "ktuktKc9NoWm"
      }
    },
    {
      "cell_type": "code",
      "execution_count": null,
      "metadata": {
        "id": "GDUPzsM70i-4"
      },
      "outputs": [],
      "source": [
        "# import the necessary packages.\n",
        "!pip install BERTopic\n",
        "import numpy as np\n",
        "import pandas as pd\n",
        "import random\n",
        "\n",
        "# connect your google drive.\n",
        "from google.colab import drive\n",
        "drive.mount('/content/drive')\n",
        "\n",
        "# navigate to 'Final Project' directory.\n",
        "%cd /content/drive/MyDrive/BUSI488 - Final Project\n",
        "\n",
        "# list files in directory.\n",
        "!ls"
      ]
    },
    {
      "cell_type": "code",
      "execution_count": null,
      "metadata": {
        "id": "kg0Px3kI0fR2"
      },
      "outputs": [],
      "source": [
        "# navigate to the folder containing pre-scraped reviews from google and tpadvisor.\n",
        "%cd /content/drive/MyDrive/BUSI488 - Final Project/Reviews\n",
        "!ls"
      ]
    },
    {
      "cell_type": "code",
      "execution_count": null,
      "metadata": {
        "id": "IfL9jEmgOIPJ"
      },
      "outputs": [],
      "source": [
        "# read in all raw json files by hotel and source.\n",
        "# the final dataframes for each set of reviews will have a different number of columns by source,\n",
        "# e.g. google dataframes will have 13 columns and tpadvisor dataframes will have 19 columns.\n",
        "# the dataframe shown below contains the 'raw', unprocessed contents of a json review file for a particular hotel and source. \n",
        "\n",
        "ace_all_google = pd.read_json('ace_google.json', lines=True)\n",
        "ace_all_tpadvisor = pd.read_json('ace_all_tpadvisor.json', lines=True)\n",
        "\n",
        "citizenm_all_google = pd.read_json('citizenm_all_google.json', lines=True)\n",
        "citizenm_all_tpadvisor = pd.read_json('citizenm_all_tpadvisor.json', lines=True)\n",
        "\n",
        "GraduateHotels_all_google = pd.read_json('GraduateHotels_google.json', lines=True)\n",
        "GraduateHotels_all_tpadvisor = pd.read_json('GraduateHotels_tpadvisor.json', lines=True)\n",
        "\n",
        "hoxton_all_google = pd.read_json('hoxton_google.json', lines=True)\n",
        "hoxton_all_tpadvisor = pd.read_json('hoxton_all_tpadvisor.json', lines=True)\n",
        "\n",
        "standard_all_google = pd.read_json('standard_google.json', lines=True)\n",
        "standard_all_tpadvisor = pd.read_json('standard_all_tpadvisor.json', lines=True)\n",
        "\n",
        "study_all_google = pd.read_json('study_google.json', lines=True)\n",
        "study_all_tpadvisor = pd.read_json('study_tpadvisor.json', lines=True) \n",
        "\n",
        "# e.g. the raw dataframe for all Graduate Hotel reviews from google.\n",
        "\n",
        "GraduateHotels_all_google"
      ]
    },
    {
      "cell_type": "markdown",
      "source": [
        "Now that we've read in our JSON in the most raw/rudimentary form possible, we can start to take a look at cleaning. First, we define a helper function that covnerts the 'raw' dataframes into dataframes that we can subset and use for our analysis below. "
      ],
      "metadata": {
        "id": "xPuhc7khQRk5"
      }
    },
    {
      "cell_type": "code",
      "execution_count": null,
      "metadata": {
        "id": "5ljcDClL4pIT"
      },
      "outputs": [],
      "source": [
        "# helper function to clean up messy json files of scraped reviews.\n",
        "# works on both google and tpadvisor jsons.\n",
        "# ignores the first column of the direct json df because it's just an unnecessary index.\n",
        "# outputs a neat, simplified dataframe.\n",
        "\n",
        "def dirty_parse(dirty_df):\n",
        "  col_data = []\n",
        "  col_names = list(dirty_df.columns[1:])\n",
        "  for column in dirty_df.columns[1:]:\n",
        "    col_data.append(dirty_df[column])\n",
        "  individual_cols = pd.DataFrame()\n",
        "  for i in range(len(col_data)):\n",
        "    col_values = col_data[i].values\n",
        "    new = col_values[0]\n",
        "    new_df_column = pd.DataFrame.from_dict(new, orient='index')\n",
        "    individual_cols = pd.concat([individual_cols, new_df_column], axis = 1)\n",
        "  individual_cols.columns = col_names\n",
        "  return individual_cols\n"
      ]
    },
    {
      "cell_type": "code",
      "execution_count": null,
      "metadata": {
        "id": "s96FJUzAPEC2"
      },
      "outputs": [],
      "source": [
        "# run the dirty_parse() helper function on the original json dataframes.\n",
        "\n",
        "ace_google = dirty_parse(ace_all_google)\n",
        "ace_tp = dirty_parse(ace_all_tpadvisor)\n",
        "\n",
        "citizen_google = dirty_parse(citizenm_all_google)\n",
        "citizen_tp = dirty_parse(citizenm_all_tpadvisor)\n",
        "\n",
        "GraduateHotels_google = dirty_parse(GraduateHotels_all_google)\n",
        "GraduateHotels_tp = dirty_parse(GraduateHotels_all_tpadvisor)\n",
        "\n",
        "hoxton_google = dirty_parse(hoxton_all_google)\n",
        "hoxton_tp = dirty_parse(hoxton_all_tpadvisor)\n",
        "\n",
        "standard_google = dirty_parse(standard_all_google)\n",
        "standard_tp = dirty_parse(standard_all_tpadvisor)\n",
        "\n",
        "study_google = dirty_parse(study_all_google)\n",
        "study_tp = dirty_parse(study_all_tpadvisor)"
      ]
    },
    {
      "cell_type": "code",
      "execution_count": null,
      "metadata": {
        "id": "7mSE1jiBPV8a"
      },
      "outputs": [],
      "source": [
        "# some google review dataframes still contain an unnecessary id column, which we will remove.\n",
        "\n",
        "ace_google = ace_google.iloc[: , 1:]\n",
        "GraduateHotels_google = GraduateHotels_google.iloc[: , 1:]\n",
        "hoxton_google = hoxton_google.iloc[: , 1:]\n",
        "standard_google = standard_google.iloc[: , 1:] \n",
        "study_google = study_google.iloc[: , 1:]"
      ]
    },
    {
      "cell_type": "code",
      "execution_count": null,
      "metadata": {
        "id": "yZe9Qf5KUDFy"
      },
      "outputs": [],
      "source": [
        "# we'll look at the Graduate Hotel google and tpadvisor dataframes for our exploration purposes.\n",
        "\n",
        "GraduateHotels_google.head(100)"
      ]
    },
    {
      "cell_type": "code",
      "execution_count": null,
      "metadata": {
        "id": "K6L29fmZgo6s"
      },
      "outputs": [],
      "source": [
        "\n",
        "GraduateHotels_tp.head(3)"
      ]
    },
    {
      "cell_type": "code",
      "execution_count": null,
      "metadata": {
        "id": "iRzYOeslWzpU"
      },
      "outputs": [],
      "source": [
        "# note that the total length of this dataframe is 272,441 entries.\n",
        "\n",
        "GraduateHotels_google.isna().sum()"
      ]
    },
    {
      "cell_type": "code",
      "execution_count": null,
      "metadata": {
        "id": "sbAiTnIUZKhJ"
      },
      "outputs": [],
      "source": [
        "# note that the total length of this DataFrame is 272,441 entries.\n",
        "\n",
        "GraduateHotels_tp.isna().sum()"
      ]
    },
    {
      "cell_type": "markdown",
      "source": [
        "Next, we rename columns in the TripAdvisor review dataframes to match the ones to Google more closely. We also drop any reviews that contains a null field (i.e. missing) for the text portion of the review."
      ],
      "metadata": {
        "id": "WEHRiObPQxku"
      }
    },
    {
      "cell_type": "code",
      "execution_count": null,
      "metadata": {
        "id": "SQLT8OM_Z2bi"
      },
      "outputs": [],
      "source": [
        "# we will remove any reviews not containing any text. \n",
        "\n",
        "GraduateHotels_google = GraduateHotels_google[GraduateHotels_google['text'].notna()]\n",
        "GraduateHotels_tp = GraduateHotels_tp[GraduateHotels_tp['review text'].notna()]\n",
        "ace_google = ace_google[ace_google['text'].notna()]\n",
        "ace_tp = ace_tp[ace_tp['review text'].notna()]\n",
        "citizen_google = citizen_google[citizen_google['text'].notna()]\n",
        "citizen_tp = citizen_tp[citizen_tp['review text'].notna()]\n",
        "hoxton_google = hoxton_google[hoxton_google['text'].notna()]\n",
        "hoxton_tp = hoxton_tp[hoxton_tp['review text'].notna()]\n",
        "standard_google = standard_google[standard_google['text'].notna()]\n",
        "standard_tp = standard_tp[standard_tp['review text'].notna()]\n",
        "study_google = study_google[study_google['text'].notna()]\n",
        "study_tp = study_tp[study_tp['review text'].notna()]\n",
        "\n",
        "# next, we rename some tpadvisor columns to match the format of the respective columns in the google DataFrame. \n",
        "\n",
        "GraduateHotels_tp = GraduateHotels_tp.rename(columns={\"review text\": \"text\", \"hotel name\": \"hotel\"})\n",
        "ace_tp = ace_tp.rename(columns={\"review text\": \"text\", \"hotel name\": \"hotel\"})\n",
        "citizen_tp = citizen_tp.rename(columns={\"review text\": \"text\", \"hotel name\": \"hotel\"})\n",
        "hoxton_tp = hoxton_tp.rename(columns={\"review text\": \"text\", \"hotel name\": \"hotel\"})\n",
        "standard_tp = standard_tp.rename(columns={\"review text\": \"text\", \"hotel name\": \"hotel\"})\n",
        "study_tp = study_tp.rename(columns={\"review text\": \"text\", \"hotel name\": \"hotel\"})\n"
      ]
    },
    {
      "cell_type": "code",
      "execution_count": null,
      "metadata": {
        "id": "Y_LvF2BWnxcF",
        "colab": {
          "base_uri": "https://localhost:8080/",
          "height": 581
        },
        "outputId": "517e8e72-31bf-4bbc-afc8-8c44a3c3ccda"
      },
      "outputs": [
        {
          "output_type": "execute_result",
          "data": {
            "text/plain": [
              "               hotel  \\\n",
              "0  The Study at Yale   \n",
              "1  The Study at Yale   \n",
              "2  The Study at Yale   \n",
              "3  The Study at Yale   \n",
              "4  The Study at Yale   \n",
              "5  The Study at Yale   \n",
              "6  The Study at Yale   \n",
              "7  The Study at Yale   \n",
              "8  The Study at Yale   \n",
              "9  The Study at Yale   \n",
              "\n",
              "                                                                                                                                                                                                                                                                                                          text  \n",
              "0                          I really enjoyed our stay at The Study at Yale! It was very clean and the staff was extremely friendly. I just wish the rates would not be so high. I loved the environment and the décor; it felt like being in a library. Great place to stay as it is close to Yale University.   \n",
              "1                                                                                       Comfy bed, incredibly beautiful view, perfect service, awesome location, comfy bed, nicely equipped room with large windows, nice desk and chair, would come back without hesitation. The view is the best part of it!  \n",
              "2                                                                                          Always wonderful. I get my best nights' sleep. Thanks to all of you who make our stays so enjoyable. We will be spending many more days with you as our granddaughter continues her amazing education in New Haven.  \n",
              "3  We are regular guests at the Study and the staff were helpful and our stay was pleasant except for our room assignment. Room 702 is significantly smaller than the standard queen sized room, has a significantly smaller shower, and has less furniture than is shown in the images on your website. I ...  \n",
              "4                                                                                                    Stylish (elegant simplicity), great location for visiting Yale again . this was the perfect base from which to revisit old familiar places on campus. Wonderful lounge/ lobby. We will definitely return!  \n",
              "5                                           Excellent, welcoming service. Love the fresh fruit that's always available in the lobby, as well as the complementary coffee and tea every morning. .   Extremely convenient location (and free parking in the hotel's own garage).  Very comfortable bed/rooms.    \n",
              "6  I really love this hotel it was such a wonderful experience to be there and I loved the views of the campus I loved that they had free pencils on the desk that was sharpened I loved the little reading books along each part of the hotel I deeply recommend this as a retreat especially for people w...  \n",
              "7                                                                                                    Very friendly staff, excellent service. Great location.  Dog friendly, good breakfast. Great place to bring friends for a cocktail before dinner. Fun to watch the at Patrick’s day parade from the bar!   \n",
              "8                                                                                Extremely well-located if you are visiting Yale. Comfortable, spacious rooms with great light and air.  I believe The Study is the only hotel in New Haven where you can actually open the windows and breath the fresh air!   \n",
              "9                                                                                    The hotel has a privileged location amid all points of interest. Very nice staff, always ready to cooperate. Parking on site is a must. The rooms are comfortable and well furnished. A fridge would have been an asset.   "
            ],
            "text/html": [
              "\n",
              "  <div id=\"df-017c3e7f-42b6-436e-a7ad-795aee7e1d11\">\n",
              "    <div class=\"colab-df-container\">\n",
              "      <div>\n",
              "<style scoped>\n",
              "    .dataframe tbody tr th:only-of-type {\n",
              "        vertical-align: middle;\n",
              "    }\n",
              "\n",
              "    .dataframe tbody tr th {\n",
              "        vertical-align: top;\n",
              "    }\n",
              "\n",
              "    .dataframe thead th {\n",
              "        text-align: right;\n",
              "    }\n",
              "</style>\n",
              "<table border=\"1\" class=\"dataframe\">\n",
              "  <thead>\n",
              "    <tr style=\"text-align: right;\">\n",
              "      <th></th>\n",
              "      <th>hotel</th>\n",
              "      <th>text</th>\n",
              "    </tr>\n",
              "  </thead>\n",
              "  <tbody>\n",
              "    <tr>\n",
              "      <th>0</th>\n",
              "      <td>The Study at Yale</td>\n",
              "      <td>I really enjoyed our stay at The Study at Yale! It was very clean and the staff was extremely friendly. I just wish the rates would not be so high. I loved the environment and the décor; it felt like being in a library. Great place to stay as it is close to Yale University.</td>\n",
              "    </tr>\n",
              "    <tr>\n",
              "      <th>1</th>\n",
              "      <td>The Study at Yale</td>\n",
              "      <td>Comfy bed, incredibly beautiful view, perfect service, awesome location, comfy bed, nicely equipped room with large windows, nice desk and chair, would come back without hesitation. The view is the best part of it!</td>\n",
              "    </tr>\n",
              "    <tr>\n",
              "      <th>2</th>\n",
              "      <td>The Study at Yale</td>\n",
              "      <td>Always wonderful. I get my best nights' sleep. Thanks to all of you who make our stays so enjoyable. We will be spending many more days with you as our granddaughter continues her amazing education in New Haven.</td>\n",
              "    </tr>\n",
              "    <tr>\n",
              "      <th>3</th>\n",
              "      <td>The Study at Yale</td>\n",
              "      <td>We are regular guests at the Study and the staff were helpful and our stay was pleasant except for our room assignment. Room 702 is significantly smaller than the standard queen sized room, has a significantly smaller shower, and has less furniture than is shown in the images on your website. I ...</td>\n",
              "    </tr>\n",
              "    <tr>\n",
              "      <th>4</th>\n",
              "      <td>The Study at Yale</td>\n",
              "      <td>Stylish (elegant simplicity), great location for visiting Yale again . this was the perfect base from which to revisit old familiar places on campus. Wonderful lounge/ lobby. We will definitely return!</td>\n",
              "    </tr>\n",
              "    <tr>\n",
              "      <th>5</th>\n",
              "      <td>The Study at Yale</td>\n",
              "      <td>Excellent, welcoming service. Love the fresh fruit that's always available in the lobby, as well as the complementary coffee and tea every morning. .   Extremely convenient location (and free parking in the hotel's own garage).  Very comfortable bed/rooms.</td>\n",
              "    </tr>\n",
              "    <tr>\n",
              "      <th>6</th>\n",
              "      <td>The Study at Yale</td>\n",
              "      <td>I really love this hotel it was such a wonderful experience to be there and I loved the views of the campus I loved that they had free pencils on the desk that was sharpened I loved the little reading books along each part of the hotel I deeply recommend this as a retreat especially for people w...</td>\n",
              "    </tr>\n",
              "    <tr>\n",
              "      <th>7</th>\n",
              "      <td>The Study at Yale</td>\n",
              "      <td>Very friendly staff, excellent service. Great location.  Dog friendly, good breakfast. Great place to bring friends for a cocktail before dinner. Fun to watch the at Patrick’s day parade from the bar!</td>\n",
              "    </tr>\n",
              "    <tr>\n",
              "      <th>8</th>\n",
              "      <td>The Study at Yale</td>\n",
              "      <td>Extremely well-located if you are visiting Yale. Comfortable, spacious rooms with great light and air.  I believe The Study is the only hotel in New Haven where you can actually open the windows and breath the fresh air!</td>\n",
              "    </tr>\n",
              "    <tr>\n",
              "      <th>9</th>\n",
              "      <td>The Study at Yale</td>\n",
              "      <td>The hotel has a privileged location amid all points of interest. Very nice staff, always ready to cooperate. Parking on site is a must. The rooms are comfortable and well furnished. A fridge would have been an asset.</td>\n",
              "    </tr>\n",
              "  </tbody>\n",
              "</table>\n",
              "</div>\n",
              "      <button class=\"colab-df-convert\" onclick=\"convertToInteractive('df-017c3e7f-42b6-436e-a7ad-795aee7e1d11')\"\n",
              "              title=\"Convert this dataframe to an interactive table.\"\n",
              "              style=\"display:none;\">\n",
              "        \n",
              "  <svg xmlns=\"http://www.w3.org/2000/svg\" height=\"24px\"viewBox=\"0 0 24 24\"\n",
              "       width=\"24px\">\n",
              "    <path d=\"M0 0h24v24H0V0z\" fill=\"none\"/>\n",
              "    <path d=\"M18.56 5.44l.94 2.06.94-2.06 2.06-.94-2.06-.94-.94-2.06-.94 2.06-2.06.94zm-11 1L8.5 8.5l.94-2.06 2.06-.94-2.06-.94L8.5 2.5l-.94 2.06-2.06.94zm10 10l.94 2.06.94-2.06 2.06-.94-2.06-.94-.94-2.06-.94 2.06-2.06.94z\"/><path d=\"M17.41 7.96l-1.37-1.37c-.4-.4-.92-.59-1.43-.59-.52 0-1.04.2-1.43.59L10.3 9.45l-7.72 7.72c-.78.78-.78 2.05 0 2.83L4 21.41c.39.39.9.59 1.41.59.51 0 1.02-.2 1.41-.59l7.78-7.78 2.81-2.81c.8-.78.8-2.07 0-2.86zM5.41 20L4 18.59l7.72-7.72 1.47 1.35L5.41 20z\"/>\n",
              "  </svg>\n",
              "      </button>\n",
              "      \n",
              "  <style>\n",
              "    .colab-df-container {\n",
              "      display:flex;\n",
              "      flex-wrap:wrap;\n",
              "      gap: 12px;\n",
              "    }\n",
              "\n",
              "    .colab-df-convert {\n",
              "      background-color: #E8F0FE;\n",
              "      border: none;\n",
              "      border-radius: 50%;\n",
              "      cursor: pointer;\n",
              "      display: none;\n",
              "      fill: #1967D2;\n",
              "      height: 32px;\n",
              "      padding: 0 0 0 0;\n",
              "      width: 32px;\n",
              "    }\n",
              "\n",
              "    .colab-df-convert:hover {\n",
              "      background-color: #E2EBFA;\n",
              "      box-shadow: 0px 1px 2px rgba(60, 64, 67, 0.3), 0px 1px 3px 1px rgba(60, 64, 67, 0.15);\n",
              "      fill: #174EA6;\n",
              "    }\n",
              "\n",
              "    [theme=dark] .colab-df-convert {\n",
              "      background-color: #3B4455;\n",
              "      fill: #D2E3FC;\n",
              "    }\n",
              "\n",
              "    [theme=dark] .colab-df-convert:hover {\n",
              "      background-color: #434B5C;\n",
              "      box-shadow: 0px 1px 3px 1px rgba(0, 0, 0, 0.15);\n",
              "      filter: drop-shadow(0px 1px 2px rgba(0, 0, 0, 0.3));\n",
              "      fill: #FFFFFF;\n",
              "    }\n",
              "  </style>\n",
              "\n",
              "      <script>\n",
              "        const buttonEl =\n",
              "          document.querySelector('#df-017c3e7f-42b6-436e-a7ad-795aee7e1d11 button.colab-df-convert');\n",
              "        buttonEl.style.display =\n",
              "          google.colab.kernel.accessAllowed ? 'block' : 'none';\n",
              "\n",
              "        async function convertToInteractive(key) {\n",
              "          const element = document.querySelector('#df-017c3e7f-42b6-436e-a7ad-795aee7e1d11');\n",
              "          const dataTable =\n",
              "            await google.colab.kernel.invokeFunction('convertToInteractive',\n",
              "                                                     [key], {});\n",
              "          if (!dataTable) return;\n",
              "\n",
              "          const docLinkHtml = 'Like what you see? Visit the ' +\n",
              "            '<a target=\"_blank\" href=https://colab.research.google.com/notebooks/data_table.ipynb>data table notebook</a>'\n",
              "            + ' to learn more about interactive tables.';\n",
              "          element.innerHTML = '';\n",
              "          dataTable['output_type'] = 'display_data';\n",
              "          await google.colab.output.renderOutput(dataTable, element);\n",
              "          const docLink = document.createElement('div');\n",
              "          docLink.innerHTML = docLinkHtml;\n",
              "          element.appendChild(docLink);\n",
              "        }\n",
              "      </script>\n",
              "    </div>\n",
              "  </div>\n",
              "  "
            ]
          },
          "metadata": {},
          "execution_count": 124
        }
      ],
      "source": [
        "#append to combine Google and TP\n",
        "\n",
        "GraduateHotels_tp_text = GraduateHotels_tp[['hotel', 'text']]\n",
        "GraduateHotels_google_text = GraduateHotels_google[['hotel', 'text']]\n",
        "GraduateHotels_alltext = GraduateHotels_tp_text.append(GraduateHotels_google_text)\n",
        "\n",
        "ace_tp_text = ace_tp[['hotel', 'text']]\n",
        "ace_google_text = ace_google[['hotel', 'text']]\n",
        "ace_alltext = ace_tp_text.append(ace_google_text)\n",
        "\n",
        "citizen_tp_text = citizen_tp[['hotel', 'text']]\n",
        "citizen_google_text = citizen_google[['hotel', 'text']]\n",
        "citizen_alltext = citizen_tp_text.append(citizen_google_text)\n",
        "\n",
        "hoxton_tp_text = hoxton_tp[['hotel', 'text']]\n",
        "hoxton_google_text = hoxton_google[['hotel', 'text']]\n",
        "hoxton_alltext = hoxton_tp_text.append(hoxton_google_text)\n",
        "\n",
        "standard_tp_text = standard_tp[['hotel', 'text']]\n",
        "standard_google_text = standard_google[['hotel', 'text']]\n",
        "standard_alltext = standard_tp_text.append(standard_google_text)\n",
        "\n",
        "study_tp_text = study_tp[['hotel', 'text']]\n",
        "study_google_text = study_google[['hotel', 'text']]\n",
        "study_alltext = study_tp_text.append(study_google_text)\n",
        "\n",
        "# study_alltext.head(10)"
      ]
    },
    {
      "cell_type": "markdown",
      "metadata": {
        "id": "jFaMWWsPKsCR"
      },
      "source": [
        "## Classification with BERT"
      ]
    },
    {
      "cell_type": "markdown",
      "source": [
        "As a starting point, we wanted to be able to classify whether reviews belonged to the 'business' class, or the 'student' class. This allows us to dive deeper into our analysis in later portions of this notebook, where we split the hotel reviews up by franchise to analyze sentiment and topic discovery. \n",
        "\n",
        "When creating these steps and workflow, we took inspiration from the Class 26 lecture notes provided, along with the accomodating pickle file used as fine-tuning for the classifier. "
      ],
      "metadata": {
        "id": "QBmnWI_QRWL1"
      }
    },
    {
      "cell_type": "code",
      "execution_count": null,
      "metadata": {
        "colab": {
          "base_uri": "https://localhost:8080/"
        },
        "id": "ntLVTNNpyQA5",
        "outputId": "c0f773f7-64db-490e-c687-9f7ffc6f3db4"
      },
      "outputs": [
        {
          "output_type": "stream",
          "name": "stdout",
          "text": [
            "Requirement already satisfied: transformers in /usr/local/lib/python3.7/dist-packages (4.18.0)\n",
            "Requirement already satisfied: regex!=2019.12.17 in /usr/local/lib/python3.7/dist-packages (from transformers) (2019.12.20)\n",
            "Requirement already satisfied: sacremoses in /usr/local/lib/python3.7/dist-packages (from transformers) (0.0.53)\n",
            "Requirement already satisfied: filelock in /usr/local/lib/python3.7/dist-packages (from transformers) (3.6.0)\n",
            "Requirement already satisfied: importlib-metadata in /usr/local/lib/python3.7/dist-packages (from transformers) (4.11.3)\n",
            "Requirement already satisfied: tokenizers!=0.11.3,<0.13,>=0.11.1 in /usr/local/lib/python3.7/dist-packages (from transformers) (0.12.1)\n",
            "Requirement already satisfied: requests in /usr/local/lib/python3.7/dist-packages (from transformers) (2.23.0)\n",
            "Requirement already satisfied: huggingface-hub<1.0,>=0.1.0 in /usr/local/lib/python3.7/dist-packages (from transformers) (0.5.1)\n",
            "Requirement already satisfied: tqdm>=4.27 in /usr/local/lib/python3.7/dist-packages (from transformers) (4.64.0)\n",
            "Requirement already satisfied: numpy>=1.17 in /usr/local/lib/python3.7/dist-packages (from transformers) (1.21.6)\n",
            "Requirement already satisfied: pyyaml>=5.1 in /usr/local/lib/python3.7/dist-packages (from transformers) (5.4.1)\n",
            "Requirement already satisfied: packaging>=20.0 in /usr/local/lib/python3.7/dist-packages (from transformers) (21.3)\n",
            "Requirement already satisfied: typing-extensions>=3.7.4.3 in /usr/local/lib/python3.7/dist-packages (from huggingface-hub<1.0,>=0.1.0->transformers) (4.2.0)\n",
            "Requirement already satisfied: pyparsing!=3.0.5,>=2.0.2 in /usr/local/lib/python3.7/dist-packages (from packaging>=20.0->transformers) (3.0.8)\n",
            "Requirement already satisfied: zipp>=0.5 in /usr/local/lib/python3.7/dist-packages (from importlib-metadata->transformers) (3.8.0)\n",
            "Requirement already satisfied: chardet<4,>=3.0.2 in /usr/local/lib/python3.7/dist-packages (from requests->transformers) (3.0.4)\n",
            "Requirement already satisfied: certifi>=2017.4.17 in /usr/local/lib/python3.7/dist-packages (from requests->transformers) (2021.10.8)\n",
            "Requirement already satisfied: idna<3,>=2.5 in /usr/local/lib/python3.7/dist-packages (from requests->transformers) (2.10)\n",
            "Requirement already satisfied: urllib3!=1.25.0,!=1.25.1,<1.26,>=1.21.1 in /usr/local/lib/python3.7/dist-packages (from requests->transformers) (1.24.3)\n",
            "Requirement already satisfied: six in /usr/local/lib/python3.7/dist-packages (from sacremoses->transformers) (1.15.0)\n",
            "Requirement already satisfied: click in /usr/local/lib/python3.7/dist-packages (from sacremoses->transformers) (7.1.2)\n",
            "Requirement already satisfied: joblib in /usr/local/lib/python3.7/dist-packages (from sacremoses->transformers) (1.1.0)\n",
            "Requirement already satisfied: pickle5 in /usr/local/lib/python3.7/dist-packages (0.0.12)\n"
          ]
        }
      ],
      "source": [
        "# install and import the necessary packages.\n",
        "\n",
        "!pip install transformers\n",
        "!pip install pickle5\n",
        "from tqdm import tqdm\n",
        "import pickle5 as pickle\n",
        "import numpy as np\n",
        "import pandas as pd\n",
        "import torch\n",
        "import transformers as ppb\n",
        "import warnings\n",
        "warnings.filterwarnings('ignore')\n",
        "from transformers import AutoTokenizer, AutoModelForSequenceClassification, TrainingArguments, Trainer\n",
        "from torch.utils.data import TensorDataset, DataLoader\n",
        "\n"
      ]
    },
    {
      "cell_type": "code",
      "execution_count": null,
      "metadata": {
        "colab": {
          "base_uri": "https://localhost:8080/"
        },
        "id": "ieuI9UPQuDRj",
        "outputId": "d90e98ae-128c-49af-d20f-933d6e4bf17d"
      },
      "outputs": [
        {
          "output_type": "stream",
          "name": "stdout",
          "text": [
            "/content/drive/MyDrive/BUSI488 - Final Project\n"
          ]
        },
        {
          "output_type": "stream",
          "name": "stderr",
          "text": [
            "loading configuration file https://huggingface.co/distilbert-base-cased/resolve/main/config.json from cache at /root/.cache/huggingface/transformers/ebe1ea24d11aa664488b8de5b21e33989008ca78f207d4e30ec6350b693f073f.302bfd1b5e031cc1b17796e0b6e5b242ba2045d31d00f97589e12b458ebff27a\n",
            "Model config DistilBertConfig {\n",
            "  \"_name_or_path\": \"distilbert-base-cased\",\n",
            "  \"activation\": \"gelu\",\n",
            "  \"attention_dropout\": 0.1,\n",
            "  \"dim\": 768,\n",
            "  \"dropout\": 0.1,\n",
            "  \"hidden_dim\": 3072,\n",
            "  \"initializer_range\": 0.02,\n",
            "  \"max_position_embeddings\": 512,\n",
            "  \"model_type\": \"distilbert\",\n",
            "  \"n_heads\": 12,\n",
            "  \"n_layers\": 6,\n",
            "  \"output_past\": true,\n",
            "  \"pad_token_id\": 0,\n",
            "  \"qa_dropout\": 0.1,\n",
            "  \"seq_classif_dropout\": 0.2,\n",
            "  \"sinusoidal_pos_embds\": false,\n",
            "  \"tie_weights_\": true,\n",
            "  \"transformers_version\": \"4.18.0\",\n",
            "  \"vocab_size\": 28996\n",
            "}\n",
            "\n",
            "loading file https://huggingface.co/distilbert-base-cased/resolve/main/vocab.txt from cache at /root/.cache/huggingface/transformers/ba377304984dc63e3ede0e23a938bbbf04d5c3835b66d5bb48343aecca188429.437aa611e89f6fc6675a049d2b5545390adbc617e7d655286421c191d2be2791\n",
            "loading file https://huggingface.co/distilbert-base-cased/resolve/main/tokenizer.json from cache at /root/.cache/huggingface/transformers/acb5c2138c1f8c84f074b86dafce3631667fccd6efcb1a7ea1320cf75c386a36.3dab63143af66769bbb35e3811f75f7e16b2320e12b7935e216bd6159ce6d9a6\n",
            "loading file https://huggingface.co/distilbert-base-cased/resolve/main/added_tokens.json from cache at None\n",
            "loading file https://huggingface.co/distilbert-base-cased/resolve/main/special_tokens_map.json from cache at None\n",
            "loading file https://huggingface.co/distilbert-base-cased/resolve/main/tokenizer_config.json from cache at /root/.cache/huggingface/transformers/81e970e5e6ec68be12da0f8f3b2f2469c78d579282299a2ea65b4b7441719107.ec5c189f89475aac7d8cbd243960a0655cfadc3d0474da8ff2ed0bf1699c2a5f\n",
            "loading configuration file https://huggingface.co/distilbert-base-cased/resolve/main/config.json from cache at /root/.cache/huggingface/transformers/ebe1ea24d11aa664488b8de5b21e33989008ca78f207d4e30ec6350b693f073f.302bfd1b5e031cc1b17796e0b6e5b242ba2045d31d00f97589e12b458ebff27a\n",
            "Model config DistilBertConfig {\n",
            "  \"_name_or_path\": \"distilbert-base-cased\",\n",
            "  \"activation\": \"gelu\",\n",
            "  \"attention_dropout\": 0.1,\n",
            "  \"dim\": 768,\n",
            "  \"dropout\": 0.1,\n",
            "  \"hidden_dim\": 3072,\n",
            "  \"initializer_range\": 0.02,\n",
            "  \"max_position_embeddings\": 512,\n",
            "  \"model_type\": \"distilbert\",\n",
            "  \"n_heads\": 12,\n",
            "  \"n_layers\": 6,\n",
            "  \"output_past\": true,\n",
            "  \"pad_token_id\": 0,\n",
            "  \"qa_dropout\": 0.1,\n",
            "  \"seq_classif_dropout\": 0.2,\n",
            "  \"sinusoidal_pos_embds\": false,\n",
            "  \"tie_weights_\": true,\n",
            "  \"transformers_version\": \"4.18.0\",\n",
            "  \"vocab_size\": 28996\n",
            "}\n",
            "\n",
            "loading configuration file model_1/config.json\n",
            "Model config DistilBertConfig {\n",
            "  \"_name_or_path\": \"model_1\",\n",
            "  \"activation\": \"gelu\",\n",
            "  \"architectures\": [\n",
            "    \"DistilBertForSequenceClassification\"\n",
            "  ],\n",
            "  \"attention_dropout\": 0.1,\n",
            "  \"dim\": 768,\n",
            "  \"dropout\": 0.1,\n",
            "  \"hidden_dim\": 3072,\n",
            "  \"initializer_range\": 0.02,\n",
            "  \"max_position_embeddings\": 512,\n",
            "  \"model_type\": \"distilbert\",\n",
            "  \"n_heads\": 12,\n",
            "  \"n_layers\": 6,\n",
            "  \"output_past\": true,\n",
            "  \"pad_token_id\": 0,\n",
            "  \"problem_type\": \"single_label_classification\",\n",
            "  \"qa_dropout\": 0.1,\n",
            "  \"seq_classif_dropout\": 0.2,\n",
            "  \"sinusoidal_pos_embds\": false,\n",
            "  \"tie_weights_\": true,\n",
            "  \"torch_dtype\": \"float32\",\n",
            "  \"transformers_version\": \"4.18.0\",\n",
            "  \"vocab_size\": 28996\n",
            "}\n",
            "\n",
            "loading weights file model_1/pytorch_model.bin\n",
            "All model checkpoint weights were used when initializing DistilBertForSequenceClassification.\n",
            "\n",
            "All the weights of DistilBertForSequenceClassification were initialized from the model checkpoint at model_1.\n",
            "If your task is similar to the task the model of the checkpoint was trained on, you can already use DistilBertForSequenceClassification for predictions without further training.\n"
          ]
        }
      ],
      "source": [
        "# change the directory back to the main folder in order to access the pre-trained, fine-tuned model.\n",
        "\n",
        "%cd /content/drive/MyDrive/BUSI488 - Final Project\n",
        "output_dir = 'model_1'\n",
        "\n",
        "# assign model name.\n",
        "\n",
        "model_name = 'distilbert-base-cased'\n",
        "\n",
        "# load tokenizer.\n",
        "\n",
        "tokenizer = AutoTokenizer.from_pretrained(model_name)\n",
        "\n",
        "# we have two classes in our dataset (business and school).\n",
        "\n",
        "numclasses = 2\n",
        "\n",
        "# instantiate the model.\n",
        "\n",
        "model = AutoModelForSequenceClassification.from_pretrained(\n",
        "\t\toutput_dir,\n",
        "\t\toutput_hidden_states=False,\n",
        "\t\toutput_attentions=False,\n",
        "\t\tnum_labels=numclasses\n",
        "\t\t)"
      ]
    },
    {
      "cell_type": "code",
      "execution_count": null,
      "metadata": {
        "id": "4yrTUsbqxqtO"
      },
      "outputs": [],
      "source": [
        "# set the maximum padding length value to 75 tokens.\n",
        "# this saves RAM during testing and training.\n",
        "\n",
        "max_length = 75\n",
        "padding_type = 'max_length'"
      ]
    },
    {
      "cell_type": "markdown",
      "source": [
        "The following helper function applying tokenizaion and padding to each review found in the dataframe before passing it on to our classifier model. This is so that all of the matrices (when speaking in terms of matrices of tokens) are of the same dimension which reduces the compute power needed to run the model on Colab. "
      ],
      "metadata": {
        "id": "bQOT3iAFSZnK"
      }
    },
    {
      "cell_type": "code",
      "execution_count": null,
      "metadata": {
        "id": "RpOEWmDOxxbJ"
      },
      "outputs": [],
      "source": [
        "# function to tokenize the sentences and return tokens and padding.\n",
        "# taken from class 26 lecture notes.\n",
        "\n",
        "def tokenize_sentences(sent):\n",
        "  input_ids = []\n",
        "  attention_mask = []\n",
        "  token_ids = []\n",
        "\n",
        "  for i in tqdm(range(len(sent))):\n",
        "    sentence = sent[i]\n",
        "    encoded = tokenizer.encode_plus(text=sentence,\n",
        "                                    add_special_tokens=True,\n",
        "                                    padding=padding_type,\n",
        "                                    max_length=max_length,\n",
        "                                    truncation=True,\n",
        "                                    return_token_type_ids=True,\n",
        "                                    return_tensors='pt')\n",
        "\n",
        "    input_ids.append(encoded['input_ids'])\n",
        "    attention_mask.append(encoded['attention_mask'])\n",
        "\n",
        "  input_ids = torch.cat(input_ids, dim=0, out=None)\n",
        "  attention_mask = torch.cat(attention_mask, dim=0, out=None)\n",
        "\n",
        "  return input_ids, attention_mask"
      ]
    },
    {
      "cell_type": "code",
      "execution_count": null,
      "metadata": {
        "colab": {
          "base_uri": "https://localhost:8080/"
        },
        "id": "vYkuzMQYx0xG",
        "outputId": "2a32b228-aebe-48c9-f3d5-55e960734a57"
      },
      "outputs": [
        {
          "output_type": "stream",
          "name": "stderr",
          "text": [
            "100%|██████████| 30123/30123 [00:30<00:00, 981.39it/s] \n"
          ]
        }
      ],
      "source": [
        "# prepare new sentences.\n",
        "\n",
        "test_input_ids, test_attention_mask = tokenize_sentences(GraduateHotels_alltext['text'])\n",
        "\n",
        "# converts the data into formats usable by tensorflow.\n",
        "\n",
        "test_array = TensorDataset(test_input_ids, test_attention_mask)\n",
        "test_loader = DataLoader(test_array, batch_size=8)"
      ]
    },
    {
      "cell_type": "code",
      "execution_count": null,
      "metadata": {
        "id": "0NTot16cx56U",
        "colab": {
          "base_uri": "https://localhost:8080/"
        },
        "outputId": "53821bbb-3e0e-4e59-92e0-5506d65d409d"
      },
      "outputs": [
        {
          "output_type": "stream",
          "name": "stderr",
          "text": [
            "PyTorch: setting up devices\n",
            "The default value for the training argument `--report_to` will change in v5 (from all installed integrations to none). In v5, you will need to use `--report_to all` to get the same behavior as now. You should start updating your code and make this info disappear :-).\n"
          ]
        }
      ],
      "source": [
        "# define the training arguments.\n",
        "\n",
        "training_args = TrainingArguments(\n",
        "\t\toutput_dir=' ',\n",
        "\t\tlogging_dir=' ',\n",
        "\t\t)\n",
        "\n",
        "# load and set the Trainer class from huggingface.\n",
        "\n",
        "trainer = Trainer(\n",
        "\t\tmodel=model,\n",
        "\t\targs=training_args,\n",
        "\t\ttrain_dataset=test_loader,\n",
        "\t\teval_dataset=test_loader\n",
        "\t\t)"
      ]
    },
    {
      "cell_type": "code",
      "execution_count": null,
      "metadata": {
        "id": "TmTxscwix-67"
      },
      "outputs": [],
      "source": [
        "##do not run\n",
        "\n",
        "# model set to evaluation mode.\n",
        "\n",
        "model.eval()\n",
        "\n",
        "# CRUCIAL: use the GPU if generating csv files for the first time.\n",
        "\n",
        "device = torch.device('cuda' if torch.cuda.is_available() else 'cpu')\n",
        "\n",
        "# store the predictions in lists.\n",
        "\n",
        "test_pred_labels = []\n",
        "test_pred_scores = []\n",
        "with torch.no_grad():\n",
        "    for input_ids, attn_mask in test_loader:\n",
        "        input_ids = input_ids.to(device)\n",
        "        attn_mask = attn_mask.to(device)\n",
        "        outputs = model(input_ids, attn_mask)\n",
        "        outputs = outputs['logits']\n",
        "        test_pred_labels.extend(torch.argmax(outputs, 1).cpu().detach().numpy().tolist())\n",
        "        test_pred_scores.extend(torch.max(torch.softmax(outputs, 1), 1)[0].cpu().detach().numpy().tolist())"
      ]
    },
    {
      "cell_type": "code",
      "execution_count": null,
      "metadata": {
        "id": "_191Po_Qyh_X"
      },
      "outputs": [],
      "source": [
        "# store the predictions for sentences and their labels in a new dataframe.\n",
        "\n",
        "df = pd.DataFrame({'sentences': GraduateHotels_alltext['text'], \n",
        "                   'predicted_labels': test_pred_labels,\n",
        "                   'predicted_scores': test_pred_scores\n",
        "                   })"
      ]
    },
    {
      "cell_type": "markdown",
      "source": [],
      "metadata": {
        "id": "rfGfRYk7S2oO"
      }
    },
    {
      "cell_type": "code",
      "execution_count": null,
      "metadata": {
        "id": "yGGoPekJGyMK",
        "colab": {
          "base_uri": "https://localhost:8080/",
          "height": 554
        },
        "outputId": "c487021b-1d18-433a-e8cd-311783d5e0ce"
      },
      "outputs": [
        {
          "output_type": "display_data",
          "data": {
            "text/plain": [
              "                                                                                                                                                                                                                                                                                                         sentences  \\\n",
              "3901   We stayed here on our visit to UNC and absolutely loved it. I was very pleasantly surprised by the amenities that this hotel offered. The business center was very convo enemy and the concierge was kind enough to set up a shuttle to the university for a class visit. The beds were very comfortable...   \n",
              "10431                                                                               We stayed here for a tournament. We asked for a microwave and Matt brought it to us very quickly and set it up for us. He was also outstanding and very kind even though it was very late Saturday night. Thank you very much.   \n",
              "6482                                                                                                                 We were in town for our Daughter to interview for the Masters Program at USC. We were there for 4 days, only got a room at the Inn for the last  night. Had to book elsewhere the other days.   \n",
              "10680  I was coming to Knoxville to attend UTK's orientation and booked at this hotel as the location was so convenient. Unfortunately the booking process and billing was not. When I booked the UTK's rate my booking dates were changed without me noticing until I had confirmed the booking. I immediately...   \n",
              "13296  A classic hotel in downtown Providence.   The suites are so comfortable, the staff is great.  A great location - walking distance to many fine restaurants.    I certify that this review is my genuine opinion of this hotel, and that I have no personal or business affiliation with this establishme...   \n",
              "...                                                                                                                                                                                                                                                                                                            ...   \n",
              "8168                                                                                                                                                                                                                                                 Went for a conference. The hotel staff did a really good job.   \n",
              "12987                                                                                                                                                                                                                      Great venue for a professional conference. Staff worked hard to have a smooth schedule.   \n",
              "13151                                                                                                                                                                                                                      Great venue for a professional conference. Staff worked hard to have a smooth schedule.   \n",
              "10140                                                                                                                                                                                                                                                                         Had a conference there, very snazzy.   \n",
              "8336                                                                                                                                                                                                                                                                             Nice hotel for business meetings.   \n",
              "\n",
              "       predicted_labels  predicted_scores  \n",
              "3901                  1          0.500187  \n",
              "10431                 1          0.500300  \n",
              "6482                  1          0.500328  \n",
              "10680                 1          0.501571  \n",
              "13296                 1          0.503707  \n",
              "...                 ...               ...  \n",
              "8168                  1          0.956970  \n",
              "12987                 1          0.957196  \n",
              "13151                 1          0.957196  \n",
              "10140                 1          0.958613  \n",
              "8336                  1          0.960694  \n",
              "\n",
              "[1628 rows x 3 columns]"
            ],
            "text/html": [
              "\n",
              "  <div id=\"df-5d4e5270-a847-4c8b-aa38-8da0acc746e5\">\n",
              "    <div class=\"colab-df-container\">\n",
              "      <div>\n",
              "<style scoped>\n",
              "    .dataframe tbody tr th:only-of-type {\n",
              "        vertical-align: middle;\n",
              "    }\n",
              "\n",
              "    .dataframe tbody tr th {\n",
              "        vertical-align: top;\n",
              "    }\n",
              "\n",
              "    .dataframe thead th {\n",
              "        text-align: right;\n",
              "    }\n",
              "</style>\n",
              "<table border=\"1\" class=\"dataframe\">\n",
              "  <thead>\n",
              "    <tr style=\"text-align: right;\">\n",
              "      <th></th>\n",
              "      <th>sentences</th>\n",
              "      <th>predicted_labels</th>\n",
              "      <th>predicted_scores</th>\n",
              "    </tr>\n",
              "  </thead>\n",
              "  <tbody>\n",
              "    <tr>\n",
              "      <th>3901</th>\n",
              "      <td>We stayed here on our visit to UNC and absolutely loved it. I was very pleasantly surprised by the amenities that this hotel offered. The business center was very convo enemy and the concierge was kind enough to set up a shuttle to the university for a class visit. The beds were very comfortable...</td>\n",
              "      <td>1</td>\n",
              "      <td>0.500187</td>\n",
              "    </tr>\n",
              "    <tr>\n",
              "      <th>10431</th>\n",
              "      <td>We stayed here for a tournament. We asked for a microwave and Matt brought it to us very quickly and set it up for us. He was also outstanding and very kind even though it was very late Saturday night. Thank you very much.</td>\n",
              "      <td>1</td>\n",
              "      <td>0.500300</td>\n",
              "    </tr>\n",
              "    <tr>\n",
              "      <th>6482</th>\n",
              "      <td>We were in town for our Daughter to interview for the Masters Program at USC. We were there for 4 days, only got a room at the Inn for the last  night. Had to book elsewhere the other days.</td>\n",
              "      <td>1</td>\n",
              "      <td>0.500328</td>\n",
              "    </tr>\n",
              "    <tr>\n",
              "      <th>10680</th>\n",
              "      <td>I was coming to Knoxville to attend UTK's orientation and booked at this hotel as the location was so convenient. Unfortunately the booking process and billing was not. When I booked the UTK's rate my booking dates were changed without me noticing until I had confirmed the booking. I immediately...</td>\n",
              "      <td>1</td>\n",
              "      <td>0.501571</td>\n",
              "    </tr>\n",
              "    <tr>\n",
              "      <th>13296</th>\n",
              "      <td>A classic hotel in downtown Providence.   The suites are so comfortable, the staff is great.  A great location - walking distance to many fine restaurants.    I certify that this review is my genuine opinion of this hotel, and that I have no personal or business affiliation with this establishme...</td>\n",
              "      <td>1</td>\n",
              "      <td>0.503707</td>\n",
              "    </tr>\n",
              "    <tr>\n",
              "      <th>...</th>\n",
              "      <td>...</td>\n",
              "      <td>...</td>\n",
              "      <td>...</td>\n",
              "    </tr>\n",
              "    <tr>\n",
              "      <th>8168</th>\n",
              "      <td>Went for a conference. The hotel staff did a really good job.</td>\n",
              "      <td>1</td>\n",
              "      <td>0.956970</td>\n",
              "    </tr>\n",
              "    <tr>\n",
              "      <th>12987</th>\n",
              "      <td>Great venue for a professional conference. Staff worked hard to have a smooth schedule.</td>\n",
              "      <td>1</td>\n",
              "      <td>0.957196</td>\n",
              "    </tr>\n",
              "    <tr>\n",
              "      <th>13151</th>\n",
              "      <td>Great venue for a professional conference. Staff worked hard to have a smooth schedule.</td>\n",
              "      <td>1</td>\n",
              "      <td>0.957196</td>\n",
              "    </tr>\n",
              "    <tr>\n",
              "      <th>10140</th>\n",
              "      <td>Had a conference there, very snazzy.</td>\n",
              "      <td>1</td>\n",
              "      <td>0.958613</td>\n",
              "    </tr>\n",
              "    <tr>\n",
              "      <th>8336</th>\n",
              "      <td>Nice hotel for business meetings.</td>\n",
              "      <td>1</td>\n",
              "      <td>0.960694</td>\n",
              "    </tr>\n",
              "  </tbody>\n",
              "</table>\n",
              "<p>1628 rows × 3 columns</p>\n",
              "</div>\n",
              "      <button class=\"colab-df-convert\" onclick=\"convertToInteractive('df-5d4e5270-a847-4c8b-aa38-8da0acc746e5')\"\n",
              "              title=\"Convert this dataframe to an interactive table.\"\n",
              "              style=\"display:none;\">\n",
              "        \n",
              "  <svg xmlns=\"http://www.w3.org/2000/svg\" height=\"24px\"viewBox=\"0 0 24 24\"\n",
              "       width=\"24px\">\n",
              "    <path d=\"M0 0h24v24H0V0z\" fill=\"none\"/>\n",
              "    <path d=\"M18.56 5.44l.94 2.06.94-2.06 2.06-.94-2.06-.94-.94-2.06-.94 2.06-2.06.94zm-11 1L8.5 8.5l.94-2.06 2.06-.94-2.06-.94L8.5 2.5l-.94 2.06-2.06.94zm10 10l.94 2.06.94-2.06 2.06-.94-2.06-.94-.94-2.06-.94 2.06-2.06.94z\"/><path d=\"M17.41 7.96l-1.37-1.37c-.4-.4-.92-.59-1.43-.59-.52 0-1.04.2-1.43.59L10.3 9.45l-7.72 7.72c-.78.78-.78 2.05 0 2.83L4 21.41c.39.39.9.59 1.41.59.51 0 1.02-.2 1.41-.59l7.78-7.78 2.81-2.81c.8-.78.8-2.07 0-2.86zM5.41 20L4 18.59l7.72-7.72 1.47 1.35L5.41 20z\"/>\n",
              "  </svg>\n",
              "      </button>\n",
              "      \n",
              "  <style>\n",
              "    .colab-df-container {\n",
              "      display:flex;\n",
              "      flex-wrap:wrap;\n",
              "      gap: 12px;\n",
              "    }\n",
              "\n",
              "    .colab-df-convert {\n",
              "      background-color: #E8F0FE;\n",
              "      border: none;\n",
              "      border-radius: 50%;\n",
              "      cursor: pointer;\n",
              "      display: none;\n",
              "      fill: #1967D2;\n",
              "      height: 32px;\n",
              "      padding: 0 0 0 0;\n",
              "      width: 32px;\n",
              "    }\n",
              "\n",
              "    .colab-df-convert:hover {\n",
              "      background-color: #E2EBFA;\n",
              "      box-shadow: 0px 1px 2px rgba(60, 64, 67, 0.3), 0px 1px 3px 1px rgba(60, 64, 67, 0.15);\n",
              "      fill: #174EA6;\n",
              "    }\n",
              "\n",
              "    [theme=dark] .colab-df-convert {\n",
              "      background-color: #3B4455;\n",
              "      fill: #D2E3FC;\n",
              "    }\n",
              "\n",
              "    [theme=dark] .colab-df-convert:hover {\n",
              "      background-color: #434B5C;\n",
              "      box-shadow: 0px 1px 3px 1px rgba(0, 0, 0, 0.15);\n",
              "      filter: drop-shadow(0px 1px 2px rgba(0, 0, 0, 0.3));\n",
              "      fill: #FFFFFF;\n",
              "    }\n",
              "  </style>\n",
              "\n",
              "      <script>\n",
              "        const buttonEl =\n",
              "          document.querySelector('#df-5d4e5270-a847-4c8b-aa38-8da0acc746e5 button.colab-df-convert');\n",
              "        buttonEl.style.display =\n",
              "          google.colab.kernel.accessAllowed ? 'block' : 'none';\n",
              "\n",
              "        async function convertToInteractive(key) {\n",
              "          const element = document.querySelector('#df-5d4e5270-a847-4c8b-aa38-8da0acc746e5');\n",
              "          const dataTable =\n",
              "            await google.colab.kernel.invokeFunction('convertToInteractive',\n",
              "                                                     [key], {});\n",
              "          if (!dataTable) return;\n",
              "\n",
              "          const docLinkHtml = 'Like what you see? Visit the ' +\n",
              "            '<a target=\"_blank\" href=https://colab.research.google.com/notebooks/data_table.ipynb>data table notebook</a>'\n",
              "            + ' to learn more about interactive tables.';\n",
              "          element.innerHTML = '';\n",
              "          dataTable['output_type'] = 'display_data';\n",
              "          await google.colab.output.renderOutput(dataTable, element);\n",
              "          const docLink = document.createElement('div');\n",
              "          docLink.innerHTML = docLinkHtml;\n",
              "          element.appendChild(docLink);\n",
              "        }\n",
              "      </script>\n",
              "    </div>\n",
              "  </div>\n",
              "  "
            ]
          },
          "metadata": {}
        }
      ],
      "source": [
        "# let's see what our fine-tuned model classified as positive samples.\n",
        "\n",
        "pd.set_option('max_colwidth', 300)\n",
        "display(df[df.predicted_labels==1].sort_values(by=['predicted_scores']))"
      ]
    },
    {
      "cell_type": "code",
      "execution_count": null,
      "metadata": {
        "id": "8g1amq4sG7dd",
        "colab": {
          "base_uri": "https://localhost:8080/",
          "height": 589
        },
        "outputId": "d2b66ee2-8684-4268-d044-9ecd1a5942b3"
      },
      "outputs": [
        {
          "output_type": "display_data",
          "data": {
            "text/plain": [
              "                                                                                                                                                                                                                                                                                                         sentences  \\\n",
              "2392   I'm not a fan of being so close to campus, but I enjoyed my stay at the hotel. It was convenient for my work meeting; the room was cute and adequately clean. The bed was VERY comfortable. The room smelled musty upon check-in but with open windows and the fan going, it aired out nicely. The room ...   \n",
              "9710   I just called the hotel today to inquire about a reservation I made in February for August 2020. I was planning on staying there during the Madison Mini-Marathon as I had the previous year but due to the pandemic the race was cancelled. I knew when I booked they had a \"no refund\" policy and I wa...   \n",
              "11705                                                                                                                                                                                                                                                                                 Internet failed quite often.   \n",
              "4562   Unfortunately I am still dealing with this issue two months after the fact. I made a reservation three months ago for a one night stay in late June through Hotels.com. Well before the cancellation cut off for Hotels.com, I canceled my reservation at The Graduate through Hotels.com cause I found ...   \n",
              "5236   I had some meetings to attend at this hotel, and did not know much about Cincinnati, but this is in a revitalizing area of the City, in the middle of the University area.  And near hospitals.  The rooms were very clean and well appointed.  Breakfast was delightful, with beautiful fresh fruits yo...   \n",
              "...                                                                                                                                                                                                                                                                                                            ...   \n",
              "8224                                           Walking distance to shops, restaurants, town square. Spacious room, good linens, great service. Just avoid the 64/94 restaurant--go hungry, don't eat there, or walk a block to one of the good restaurants. The lobby bar is GOOD. It is separate from restaurant.   \n",
              "8185                                                                                                                                                                                                                                    Wished there was a hot tub, also the staff was really friendly and helpful   \n",
              "12321                                                                                                                                                                                                                                                 The roof bar has a cool atmosphere, good drinks, decent food   \n",
              "8730   This hotel is very clean and has great staff.  It was a bit pricey for what you get.  2 sodas and an apple juice from room service was $12 . The beds were ok but hated how the frame stuck out on the bottom. Hit my shin on it twice, my daughter three times.  And if you do not like really firm pil...   \n",
              "11491  This hotel has a very nice, clean and comfortable rooms. Large and comfortable bathrooms. Nice and clean hall ways.  Negative: Very long wait for the elevator. Only 2 elevators for this large building. Valet parking - we waited 50 min for a car. Unbelievable! Worst coffee in a shop downstairs - ...   \n",
              "\n",
              "       predicted_labels  predicted_scores  \n",
              "2392                  0          0.501131  \n",
              "9710                  0          0.501319  \n",
              "11705                 0          0.502611  \n",
              "4562                  0          0.502797  \n",
              "5236                  0          0.502869  \n",
              "...                 ...               ...  \n",
              "8224                  0          0.960260  \n",
              "8185                  0          0.960263  \n",
              "12321                 0          0.960540  \n",
              "8730                  0          0.960691  \n",
              "11491                 0          0.961121  \n",
              "\n",
              "[28495 rows x 3 columns]"
            ],
            "text/html": [
              "\n",
              "  <div id=\"df-50125c02-840e-4886-b7ee-dac885eb5295\">\n",
              "    <div class=\"colab-df-container\">\n",
              "      <div>\n",
              "<style scoped>\n",
              "    .dataframe tbody tr th:only-of-type {\n",
              "        vertical-align: middle;\n",
              "    }\n",
              "\n",
              "    .dataframe tbody tr th {\n",
              "        vertical-align: top;\n",
              "    }\n",
              "\n",
              "    .dataframe thead th {\n",
              "        text-align: right;\n",
              "    }\n",
              "</style>\n",
              "<table border=\"1\" class=\"dataframe\">\n",
              "  <thead>\n",
              "    <tr style=\"text-align: right;\">\n",
              "      <th></th>\n",
              "      <th>sentences</th>\n",
              "      <th>predicted_labels</th>\n",
              "      <th>predicted_scores</th>\n",
              "    </tr>\n",
              "  </thead>\n",
              "  <tbody>\n",
              "    <tr>\n",
              "      <th>2392</th>\n",
              "      <td>I'm not a fan of being so close to campus, but I enjoyed my stay at the hotel. It was convenient for my work meeting; the room was cute and adequately clean. The bed was VERY comfortable. The room smelled musty upon check-in but with open windows and the fan going, it aired out nicely. The room ...</td>\n",
              "      <td>0</td>\n",
              "      <td>0.501131</td>\n",
              "    </tr>\n",
              "    <tr>\n",
              "      <th>9710</th>\n",
              "      <td>I just called the hotel today to inquire about a reservation I made in February for August 2020. I was planning on staying there during the Madison Mini-Marathon as I had the previous year but due to the pandemic the race was cancelled. I knew when I booked they had a \"no refund\" policy and I wa...</td>\n",
              "      <td>0</td>\n",
              "      <td>0.501319</td>\n",
              "    </tr>\n",
              "    <tr>\n",
              "      <th>11705</th>\n",
              "      <td>Internet failed quite often.</td>\n",
              "      <td>0</td>\n",
              "      <td>0.502611</td>\n",
              "    </tr>\n",
              "    <tr>\n",
              "      <th>4562</th>\n",
              "      <td>Unfortunately I am still dealing with this issue two months after the fact. I made a reservation three months ago for a one night stay in late June through Hotels.com. Well before the cancellation cut off for Hotels.com, I canceled my reservation at The Graduate through Hotels.com cause I found ...</td>\n",
              "      <td>0</td>\n",
              "      <td>0.502797</td>\n",
              "    </tr>\n",
              "    <tr>\n",
              "      <th>5236</th>\n",
              "      <td>I had some meetings to attend at this hotel, and did not know much about Cincinnati, but this is in a revitalizing area of the City, in the middle of the University area.  And near hospitals.  The rooms were very clean and well appointed.  Breakfast was delightful, with beautiful fresh fruits yo...</td>\n",
              "      <td>0</td>\n",
              "      <td>0.502869</td>\n",
              "    </tr>\n",
              "    <tr>\n",
              "      <th>...</th>\n",
              "      <td>...</td>\n",
              "      <td>...</td>\n",
              "      <td>...</td>\n",
              "    </tr>\n",
              "    <tr>\n",
              "      <th>8224</th>\n",
              "      <td>Walking distance to shops, restaurants, town square. Spacious room, good linens, great service. Just avoid the 64/94 restaurant--go hungry, don't eat there, or walk a block to one of the good restaurants. The lobby bar is GOOD. It is separate from restaurant.</td>\n",
              "      <td>0</td>\n",
              "      <td>0.960260</td>\n",
              "    </tr>\n",
              "    <tr>\n",
              "      <th>8185</th>\n",
              "      <td>Wished there was a hot tub, also the staff was really friendly and helpful</td>\n",
              "      <td>0</td>\n",
              "      <td>0.960263</td>\n",
              "    </tr>\n",
              "    <tr>\n",
              "      <th>12321</th>\n",
              "      <td>The roof bar has a cool atmosphere, good drinks, decent food</td>\n",
              "      <td>0</td>\n",
              "      <td>0.960540</td>\n",
              "    </tr>\n",
              "    <tr>\n",
              "      <th>8730</th>\n",
              "      <td>This hotel is very clean and has great staff.  It was a bit pricey for what you get.  2 sodas and an apple juice from room service was $12 . The beds were ok but hated how the frame stuck out on the bottom. Hit my shin on it twice, my daughter three times.  And if you do not like really firm pil...</td>\n",
              "      <td>0</td>\n",
              "      <td>0.960691</td>\n",
              "    </tr>\n",
              "    <tr>\n",
              "      <th>11491</th>\n",
              "      <td>This hotel has a very nice, clean and comfortable rooms. Large and comfortable bathrooms. Nice and clean hall ways.  Negative: Very long wait for the elevator. Only 2 elevators for this large building. Valet parking - we waited 50 min for a car. Unbelievable! Worst coffee in a shop downstairs - ...</td>\n",
              "      <td>0</td>\n",
              "      <td>0.961121</td>\n",
              "    </tr>\n",
              "  </tbody>\n",
              "</table>\n",
              "<p>28495 rows × 3 columns</p>\n",
              "</div>\n",
              "      <button class=\"colab-df-convert\" onclick=\"convertToInteractive('df-50125c02-840e-4886-b7ee-dac885eb5295')\"\n",
              "              title=\"Convert this dataframe to an interactive table.\"\n",
              "              style=\"display:none;\">\n",
              "        \n",
              "  <svg xmlns=\"http://www.w3.org/2000/svg\" height=\"24px\"viewBox=\"0 0 24 24\"\n",
              "       width=\"24px\">\n",
              "    <path d=\"M0 0h24v24H0V0z\" fill=\"none\"/>\n",
              "    <path d=\"M18.56 5.44l.94 2.06.94-2.06 2.06-.94-2.06-.94-.94-2.06-.94 2.06-2.06.94zm-11 1L8.5 8.5l.94-2.06 2.06-.94-2.06-.94L8.5 2.5l-.94 2.06-2.06.94zm10 10l.94 2.06.94-2.06 2.06-.94-2.06-.94-.94-2.06-.94 2.06-2.06.94z\"/><path d=\"M17.41 7.96l-1.37-1.37c-.4-.4-.92-.59-1.43-.59-.52 0-1.04.2-1.43.59L10.3 9.45l-7.72 7.72c-.78.78-.78 2.05 0 2.83L4 21.41c.39.39.9.59 1.41.59.51 0 1.02-.2 1.41-.59l7.78-7.78 2.81-2.81c.8-.78.8-2.07 0-2.86zM5.41 20L4 18.59l7.72-7.72 1.47 1.35L5.41 20z\"/>\n",
              "  </svg>\n",
              "      </button>\n",
              "      \n",
              "  <style>\n",
              "    .colab-df-container {\n",
              "      display:flex;\n",
              "      flex-wrap:wrap;\n",
              "      gap: 12px;\n",
              "    }\n",
              "\n",
              "    .colab-df-convert {\n",
              "      background-color: #E8F0FE;\n",
              "      border: none;\n",
              "      border-radius: 50%;\n",
              "      cursor: pointer;\n",
              "      display: none;\n",
              "      fill: #1967D2;\n",
              "      height: 32px;\n",
              "      padding: 0 0 0 0;\n",
              "      width: 32px;\n",
              "    }\n",
              "\n",
              "    .colab-df-convert:hover {\n",
              "      background-color: #E2EBFA;\n",
              "      box-shadow: 0px 1px 2px rgba(60, 64, 67, 0.3), 0px 1px 3px 1px rgba(60, 64, 67, 0.15);\n",
              "      fill: #174EA6;\n",
              "    }\n",
              "\n",
              "    [theme=dark] .colab-df-convert {\n",
              "      background-color: #3B4455;\n",
              "      fill: #D2E3FC;\n",
              "    }\n",
              "\n",
              "    [theme=dark] .colab-df-convert:hover {\n",
              "      background-color: #434B5C;\n",
              "      box-shadow: 0px 1px 3px 1px rgba(0, 0, 0, 0.15);\n",
              "      filter: drop-shadow(0px 1px 2px rgba(0, 0, 0, 0.3));\n",
              "      fill: #FFFFFF;\n",
              "    }\n",
              "  </style>\n",
              "\n",
              "      <script>\n",
              "        const buttonEl =\n",
              "          document.querySelector('#df-50125c02-840e-4886-b7ee-dac885eb5295 button.colab-df-convert');\n",
              "        buttonEl.style.display =\n",
              "          google.colab.kernel.accessAllowed ? 'block' : 'none';\n",
              "\n",
              "        async function convertToInteractive(key) {\n",
              "          const element = document.querySelector('#df-50125c02-840e-4886-b7ee-dac885eb5295');\n",
              "          const dataTable =\n",
              "            await google.colab.kernel.invokeFunction('convertToInteractive',\n",
              "                                                     [key], {});\n",
              "          if (!dataTable) return;\n",
              "\n",
              "          const docLinkHtml = 'Like what you see? Visit the ' +\n",
              "            '<a target=\"_blank\" href=https://colab.research.google.com/notebooks/data_table.ipynb>data table notebook</a>'\n",
              "            + ' to learn more about interactive tables.';\n",
              "          element.innerHTML = '';\n",
              "          dataTable['output_type'] = 'display_data';\n",
              "          await google.colab.output.renderOutput(dataTable, element);\n",
              "          const docLink = document.createElement('div');\n",
              "          docLink.innerHTML = docLinkHtml;\n",
              "          element.appendChild(docLink);\n",
              "        }\n",
              "      </script>\n",
              "    </div>\n",
              "  </div>\n",
              "  "
            ]
          },
          "metadata": {}
        }
      ],
      "source": [
        "# let's see what our fine-tuned model classified as negative samples.\n",
        "\n",
        "pd.set_option('max_colwidth', 300)\n",
        "display(df[df.predicted_labels==0].sort_values(by=['predicted_scores']))"
      ]
    },
    {
      "cell_type": "markdown",
      "source": [
        "All of the predictions our classifier made are then outputted to a .csv file to make our immediate analyses of the results faster."
      ],
      "metadata": {
        "id": "0dez1wV_TCjr"
      }
    },
    {
      "cell_type": "code",
      "execution_count": null,
      "metadata": {
        "id": "SMjq8AvB-nEP"
      },
      "outputs": [],
      "source": [
        "# output the predictions to csv files.\n",
        "# this allows for us to read in the predicted csv's as dataframes, which is quicker than instantiatin and running the model every time.\n",
        "\n",
        "FILE_NAME_TO_SAVE = 'GraduateHotels.csv' # Change the file name to whatever you like\n",
        "df.to_csv(FILE_NAME_TO_SAVE, header=True, index=False)"
      ]
    },
    {
      "cell_type": "markdown",
      "source": [
        "## Graduate Hotels Topic Discovery and Sentiment Analysis"
      ],
      "metadata": {
        "id": "PtFe-vD1aTpO"
      }
    },
    {
      "cell_type": "markdown",
      "source": [
        "Now that we have classified our reviews as belonging to two different classes, it's time to start taking a look at topic discovery and sentiment analysis. Similar to the previous methodology, we use our finely tuned BERT model in order to drive these analyses. Note that the order in which BERTopic is installed is crucial to the code working, due to dependency issues within BERTopic."
      ],
      "metadata": {
        "id": "FFf2dhBpTTJY"
      }
    },
    {
      "cell_type": "code",
      "source": [
        "import nltk\n",
        "nltk.download('stopwords')\n",
        "from nltk.corpus import stopwords"
      ],
      "metadata": {
        "colab": {
          "base_uri": "https://localhost:8080/"
        },
        "id": "-zBh1_1mo9x2",
        "outputId": "aaf7bd8d-366c-4e8a-989e-66bdd95d94a1"
      },
      "execution_count": null,
      "outputs": [
        {
          "output_type": "stream",
          "name": "stdout",
          "text": [
            "[nltk_data] Downloading package stopwords to /root/nltk_data...\n",
            "[nltk_data]   Package stopwords is already up-to-date!\n"
          ]
        }
      ]
    },
    {
      "cell_type": "code",
      "source": [
        "import numpy as np\n",
        "# !pip install bertopic\n",
        "from bertopic import BERTopic\n"
      ],
      "metadata": {
        "colab": {
          "base_uri": "https://localhost:8080/",
          "height": 345
        },
        "id": "MiLQOMH4iXv2",
        "outputId": "4549ea5b-bca9-4733-a1d5-a9fff88dc5fc"
      },
      "execution_count": null,
      "outputs": [
        {
          "output_type": "error",
          "ename": "TypeError",
          "evalue": "ignored",
          "traceback": [
            "\u001b[0;31m---------------------------------------------------------------------------\u001b[0m",
            "\u001b[0;31mTypeError\u001b[0m                                 Traceback (most recent call last)",
            "\u001b[0;32m<ipython-input-104-e08454c1ee29>\u001b[0m in \u001b[0;36m<module>\u001b[0;34m()\u001b[0m\n\u001b[1;32m      1\u001b[0m \u001b[0;32mimport\u001b[0m \u001b[0mnumpy\u001b[0m \u001b[0;32mas\u001b[0m \u001b[0mnp\u001b[0m\u001b[0;34m\u001b[0m\u001b[0;34m\u001b[0m\u001b[0m\n\u001b[1;32m      2\u001b[0m \u001b[0;31m# !pip install bertopic\u001b[0m\u001b[0;34m\u001b[0m\u001b[0;34m\u001b[0m\u001b[0;34m\u001b[0m\u001b[0m\n\u001b[0;32m----> 3\u001b[0;31m \u001b[0;32mfrom\u001b[0m \u001b[0mbertopic\u001b[0m \u001b[0;32mimport\u001b[0m \u001b[0mBERTopic\u001b[0m\u001b[0;34m\u001b[0m\u001b[0;34m\u001b[0m\u001b[0m\n\u001b[0m",
            "\u001b[0;32m/usr/local/lib/python3.7/dist-packages/bertopic/__init__.py\u001b[0m in \u001b[0;36m<module>\u001b[0;34m()\u001b[0m\n\u001b[0;32m----> 1\u001b[0;31m \u001b[0;32mfrom\u001b[0m \u001b[0mbertopic\u001b[0m\u001b[0;34m.\u001b[0m\u001b[0m_bertopic\u001b[0m \u001b[0;32mimport\u001b[0m \u001b[0mBERTopic\u001b[0m\u001b[0;34m\u001b[0m\u001b[0;34m\u001b[0m\u001b[0m\n\u001b[0m\u001b[1;32m      2\u001b[0m \u001b[0;34m\u001b[0m\u001b[0m\n\u001b[1;32m      3\u001b[0m \u001b[0m__version__\u001b[0m \u001b[0;34m=\u001b[0m \u001b[0;34m\"0.10.0\"\u001b[0m\u001b[0;34m\u001b[0m\u001b[0;34m\u001b[0m\u001b[0m\n\u001b[1;32m      4\u001b[0m \u001b[0;34m\u001b[0m\u001b[0m\n\u001b[1;32m      5\u001b[0m __all__ = [\n",
            "\u001b[0;32m/usr/local/lib/python3.7/dist-packages/bertopic/_bertopic.py\u001b[0m in \u001b[0;36m<module>\u001b[0;34m()\u001b[0m\n\u001b[1;32m     30\u001b[0m \u001b[0;32mfrom\u001b[0m \u001b[0mbertopic\u001b[0m\u001b[0;34m.\u001b[0m\u001b[0m_mmr\u001b[0m \u001b[0;32mimport\u001b[0m \u001b[0mmmr\u001b[0m\u001b[0;34m\u001b[0m\u001b[0;34m\u001b[0m\u001b[0m\n\u001b[1;32m     31\u001b[0m \u001b[0;32mfrom\u001b[0m \u001b[0mbertopic\u001b[0m\u001b[0;34m.\u001b[0m\u001b[0mbackend\u001b[0m\u001b[0;34m.\u001b[0m\u001b[0m_utils\u001b[0m \u001b[0;32mimport\u001b[0m \u001b[0mselect_backend\u001b[0m\u001b[0;34m\u001b[0m\u001b[0;34m\u001b[0m\u001b[0m\n\u001b[0;32m---> 32\u001b[0;31m \u001b[0;32mfrom\u001b[0m \u001b[0mbertopic\u001b[0m \u001b[0;32mimport\u001b[0m \u001b[0mplotting\u001b[0m\u001b[0;34m\u001b[0m\u001b[0;34m\u001b[0m\u001b[0m\n\u001b[0m\u001b[1;32m     33\u001b[0m \u001b[0;34m\u001b[0m\u001b[0m\n\u001b[1;32m     34\u001b[0m \u001b[0;31m# Visualization\u001b[0m\u001b[0;34m\u001b[0m\u001b[0;34m\u001b[0m\u001b[0;34m\u001b[0m\u001b[0m\n",
            "\u001b[0;32m/usr/local/lib/python3.7/dist-packages/bertopic/plotting/__init__.py\u001b[0m in \u001b[0;36m<module>\u001b[0;34m()\u001b[0m\n\u001b[0;32m----> 1\u001b[0;31m \u001b[0;32mfrom\u001b[0m \u001b[0;34m.\u001b[0m\u001b[0m_topics\u001b[0m \u001b[0;32mimport\u001b[0m \u001b[0mvisualize_topics\u001b[0m\u001b[0;34m\u001b[0m\u001b[0;34m\u001b[0m\u001b[0m\n\u001b[0m\u001b[1;32m      2\u001b[0m \u001b[0;32mfrom\u001b[0m \u001b[0;34m.\u001b[0m\u001b[0m_heatmap\u001b[0m \u001b[0;32mimport\u001b[0m \u001b[0mvisualize_heatmap\u001b[0m\u001b[0;34m\u001b[0m\u001b[0;34m\u001b[0m\u001b[0m\n\u001b[1;32m      3\u001b[0m \u001b[0;32mfrom\u001b[0m \u001b[0;34m.\u001b[0m\u001b[0m_barchart\u001b[0m \u001b[0;32mimport\u001b[0m \u001b[0mvisualize_barchart\u001b[0m\u001b[0;34m\u001b[0m\u001b[0;34m\u001b[0m\u001b[0m\n\u001b[1;32m      4\u001b[0m \u001b[0;32mfrom\u001b[0m \u001b[0;34m.\u001b[0m\u001b[0m_term_rank\u001b[0m \u001b[0;32mimport\u001b[0m \u001b[0mvisualize_term_rank\u001b[0m\u001b[0;34m\u001b[0m\u001b[0;34m\u001b[0m\u001b[0m\n\u001b[1;32m      5\u001b[0m \u001b[0;32mfrom\u001b[0m \u001b[0;34m.\u001b[0m\u001b[0m_hierarchy\u001b[0m \u001b[0;32mimport\u001b[0m \u001b[0mvisualize_hierarchy\u001b[0m\u001b[0;34m\u001b[0m\u001b[0;34m\u001b[0m\u001b[0m\n",
            "\u001b[0;32m/usr/local/lib/python3.7/dist-packages/bertopic/plotting/_topics.py\u001b[0m in \u001b[0;36m<module>\u001b[0;34m()\u001b[0m\n\u001b[1;32m      5\u001b[0m \u001b[0;32mfrom\u001b[0m \u001b[0msklearn\u001b[0m\u001b[0;34m.\u001b[0m\u001b[0mpreprocessing\u001b[0m \u001b[0;32mimport\u001b[0m \u001b[0mMinMaxScaler\u001b[0m\u001b[0;34m\u001b[0m\u001b[0;34m\u001b[0m\u001b[0m\n\u001b[1;32m      6\u001b[0m \u001b[0;34m\u001b[0m\u001b[0m\n\u001b[0;32m----> 7\u001b[0;31m \u001b[0;32mimport\u001b[0m \u001b[0mplotly\u001b[0m\u001b[0;34m.\u001b[0m\u001b[0mexpress\u001b[0m \u001b[0;32mas\u001b[0m \u001b[0mpx\u001b[0m\u001b[0;34m\u001b[0m\u001b[0;34m\u001b[0m\u001b[0m\n\u001b[0m\u001b[1;32m      8\u001b[0m \u001b[0;32mimport\u001b[0m \u001b[0mplotly\u001b[0m\u001b[0;34m.\u001b[0m\u001b[0mgraph_objects\u001b[0m \u001b[0;32mas\u001b[0m \u001b[0mgo\u001b[0m\u001b[0;34m\u001b[0m\u001b[0;34m\u001b[0m\u001b[0m\n\u001b[1;32m      9\u001b[0m \u001b[0;34m\u001b[0m\u001b[0m\n",
            "\u001b[0;32m/usr/local/lib/python3.7/dist-packages/plotly/express/__init__.py\u001b[0m in \u001b[0;36m<module>\u001b[0;34m()\u001b[0m\n\u001b[1;32m     13\u001b[0m     )\n\u001b[1;32m     14\u001b[0m \u001b[0;34m\u001b[0m\u001b[0m\n\u001b[0;32m---> 15\u001b[0;31m \u001b[0;32mfrom\u001b[0m \u001b[0;34m.\u001b[0m\u001b[0m_imshow\u001b[0m \u001b[0;32mimport\u001b[0m \u001b[0mimshow\u001b[0m\u001b[0;34m\u001b[0m\u001b[0;34m\u001b[0m\u001b[0m\n\u001b[0m\u001b[1;32m     16\u001b[0m from ._chart_types import (  # noqa: F401\n\u001b[1;32m     17\u001b[0m     \u001b[0mscatter\u001b[0m\u001b[0;34m,\u001b[0m\u001b[0;34m\u001b[0m\u001b[0;34m\u001b[0m\u001b[0m\n",
            "\u001b[0;32m/usr/local/lib/python3.7/dist-packages/plotly/express/_imshow.py\u001b[0m in \u001b[0;36m<module>\u001b[0;34m()\u001b[0m\n\u001b[1;32m      9\u001b[0m \u001b[0;34m\u001b[0m\u001b[0m\n\u001b[1;32m     10\u001b[0m \u001b[0;32mtry\u001b[0m\u001b[0;34m:\u001b[0m\u001b[0;34m\u001b[0m\u001b[0;34m\u001b[0m\u001b[0m\n\u001b[0;32m---> 11\u001b[0;31m     \u001b[0;32mimport\u001b[0m \u001b[0mxarray\u001b[0m\u001b[0;34m\u001b[0m\u001b[0;34m\u001b[0m\u001b[0m\n\u001b[0m\u001b[1;32m     12\u001b[0m \u001b[0;34m\u001b[0m\u001b[0m\n\u001b[1;32m     13\u001b[0m     \u001b[0mxarray_imported\u001b[0m \u001b[0;34m=\u001b[0m \u001b[0;32mTrue\u001b[0m\u001b[0;34m\u001b[0m\u001b[0;34m\u001b[0m\u001b[0m\n",
            "\u001b[0;32m/usr/local/lib/python3.7/dist-packages/xarray/__init__.py\u001b[0m in \u001b[0;36m<module>\u001b[0;34m()\u001b[0m\n\u001b[1;32m      1\u001b[0m \u001b[0;32mimport\u001b[0m \u001b[0mpkg_resources\u001b[0m\u001b[0;34m\u001b[0m\u001b[0;34m\u001b[0m\u001b[0m\n\u001b[1;32m      2\u001b[0m \u001b[0;34m\u001b[0m\u001b[0m\n\u001b[0;32m----> 3\u001b[0;31m \u001b[0;32mfrom\u001b[0m \u001b[0;34m.\u001b[0m \u001b[0;32mimport\u001b[0m \u001b[0mtesting\u001b[0m\u001b[0;34m,\u001b[0m \u001b[0mtutorial\u001b[0m\u001b[0;34m,\u001b[0m \u001b[0mufuncs\u001b[0m\u001b[0;34m\u001b[0m\u001b[0;34m\u001b[0m\u001b[0m\n\u001b[0m\u001b[1;32m      4\u001b[0m from .backends.api import (\n\u001b[1;32m      5\u001b[0m     \u001b[0mload_dataarray\u001b[0m\u001b[0;34m,\u001b[0m\u001b[0;34m\u001b[0m\u001b[0;34m\u001b[0m\u001b[0m\n",
            "\u001b[0;32m/usr/local/lib/python3.7/dist-packages/xarray/tutorial.py\u001b[0m in \u001b[0;36m<module>\u001b[0;34m()\u001b[0m\n\u001b[1;32m     11\u001b[0m \u001b[0;32mimport\u001b[0m \u001b[0mnumpy\u001b[0m \u001b[0;32mas\u001b[0m \u001b[0mnp\u001b[0m\u001b[0;34m\u001b[0m\u001b[0;34m\u001b[0m\u001b[0m\n\u001b[1;32m     12\u001b[0m \u001b[0;34m\u001b[0m\u001b[0m\n\u001b[0;32m---> 13\u001b[0;31m \u001b[0;32mfrom\u001b[0m \u001b[0;34m.\u001b[0m\u001b[0mbackends\u001b[0m\u001b[0;34m.\u001b[0m\u001b[0mapi\u001b[0m \u001b[0;32mimport\u001b[0m \u001b[0mopen_dataset\u001b[0m \u001b[0;32mas\u001b[0m \u001b[0m_open_dataset\u001b[0m\u001b[0;34m\u001b[0m\u001b[0;34m\u001b[0m\u001b[0m\n\u001b[0m\u001b[1;32m     14\u001b[0m \u001b[0;32mfrom\u001b[0m \u001b[0;34m.\u001b[0m\u001b[0mbackends\u001b[0m\u001b[0;34m.\u001b[0m\u001b[0mrasterio_\u001b[0m \u001b[0;32mimport\u001b[0m \u001b[0mopen_rasterio\u001b[0m \u001b[0;32mas\u001b[0m \u001b[0m_open_rasterio\u001b[0m\u001b[0;34m\u001b[0m\u001b[0;34m\u001b[0m\u001b[0m\n\u001b[1;32m     15\u001b[0m \u001b[0;32mfrom\u001b[0m \u001b[0;34m.\u001b[0m\u001b[0mcore\u001b[0m\u001b[0;34m.\u001b[0m\u001b[0mdataarray\u001b[0m \u001b[0;32mimport\u001b[0m \u001b[0mDataArray\u001b[0m\u001b[0;34m\u001b[0m\u001b[0;34m\u001b[0m\u001b[0m\n",
            "\u001b[0;32m/usr/local/lib/python3.7/dist-packages/xarray/backends/__init__.py\u001b[0m in \u001b[0;36m<module>\u001b[0;34m()\u001b[0m\n\u001b[1;32m      4\u001b[0m \u001b[0mformats\u001b[0m\u001b[0;34m.\u001b[0m \u001b[0mThey\u001b[0m \u001b[0mshould\u001b[0m \u001b[0;32mnot\u001b[0m \u001b[0mbe\u001b[0m \u001b[0mused\u001b[0m \u001b[0mdirectly\u001b[0m\u001b[0;34m,\u001b[0m \u001b[0mbut\u001b[0m \u001b[0mrather\u001b[0m \u001b[0mthrough\u001b[0m \u001b[0mDataset\u001b[0m \u001b[0mobjects\u001b[0m\u001b[0;34m.\u001b[0m\u001b[0;34m\u001b[0m\u001b[0;34m\u001b[0m\u001b[0m\n\u001b[1;32m      5\u001b[0m \"\"\"\n\u001b[0;32m----> 6\u001b[0;31m \u001b[0;32mfrom\u001b[0m \u001b[0;34m.\u001b[0m\u001b[0mcfgrib_\u001b[0m \u001b[0;32mimport\u001b[0m \u001b[0mCfGribDataStore\u001b[0m\u001b[0;34m\u001b[0m\u001b[0;34m\u001b[0m\u001b[0m\n\u001b[0m\u001b[1;32m      7\u001b[0m \u001b[0;32mfrom\u001b[0m \u001b[0;34m.\u001b[0m\u001b[0mcommon\u001b[0m \u001b[0;32mimport\u001b[0m \u001b[0mAbstractDataStore\u001b[0m\u001b[0;34m,\u001b[0m \u001b[0mBackendArray\u001b[0m\u001b[0;34m,\u001b[0m \u001b[0mBackendEntrypoint\u001b[0m\u001b[0;34m\u001b[0m\u001b[0;34m\u001b[0m\u001b[0m\n\u001b[1;32m      8\u001b[0m \u001b[0;32mfrom\u001b[0m \u001b[0;34m.\u001b[0m\u001b[0mfile_manager\u001b[0m \u001b[0;32mimport\u001b[0m \u001b[0mCachingFileManager\u001b[0m\u001b[0;34m,\u001b[0m \u001b[0mDummyFileManager\u001b[0m\u001b[0;34m,\u001b[0m \u001b[0mFileManager\u001b[0m\u001b[0;34m\u001b[0m\u001b[0;34m\u001b[0m\u001b[0m\n",
            "\u001b[0;32m/usr/local/lib/python3.7/dist-packages/xarray/backends/cfgrib_.py\u001b[0m in \u001b[0;36m<module>\u001b[0;34m()\u001b[0m\n\u001b[1;32m     14\u001b[0m     \u001b[0m_normalize_path\u001b[0m\u001b[0;34m,\u001b[0m\u001b[0;34m\u001b[0m\u001b[0;34m\u001b[0m\u001b[0m\n\u001b[1;32m     15\u001b[0m )\n\u001b[0;32m---> 16\u001b[0;31m \u001b[0;32mfrom\u001b[0m \u001b[0;34m.\u001b[0m\u001b[0mlocks\u001b[0m \u001b[0;32mimport\u001b[0m \u001b[0mSerializableLock\u001b[0m\u001b[0;34m,\u001b[0m \u001b[0mensure_lock\u001b[0m\u001b[0;34m\u001b[0m\u001b[0;34m\u001b[0m\u001b[0m\n\u001b[0m\u001b[1;32m     17\u001b[0m \u001b[0;32mfrom\u001b[0m \u001b[0;34m.\u001b[0m\u001b[0mstore\u001b[0m \u001b[0;32mimport\u001b[0m \u001b[0mStoreBackendEntrypoint\u001b[0m\u001b[0;34m\u001b[0m\u001b[0;34m\u001b[0m\u001b[0m\n\u001b[1;32m     18\u001b[0m \u001b[0;34m\u001b[0m\u001b[0m\n",
            "\u001b[0;32m/usr/local/lib/python3.7/dist-packages/xarray/backends/locks.py\u001b[0m in \u001b[0;36m<module>\u001b[0;34m()\u001b[0m\n\u001b[1;32m     11\u001b[0m \u001b[0;34m\u001b[0m\u001b[0m\n\u001b[1;32m     12\u001b[0m \u001b[0;32mtry\u001b[0m\u001b[0;34m:\u001b[0m\u001b[0;34m\u001b[0m\u001b[0;34m\u001b[0m\u001b[0m\n\u001b[0;32m---> 13\u001b[0;31m     \u001b[0;32mfrom\u001b[0m \u001b[0mdask\u001b[0m\u001b[0;34m.\u001b[0m\u001b[0mdistributed\u001b[0m \u001b[0;32mimport\u001b[0m \u001b[0mLock\u001b[0m \u001b[0;32mas\u001b[0m \u001b[0mDistributedLock\u001b[0m\u001b[0;34m\u001b[0m\u001b[0;34m\u001b[0m\u001b[0m\n\u001b[0m\u001b[1;32m     14\u001b[0m \u001b[0;32mexcept\u001b[0m \u001b[0mImportError\u001b[0m\u001b[0;34m:\u001b[0m\u001b[0;34m\u001b[0m\u001b[0;34m\u001b[0m\u001b[0m\n\u001b[1;32m     15\u001b[0m     \u001b[0mDistributedLock\u001b[0m \u001b[0;34m=\u001b[0m \u001b[0;32mNone\u001b[0m\u001b[0;34m\u001b[0m\u001b[0;34m\u001b[0m\u001b[0m\n",
            "\u001b[0;32m/usr/local/lib/python3.7/dist-packages/dask/distributed.py\u001b[0m in \u001b[0;36m<module>\u001b[0;34m()\u001b[0m\n\u001b[1;32m      1\u001b[0m \u001b[0;31m# flake8: noqa\u001b[0m\u001b[0;34m\u001b[0m\u001b[0;34m\u001b[0m\u001b[0;34m\u001b[0m\u001b[0m\n\u001b[1;32m      2\u001b[0m \u001b[0;32mtry\u001b[0m\u001b[0;34m:\u001b[0m\u001b[0;34m\u001b[0m\u001b[0;34m\u001b[0m\u001b[0m\n\u001b[0;32m----> 3\u001b[0;31m     \u001b[0;32mfrom\u001b[0m \u001b[0mdistributed\u001b[0m \u001b[0;32mimport\u001b[0m \u001b[0;34m*\u001b[0m\u001b[0;34m\u001b[0m\u001b[0;34m\u001b[0m\u001b[0m\n\u001b[0m\u001b[1;32m      4\u001b[0m \u001b[0;32mexcept\u001b[0m \u001b[0mImportError\u001b[0m\u001b[0;34m:\u001b[0m\u001b[0;34m\u001b[0m\u001b[0;34m\u001b[0m\u001b[0m\n\u001b[1;32m      5\u001b[0m     msg = (\n",
            "\u001b[0;32m/usr/local/lib/python3.7/dist-packages/distributed/__init__.py\u001b[0m in \u001b[0;36m<module>\u001b[0;34m()\u001b[0m\n\u001b[1;32m      1\u001b[0m \u001b[0;32mfrom\u001b[0m \u001b[0m__future__\u001b[0m \u001b[0;32mimport\u001b[0m \u001b[0mprint_function\u001b[0m\u001b[0;34m,\u001b[0m \u001b[0mdivision\u001b[0m\u001b[0;34m,\u001b[0m \u001b[0mabsolute_import\u001b[0m\u001b[0;34m\u001b[0m\u001b[0;34m\u001b[0m\u001b[0m\n\u001b[1;32m      2\u001b[0m \u001b[0;34m\u001b[0m\u001b[0m\n\u001b[0;32m----> 3\u001b[0;31m \u001b[0;32mfrom\u001b[0m \u001b[0;34m.\u001b[0m \u001b[0;32mimport\u001b[0m \u001b[0mconfig\u001b[0m\u001b[0;34m\u001b[0m\u001b[0;34m\u001b[0m\u001b[0m\n\u001b[0m\u001b[1;32m      4\u001b[0m \u001b[0;32mfrom\u001b[0m \u001b[0mdask\u001b[0m\u001b[0;34m.\u001b[0m\u001b[0mconfig\u001b[0m \u001b[0;32mimport\u001b[0m \u001b[0mconfig\u001b[0m\u001b[0;34m\u001b[0m\u001b[0;34m\u001b[0m\u001b[0m\n\u001b[1;32m      5\u001b[0m \u001b[0;32mfrom\u001b[0m \u001b[0;34m.\u001b[0m\u001b[0mactor\u001b[0m \u001b[0;32mimport\u001b[0m \u001b[0mActor\u001b[0m\u001b[0;34m,\u001b[0m \u001b[0mActorFuture\u001b[0m\u001b[0;34m\u001b[0m\u001b[0;34m\u001b[0m\u001b[0m\n",
            "\u001b[0;32m/usr/local/lib/python3.7/dist-packages/distributed/config.py\u001b[0m in \u001b[0;36m<module>\u001b[0;34m()\u001b[0m\n\u001b[1;32m     18\u001b[0m \u001b[0;34m\u001b[0m\u001b[0m\n\u001b[1;32m     19\u001b[0m \u001b[0;32mwith\u001b[0m \u001b[0mopen\u001b[0m\u001b[0;34m(\u001b[0m\u001b[0mfn\u001b[0m\u001b[0;34m)\u001b[0m \u001b[0;32mas\u001b[0m \u001b[0mf\u001b[0m\u001b[0;34m:\u001b[0m\u001b[0;34m\u001b[0m\u001b[0;34m\u001b[0m\u001b[0m\n\u001b[0;32m---> 20\u001b[0;31m     \u001b[0mdefaults\u001b[0m \u001b[0;34m=\u001b[0m \u001b[0myaml\u001b[0m\u001b[0;34m.\u001b[0m\u001b[0mload\u001b[0m\u001b[0;34m(\u001b[0m\u001b[0mf\u001b[0m\u001b[0;34m)\u001b[0m\u001b[0;34m\u001b[0m\u001b[0;34m\u001b[0m\u001b[0m\n\u001b[0m\u001b[1;32m     21\u001b[0m \u001b[0;34m\u001b[0m\u001b[0m\n\u001b[1;32m     22\u001b[0m \u001b[0mdask\u001b[0m\u001b[0;34m.\u001b[0m\u001b[0mconfig\u001b[0m\u001b[0;34m.\u001b[0m\u001b[0mupdate_defaults\u001b[0m\u001b[0;34m(\u001b[0m\u001b[0mdefaults\u001b[0m\u001b[0;34m)\u001b[0m\u001b[0;34m\u001b[0m\u001b[0;34m\u001b[0m\u001b[0m\n",
            "\u001b[0;31mTypeError\u001b[0m: load() missing 1 required positional argument: 'Loader'"
          ]
        }
      ]
    },
    {
      "cell_type": "markdown",
      "source": [
        "We use a lambda function to remove stopwords and clean the reviews a little further before passing it on to our topic discovery model. "
      ],
      "metadata": {
        "id": "2JuNrtwAUCsf"
      }
    },
    {
      "cell_type": "code",
      "source": [
        "# import libraries.\n",
        "\n",
        "import numpy as np\n",
        "from bertopic import BERTopic \n",
        "import nltk\n",
        "from nltk.corpus import stopwords\n",
        "\n",
        "# instantiate the model. \n",
        "\n",
        "model3 = BERTopic(verbose = True, nr_topics = \"auto\",calculate_probabilities=True)\n",
        "\n",
        "# navigate to the directory where where we can output csv files.\n",
        "\n",
        "%cd /content/drive/MyDrive/BUSI488 - Final Project/CSVs\n",
        "gradcsv = pd.read_csv(\"GraduateHotels.csv\")\n",
        "gradcsv_college = gradcsv[gradcsv[\"predicted_labels\"] == 0]\n",
        "gradcsv_college_first5k = gradcsv_college.sample(n=15000)\n",
        "\n",
        "nltk.download('stopwords')\n",
        "stop_words = stopwords.words('english') + ['the','very','we','told','said','get']\n",
        "gradcsv_college_first5k['sentences'] = gradcsv_college_first5k['sentences'].apply(lambda x: ' '.join([word for word in x.split() if word not in (stop_words)]))\n",
        "\n",
        "# pass in our reviews as a list.\n",
        "\n",
        "docs4 = gradcsv_college_first5k['sentences'].tolist()\n",
        "\n",
        "# fit model to data to predict topics.\n",
        "topics, probabilities = model3.fit_transform(docs4)"
      ],
      "metadata": {
        "colab": {
          "base_uri": "https://localhost:8080/",
          "height": 380
        },
        "id": "TunBPL9IZPEv",
        "outputId": "2a0c773d-cd5f-4aeb-bcbd-95ba5b376d0d"
      },
      "execution_count": null,
      "outputs": [
        {
          "output_type": "error",
          "ename": "TypeError",
          "evalue": "ignored",
          "traceback": [
            "\u001b[0;31m---------------------------------------------------------------------------\u001b[0m",
            "\u001b[0;31mTypeError\u001b[0m                                 Traceback (most recent call last)",
            "\u001b[0;32m<ipython-input-105-01a72774ac21>\u001b[0m in \u001b[0;36m<module>\u001b[0;34m()\u001b[0m\n\u001b[1;32m      1\u001b[0m \u001b[0;31m# Import libraries\u001b[0m\u001b[0;34m\u001b[0m\u001b[0;34m\u001b[0m\u001b[0;34m\u001b[0m\u001b[0m\n\u001b[1;32m      2\u001b[0m \u001b[0;32mimport\u001b[0m \u001b[0mnumpy\u001b[0m \u001b[0;32mas\u001b[0m \u001b[0mnp\u001b[0m\u001b[0;34m\u001b[0m\u001b[0;34m\u001b[0m\u001b[0m\n\u001b[0;32m----> 3\u001b[0;31m \u001b[0;32mfrom\u001b[0m \u001b[0mbertopic\u001b[0m \u001b[0;32mimport\u001b[0m \u001b[0mBERTopic\u001b[0m\u001b[0;34m\u001b[0m\u001b[0;34m\u001b[0m\u001b[0m\n\u001b[0m\u001b[1;32m      4\u001b[0m \u001b[0;32mimport\u001b[0m \u001b[0mnltk\u001b[0m\u001b[0;34m\u001b[0m\u001b[0;34m\u001b[0m\u001b[0m\n\u001b[1;32m      5\u001b[0m \u001b[0;32mfrom\u001b[0m \u001b[0mnltk\u001b[0m\u001b[0;34m.\u001b[0m\u001b[0mcorpus\u001b[0m \u001b[0;32mimport\u001b[0m \u001b[0mstopwords\u001b[0m\u001b[0;34m\u001b[0m\u001b[0;34m\u001b[0m\u001b[0m\n",
            "\u001b[0;32m/usr/local/lib/python3.7/dist-packages/bertopic/__init__.py\u001b[0m in \u001b[0;36m<module>\u001b[0;34m()\u001b[0m\n\u001b[0;32m----> 1\u001b[0;31m \u001b[0;32mfrom\u001b[0m \u001b[0mbertopic\u001b[0m\u001b[0;34m.\u001b[0m\u001b[0m_bertopic\u001b[0m \u001b[0;32mimport\u001b[0m \u001b[0mBERTopic\u001b[0m\u001b[0;34m\u001b[0m\u001b[0;34m\u001b[0m\u001b[0m\n\u001b[0m\u001b[1;32m      2\u001b[0m \u001b[0;34m\u001b[0m\u001b[0m\n\u001b[1;32m      3\u001b[0m \u001b[0m__version__\u001b[0m \u001b[0;34m=\u001b[0m \u001b[0;34m\"0.10.0\"\u001b[0m\u001b[0;34m\u001b[0m\u001b[0;34m\u001b[0m\u001b[0m\n\u001b[1;32m      4\u001b[0m \u001b[0;34m\u001b[0m\u001b[0m\n\u001b[1;32m      5\u001b[0m __all__ = [\n",
            "\u001b[0;32m/usr/local/lib/python3.7/dist-packages/bertopic/_bertopic.py\u001b[0m in \u001b[0;36m<module>\u001b[0;34m()\u001b[0m\n\u001b[1;32m     30\u001b[0m \u001b[0;32mfrom\u001b[0m \u001b[0mbertopic\u001b[0m\u001b[0;34m.\u001b[0m\u001b[0m_mmr\u001b[0m \u001b[0;32mimport\u001b[0m \u001b[0mmmr\u001b[0m\u001b[0;34m\u001b[0m\u001b[0;34m\u001b[0m\u001b[0m\n\u001b[1;32m     31\u001b[0m \u001b[0;32mfrom\u001b[0m \u001b[0mbertopic\u001b[0m\u001b[0;34m.\u001b[0m\u001b[0mbackend\u001b[0m\u001b[0;34m.\u001b[0m\u001b[0m_utils\u001b[0m \u001b[0;32mimport\u001b[0m \u001b[0mselect_backend\u001b[0m\u001b[0;34m\u001b[0m\u001b[0;34m\u001b[0m\u001b[0m\n\u001b[0;32m---> 32\u001b[0;31m \u001b[0;32mfrom\u001b[0m \u001b[0mbertopic\u001b[0m \u001b[0;32mimport\u001b[0m \u001b[0mplotting\u001b[0m\u001b[0;34m\u001b[0m\u001b[0;34m\u001b[0m\u001b[0m\n\u001b[0m\u001b[1;32m     33\u001b[0m \u001b[0;34m\u001b[0m\u001b[0m\n\u001b[1;32m     34\u001b[0m \u001b[0;31m# Visualization\u001b[0m\u001b[0;34m\u001b[0m\u001b[0;34m\u001b[0m\u001b[0;34m\u001b[0m\u001b[0m\n",
            "\u001b[0;32m/usr/local/lib/python3.7/dist-packages/bertopic/plotting/__init__.py\u001b[0m in \u001b[0;36m<module>\u001b[0;34m()\u001b[0m\n\u001b[0;32m----> 1\u001b[0;31m \u001b[0;32mfrom\u001b[0m \u001b[0;34m.\u001b[0m\u001b[0m_topics\u001b[0m \u001b[0;32mimport\u001b[0m \u001b[0mvisualize_topics\u001b[0m\u001b[0;34m\u001b[0m\u001b[0;34m\u001b[0m\u001b[0m\n\u001b[0m\u001b[1;32m      2\u001b[0m \u001b[0;32mfrom\u001b[0m \u001b[0;34m.\u001b[0m\u001b[0m_heatmap\u001b[0m \u001b[0;32mimport\u001b[0m \u001b[0mvisualize_heatmap\u001b[0m\u001b[0;34m\u001b[0m\u001b[0;34m\u001b[0m\u001b[0m\n\u001b[1;32m      3\u001b[0m \u001b[0;32mfrom\u001b[0m \u001b[0;34m.\u001b[0m\u001b[0m_barchart\u001b[0m \u001b[0;32mimport\u001b[0m \u001b[0mvisualize_barchart\u001b[0m\u001b[0;34m\u001b[0m\u001b[0;34m\u001b[0m\u001b[0m\n\u001b[1;32m      4\u001b[0m \u001b[0;32mfrom\u001b[0m \u001b[0;34m.\u001b[0m\u001b[0m_term_rank\u001b[0m \u001b[0;32mimport\u001b[0m \u001b[0mvisualize_term_rank\u001b[0m\u001b[0;34m\u001b[0m\u001b[0;34m\u001b[0m\u001b[0m\n\u001b[1;32m      5\u001b[0m \u001b[0;32mfrom\u001b[0m \u001b[0;34m.\u001b[0m\u001b[0m_hierarchy\u001b[0m \u001b[0;32mimport\u001b[0m \u001b[0mvisualize_hierarchy\u001b[0m\u001b[0;34m\u001b[0m\u001b[0;34m\u001b[0m\u001b[0m\n",
            "\u001b[0;32m/usr/local/lib/python3.7/dist-packages/bertopic/plotting/_topics.py\u001b[0m in \u001b[0;36m<module>\u001b[0;34m()\u001b[0m\n\u001b[1;32m      5\u001b[0m \u001b[0;32mfrom\u001b[0m \u001b[0msklearn\u001b[0m\u001b[0;34m.\u001b[0m\u001b[0mpreprocessing\u001b[0m \u001b[0;32mimport\u001b[0m \u001b[0mMinMaxScaler\u001b[0m\u001b[0;34m\u001b[0m\u001b[0;34m\u001b[0m\u001b[0m\n\u001b[1;32m      6\u001b[0m \u001b[0;34m\u001b[0m\u001b[0m\n\u001b[0;32m----> 7\u001b[0;31m \u001b[0;32mimport\u001b[0m \u001b[0mplotly\u001b[0m\u001b[0;34m.\u001b[0m\u001b[0mexpress\u001b[0m \u001b[0;32mas\u001b[0m \u001b[0mpx\u001b[0m\u001b[0;34m\u001b[0m\u001b[0;34m\u001b[0m\u001b[0m\n\u001b[0m\u001b[1;32m      8\u001b[0m \u001b[0;32mimport\u001b[0m \u001b[0mplotly\u001b[0m\u001b[0;34m.\u001b[0m\u001b[0mgraph_objects\u001b[0m \u001b[0;32mas\u001b[0m \u001b[0mgo\u001b[0m\u001b[0;34m\u001b[0m\u001b[0;34m\u001b[0m\u001b[0m\n\u001b[1;32m      9\u001b[0m \u001b[0;34m\u001b[0m\u001b[0m\n",
            "\u001b[0;32m/usr/local/lib/python3.7/dist-packages/plotly/express/__init__.py\u001b[0m in \u001b[0;36m<module>\u001b[0;34m()\u001b[0m\n\u001b[1;32m     13\u001b[0m     )\n\u001b[1;32m     14\u001b[0m \u001b[0;34m\u001b[0m\u001b[0m\n\u001b[0;32m---> 15\u001b[0;31m \u001b[0;32mfrom\u001b[0m \u001b[0;34m.\u001b[0m\u001b[0m_imshow\u001b[0m \u001b[0;32mimport\u001b[0m \u001b[0mimshow\u001b[0m\u001b[0;34m\u001b[0m\u001b[0;34m\u001b[0m\u001b[0m\n\u001b[0m\u001b[1;32m     16\u001b[0m from ._chart_types import (  # noqa: F401\n\u001b[1;32m     17\u001b[0m     \u001b[0mscatter\u001b[0m\u001b[0;34m,\u001b[0m\u001b[0;34m\u001b[0m\u001b[0;34m\u001b[0m\u001b[0m\n",
            "\u001b[0;32m/usr/local/lib/python3.7/dist-packages/plotly/express/_imshow.py\u001b[0m in \u001b[0;36m<module>\u001b[0;34m()\u001b[0m\n\u001b[1;32m      9\u001b[0m \u001b[0;34m\u001b[0m\u001b[0m\n\u001b[1;32m     10\u001b[0m \u001b[0;32mtry\u001b[0m\u001b[0;34m:\u001b[0m\u001b[0;34m\u001b[0m\u001b[0;34m\u001b[0m\u001b[0m\n\u001b[0;32m---> 11\u001b[0;31m     \u001b[0;32mimport\u001b[0m \u001b[0mxarray\u001b[0m\u001b[0;34m\u001b[0m\u001b[0;34m\u001b[0m\u001b[0m\n\u001b[0m\u001b[1;32m     12\u001b[0m \u001b[0;34m\u001b[0m\u001b[0m\n\u001b[1;32m     13\u001b[0m     \u001b[0mxarray_imported\u001b[0m \u001b[0;34m=\u001b[0m \u001b[0;32mTrue\u001b[0m\u001b[0;34m\u001b[0m\u001b[0;34m\u001b[0m\u001b[0m\n",
            "\u001b[0;32m/usr/local/lib/python3.7/dist-packages/xarray/__init__.py\u001b[0m in \u001b[0;36m<module>\u001b[0;34m()\u001b[0m\n\u001b[1;32m      1\u001b[0m \u001b[0;32mimport\u001b[0m \u001b[0mpkg_resources\u001b[0m\u001b[0;34m\u001b[0m\u001b[0;34m\u001b[0m\u001b[0m\n\u001b[1;32m      2\u001b[0m \u001b[0;34m\u001b[0m\u001b[0m\n\u001b[0;32m----> 3\u001b[0;31m \u001b[0;32mfrom\u001b[0m \u001b[0;34m.\u001b[0m \u001b[0;32mimport\u001b[0m \u001b[0mtesting\u001b[0m\u001b[0;34m,\u001b[0m \u001b[0mtutorial\u001b[0m\u001b[0;34m,\u001b[0m \u001b[0mufuncs\u001b[0m\u001b[0;34m\u001b[0m\u001b[0;34m\u001b[0m\u001b[0m\n\u001b[0m\u001b[1;32m      4\u001b[0m from .backends.api import (\n\u001b[1;32m      5\u001b[0m     \u001b[0mload_dataarray\u001b[0m\u001b[0;34m,\u001b[0m\u001b[0;34m\u001b[0m\u001b[0;34m\u001b[0m\u001b[0m\n",
            "\u001b[0;32m/usr/local/lib/python3.7/dist-packages/xarray/tutorial.py\u001b[0m in \u001b[0;36m<module>\u001b[0;34m()\u001b[0m\n\u001b[1;32m     11\u001b[0m \u001b[0;32mimport\u001b[0m \u001b[0mnumpy\u001b[0m \u001b[0;32mas\u001b[0m \u001b[0mnp\u001b[0m\u001b[0;34m\u001b[0m\u001b[0;34m\u001b[0m\u001b[0m\n\u001b[1;32m     12\u001b[0m \u001b[0;34m\u001b[0m\u001b[0m\n\u001b[0;32m---> 13\u001b[0;31m \u001b[0;32mfrom\u001b[0m \u001b[0;34m.\u001b[0m\u001b[0mbackends\u001b[0m\u001b[0;34m.\u001b[0m\u001b[0mapi\u001b[0m \u001b[0;32mimport\u001b[0m \u001b[0mopen_dataset\u001b[0m \u001b[0;32mas\u001b[0m \u001b[0m_open_dataset\u001b[0m\u001b[0;34m\u001b[0m\u001b[0;34m\u001b[0m\u001b[0m\n\u001b[0m\u001b[1;32m     14\u001b[0m \u001b[0;32mfrom\u001b[0m \u001b[0;34m.\u001b[0m\u001b[0mbackends\u001b[0m\u001b[0;34m.\u001b[0m\u001b[0mrasterio_\u001b[0m \u001b[0;32mimport\u001b[0m \u001b[0mopen_rasterio\u001b[0m \u001b[0;32mas\u001b[0m \u001b[0m_open_rasterio\u001b[0m\u001b[0;34m\u001b[0m\u001b[0;34m\u001b[0m\u001b[0m\n\u001b[1;32m     15\u001b[0m \u001b[0;32mfrom\u001b[0m \u001b[0;34m.\u001b[0m\u001b[0mcore\u001b[0m\u001b[0;34m.\u001b[0m\u001b[0mdataarray\u001b[0m \u001b[0;32mimport\u001b[0m \u001b[0mDataArray\u001b[0m\u001b[0;34m\u001b[0m\u001b[0;34m\u001b[0m\u001b[0m\n",
            "\u001b[0;32m/usr/local/lib/python3.7/dist-packages/xarray/backends/__init__.py\u001b[0m in \u001b[0;36m<module>\u001b[0;34m()\u001b[0m\n\u001b[1;32m      4\u001b[0m \u001b[0mformats\u001b[0m\u001b[0;34m.\u001b[0m \u001b[0mThey\u001b[0m \u001b[0mshould\u001b[0m \u001b[0;32mnot\u001b[0m \u001b[0mbe\u001b[0m \u001b[0mused\u001b[0m \u001b[0mdirectly\u001b[0m\u001b[0;34m,\u001b[0m \u001b[0mbut\u001b[0m \u001b[0mrather\u001b[0m \u001b[0mthrough\u001b[0m \u001b[0mDataset\u001b[0m \u001b[0mobjects\u001b[0m\u001b[0;34m.\u001b[0m\u001b[0;34m\u001b[0m\u001b[0;34m\u001b[0m\u001b[0m\n\u001b[1;32m      5\u001b[0m \"\"\"\n\u001b[0;32m----> 6\u001b[0;31m \u001b[0;32mfrom\u001b[0m \u001b[0;34m.\u001b[0m\u001b[0mcfgrib_\u001b[0m \u001b[0;32mimport\u001b[0m \u001b[0mCfGribDataStore\u001b[0m\u001b[0;34m\u001b[0m\u001b[0;34m\u001b[0m\u001b[0m\n\u001b[0m\u001b[1;32m      7\u001b[0m \u001b[0;32mfrom\u001b[0m \u001b[0;34m.\u001b[0m\u001b[0mcommon\u001b[0m \u001b[0;32mimport\u001b[0m \u001b[0mAbstractDataStore\u001b[0m\u001b[0;34m,\u001b[0m \u001b[0mBackendArray\u001b[0m\u001b[0;34m,\u001b[0m \u001b[0mBackendEntrypoint\u001b[0m\u001b[0;34m\u001b[0m\u001b[0;34m\u001b[0m\u001b[0m\n\u001b[1;32m      8\u001b[0m \u001b[0;32mfrom\u001b[0m \u001b[0;34m.\u001b[0m\u001b[0mfile_manager\u001b[0m \u001b[0;32mimport\u001b[0m \u001b[0mCachingFileManager\u001b[0m\u001b[0;34m,\u001b[0m \u001b[0mDummyFileManager\u001b[0m\u001b[0;34m,\u001b[0m \u001b[0mFileManager\u001b[0m\u001b[0;34m\u001b[0m\u001b[0;34m\u001b[0m\u001b[0m\n",
            "\u001b[0;32m/usr/local/lib/python3.7/dist-packages/xarray/backends/cfgrib_.py\u001b[0m in \u001b[0;36m<module>\u001b[0;34m()\u001b[0m\n\u001b[1;32m     14\u001b[0m     \u001b[0m_normalize_path\u001b[0m\u001b[0;34m,\u001b[0m\u001b[0;34m\u001b[0m\u001b[0;34m\u001b[0m\u001b[0m\n\u001b[1;32m     15\u001b[0m )\n\u001b[0;32m---> 16\u001b[0;31m \u001b[0;32mfrom\u001b[0m \u001b[0;34m.\u001b[0m\u001b[0mlocks\u001b[0m \u001b[0;32mimport\u001b[0m \u001b[0mSerializableLock\u001b[0m\u001b[0;34m,\u001b[0m \u001b[0mensure_lock\u001b[0m\u001b[0;34m\u001b[0m\u001b[0;34m\u001b[0m\u001b[0m\n\u001b[0m\u001b[1;32m     17\u001b[0m \u001b[0;32mfrom\u001b[0m \u001b[0;34m.\u001b[0m\u001b[0mstore\u001b[0m \u001b[0;32mimport\u001b[0m \u001b[0mStoreBackendEntrypoint\u001b[0m\u001b[0;34m\u001b[0m\u001b[0;34m\u001b[0m\u001b[0m\n\u001b[1;32m     18\u001b[0m \u001b[0;34m\u001b[0m\u001b[0m\n",
            "\u001b[0;32m/usr/local/lib/python3.7/dist-packages/xarray/backends/locks.py\u001b[0m in \u001b[0;36m<module>\u001b[0;34m()\u001b[0m\n\u001b[1;32m     11\u001b[0m \u001b[0;34m\u001b[0m\u001b[0m\n\u001b[1;32m     12\u001b[0m \u001b[0;32mtry\u001b[0m\u001b[0;34m:\u001b[0m\u001b[0;34m\u001b[0m\u001b[0;34m\u001b[0m\u001b[0m\n\u001b[0;32m---> 13\u001b[0;31m     \u001b[0;32mfrom\u001b[0m \u001b[0mdask\u001b[0m\u001b[0;34m.\u001b[0m\u001b[0mdistributed\u001b[0m \u001b[0;32mimport\u001b[0m \u001b[0mLock\u001b[0m \u001b[0;32mas\u001b[0m \u001b[0mDistributedLock\u001b[0m\u001b[0;34m\u001b[0m\u001b[0;34m\u001b[0m\u001b[0m\n\u001b[0m\u001b[1;32m     14\u001b[0m \u001b[0;32mexcept\u001b[0m \u001b[0mImportError\u001b[0m\u001b[0;34m:\u001b[0m\u001b[0;34m\u001b[0m\u001b[0;34m\u001b[0m\u001b[0m\n\u001b[1;32m     15\u001b[0m     \u001b[0mDistributedLock\u001b[0m \u001b[0;34m=\u001b[0m \u001b[0;32mNone\u001b[0m\u001b[0;34m\u001b[0m\u001b[0;34m\u001b[0m\u001b[0m\n",
            "\u001b[0;32m/usr/local/lib/python3.7/dist-packages/dask/distributed.py\u001b[0m in \u001b[0;36m<module>\u001b[0;34m()\u001b[0m\n\u001b[1;32m      1\u001b[0m \u001b[0;31m# flake8: noqa\u001b[0m\u001b[0;34m\u001b[0m\u001b[0;34m\u001b[0m\u001b[0;34m\u001b[0m\u001b[0m\n\u001b[1;32m      2\u001b[0m \u001b[0;32mtry\u001b[0m\u001b[0;34m:\u001b[0m\u001b[0;34m\u001b[0m\u001b[0;34m\u001b[0m\u001b[0m\n\u001b[0;32m----> 3\u001b[0;31m     \u001b[0;32mfrom\u001b[0m \u001b[0mdistributed\u001b[0m \u001b[0;32mimport\u001b[0m \u001b[0;34m*\u001b[0m\u001b[0;34m\u001b[0m\u001b[0;34m\u001b[0m\u001b[0m\n\u001b[0m\u001b[1;32m      4\u001b[0m \u001b[0;32mexcept\u001b[0m \u001b[0mImportError\u001b[0m\u001b[0;34m:\u001b[0m\u001b[0;34m\u001b[0m\u001b[0;34m\u001b[0m\u001b[0m\n\u001b[1;32m      5\u001b[0m     msg = (\n",
            "\u001b[0;32m/usr/local/lib/python3.7/dist-packages/distributed/__init__.py\u001b[0m in \u001b[0;36m<module>\u001b[0;34m()\u001b[0m\n\u001b[1;32m      1\u001b[0m \u001b[0;32mfrom\u001b[0m \u001b[0m__future__\u001b[0m \u001b[0;32mimport\u001b[0m \u001b[0mprint_function\u001b[0m\u001b[0;34m,\u001b[0m \u001b[0mdivision\u001b[0m\u001b[0;34m,\u001b[0m \u001b[0mabsolute_import\u001b[0m\u001b[0;34m\u001b[0m\u001b[0;34m\u001b[0m\u001b[0m\n\u001b[1;32m      2\u001b[0m \u001b[0;34m\u001b[0m\u001b[0m\n\u001b[0;32m----> 3\u001b[0;31m \u001b[0;32mfrom\u001b[0m \u001b[0;34m.\u001b[0m \u001b[0;32mimport\u001b[0m \u001b[0mconfig\u001b[0m\u001b[0;34m\u001b[0m\u001b[0;34m\u001b[0m\u001b[0m\n\u001b[0m\u001b[1;32m      4\u001b[0m \u001b[0;32mfrom\u001b[0m \u001b[0mdask\u001b[0m\u001b[0;34m.\u001b[0m\u001b[0mconfig\u001b[0m \u001b[0;32mimport\u001b[0m \u001b[0mconfig\u001b[0m\u001b[0;34m\u001b[0m\u001b[0;34m\u001b[0m\u001b[0m\n\u001b[1;32m      5\u001b[0m \u001b[0;32mfrom\u001b[0m \u001b[0;34m.\u001b[0m\u001b[0mactor\u001b[0m \u001b[0;32mimport\u001b[0m \u001b[0mActor\u001b[0m\u001b[0;34m,\u001b[0m \u001b[0mActorFuture\u001b[0m\u001b[0;34m\u001b[0m\u001b[0;34m\u001b[0m\u001b[0m\n",
            "\u001b[0;32m/usr/local/lib/python3.7/dist-packages/distributed/config.py\u001b[0m in \u001b[0;36m<module>\u001b[0;34m()\u001b[0m\n\u001b[1;32m     18\u001b[0m \u001b[0;34m\u001b[0m\u001b[0m\n\u001b[1;32m     19\u001b[0m \u001b[0;32mwith\u001b[0m \u001b[0mopen\u001b[0m\u001b[0;34m(\u001b[0m\u001b[0mfn\u001b[0m\u001b[0;34m)\u001b[0m \u001b[0;32mas\u001b[0m \u001b[0mf\u001b[0m\u001b[0;34m:\u001b[0m\u001b[0;34m\u001b[0m\u001b[0;34m\u001b[0m\u001b[0m\n\u001b[0;32m---> 20\u001b[0;31m     \u001b[0mdefaults\u001b[0m \u001b[0;34m=\u001b[0m \u001b[0myaml\u001b[0m\u001b[0;34m.\u001b[0m\u001b[0mload\u001b[0m\u001b[0;34m(\u001b[0m\u001b[0mf\u001b[0m\u001b[0;34m)\u001b[0m\u001b[0;34m\u001b[0m\u001b[0;34m\u001b[0m\u001b[0m\n\u001b[0m\u001b[1;32m     21\u001b[0m \u001b[0;34m\u001b[0m\u001b[0m\n\u001b[1;32m     22\u001b[0m \u001b[0mdask\u001b[0m\u001b[0;34m.\u001b[0m\u001b[0mconfig\u001b[0m\u001b[0;34m.\u001b[0m\u001b[0mupdate_defaults\u001b[0m\u001b[0;34m(\u001b[0m\u001b[0mdefaults\u001b[0m\u001b[0;34m)\u001b[0m\u001b[0;34m\u001b[0m\u001b[0;34m\u001b[0m\u001b[0m\n",
            "\u001b[0;31mTypeError\u001b[0m: load() missing 1 required positional argument: 'Loader'"
          ]
        }
      ]
    },
    {
      "cell_type": "markdown",
      "source": [
        "Now that the model is run, we can start to take a look at the different topics our model identified for each individual franchise."
      ],
      "metadata": {
        "id": "9eZIgpSUUl0q"
      }
    },
    {
      "cell_type": "code",
      "source": [
        "# seeing how many reviews correlate to each topic.\n",
        "model3.get_topic_freq()"
      ],
      "metadata": {
        "id": "lQO-IhJ_ZumC"
      },
      "execution_count": null,
      "outputs": []
    },
    {
      "cell_type": "code",
      "source": [
        "# we can also find the words that comprise a topic, and the likelihood of those words being foun in reviews classified as being of that topic.\n",
        "\n",
        "model3.get_topic(64)"
      ],
      "metadata": {
        "id": "PPk-TDQTmKTz",
        "colab": {
          "base_uri": "https://localhost:8080/",
          "height": 215
        },
        "outputId": "1339a27e-c8b2-4947-c37e-62b16fa929f7"
      },
      "execution_count": null,
      "outputs": [
        {
          "output_type": "error",
          "ename": "NameError",
          "evalue": "ignored",
          "traceback": [
            "\u001b[0;31m---------------------------------------------------------------------------\u001b[0m",
            "\u001b[0;31mNameError\u001b[0m                                 Traceback (most recent call last)",
            "\u001b[0;32m<ipython-input-1-cc5088e26e54>\u001b[0m in \u001b[0;36m<module>\u001b[0;34m()\u001b[0m\n\u001b[1;32m      1\u001b[0m \u001b[0;31m# we can lso find the words that comprise a topic, and the likelihood of those words being foun in reviews classified as being of that topic.\u001b[0m\u001b[0;34m\u001b[0m\u001b[0;34m\u001b[0m\u001b[0;34m\u001b[0m\u001b[0m\n\u001b[1;32m      2\u001b[0m \u001b[0;34m\u001b[0m\u001b[0m\n\u001b[0;32m----> 3\u001b[0;31m \u001b[0mmodel3\u001b[0m\u001b[0;34m.\u001b[0m\u001b[0mget_topic\u001b[0m\u001b[0;34m(\u001b[0m\u001b[0;36m64\u001b[0m\u001b[0;34m)\u001b[0m\u001b[0;34m\u001b[0m\u001b[0;34m\u001b[0m\u001b[0m\n\u001b[0m",
            "\u001b[0;31mNameError\u001b[0m: name 'model3' is not defined"
          ]
        }
      ]
    },
    {
      "cell_type": "code",
      "execution_count": null,
      "metadata": {
        "id": "u-X_7ET4mhS6"
      },
      "outputs": [],
      "source": [
        "# interactively explore the discovered topics.\n",
        "model3.visualize_topics()"
      ]
    },
    {
      "cell_type": "code",
      "execution_count": null,
      "metadata": {
        "id": "DAWylZx4mhS7"
      },
      "outputs": [],
      "source": [
        "# generates a bar chart of the most relevant words per topic. \n",
        "model3.visualize_barchart()"
      ]
    },
    {
      "cell_type": "code",
      "execution_count": null,
      "metadata": {
        "id": "NQ2MQNSUmhS8"
      },
      "outputs": [],
      "source": [
        "# creates an interactive heatmap.\n",
        "model3.visualize_heatmap()"
      ]
    },
    {
      "cell_type": "code",
      "execution_count": null,
      "metadata": {
        "id": "QNjFYdG-mhS9"
      },
      "outputs": [],
      "source": [
        "# most relevant is with highest score (row 1, and then column, which corresponds to topic number).\n",
        "\n",
        "pd.DataFrame(model3.find_topics(\"wifi\"))"
      ]
    },
    {
      "cell_type": "code",
      "execution_count": null,
      "metadata": {
        "id": "AhxBfhbemhS-"
      },
      "outputs": [],
      "source": [
        "# save model (we name the file after the hotel franchise name).\n",
        "\n",
        "model3.save(\"Graduation test model\")\n",
        "\n",
        "# load model (now we name the model accordingly).\n",
        "\n",
        "graduate_model = BERTopic.load(\"Graduation test model\")\n",
        "\n",
        "# check loaded model.\n",
        "\n",
        "graduate_model.visualize_barchart()"
      ]
    },
    {
      "cell_type": "code",
      "source": [
        "model3.visualize_distribution(probabilities[0])"
      ],
      "metadata": {
        "id": "9a56XohowezA"
      },
      "execution_count": null,
      "outputs": []
    },
    {
      "cell_type": "code",
      "source": [
        "model3.visualize_term_rank()"
      ],
      "metadata": {
        "id": "BJx9uAUf_x2W"
      },
      "execution_count": null,
      "outputs": []
    },
    {
      "cell_type": "code",
      "source": [
        "##assignment of topic number\n",
        "graduatetopics = pd.DataFrame(gradcsv_college_first5k)\n",
        "graduatetopics['Topic'] = topics\n",
        "graduatetopics.rename(columns = {0: \"text\"}, inplace = True)\n",
        "\n",
        "graduatetopics.head(25)"
      ],
      "metadata": {
        "id": "sXTdUD1Su850"
      },
      "execution_count": null,
      "outputs": []
    },
    {
      "cell_type": "markdown",
      "source": [
        "Next, we can start to take a look at the sentiment of each of these topics accross the different franchises. This allows us to get a cleaner picture of how customers feel about the different aspects of hotels, as well as how strongly they feel about it. "
      ],
      "metadata": {
        "id": "2AHxcOJaVnha"
      }
    },
    {
      "cell_type": "code",
      "source": [
        " ## vader sentiment analysis installation.\n",
        "\n",
        "!pip install vaderSentiment"
      ],
      "metadata": {
        "id": "XcYR2lblDCi_",
        "colab": {
          "base_uri": "https://localhost:8080/"
        },
        "outputId": "ac6b46ab-1b27-4f60-a955-cb35cdd62b71"
      },
      "execution_count": null,
      "outputs": [
        {
          "output_type": "stream",
          "name": "stdout",
          "text": [
            "Collecting vaderSentiment\n",
            "  Downloading vaderSentiment-3.3.2-py2.py3-none-any.whl (125 kB)\n",
            "\u001b[?25l\r\u001b[K     |██▋                             | 10 kB 22.0 MB/s eta 0:00:01\r\u001b[K     |█████▏                          | 20 kB 21.7 MB/s eta 0:00:01\r\u001b[K     |███████▉                        | 30 kB 10.5 MB/s eta 0:00:01\r\u001b[K     |██████████▍                     | 40 kB 8.5 MB/s eta 0:00:01\r\u001b[K     |█████████████                   | 51 kB 4.6 MB/s eta 0:00:01\r\u001b[K     |███████████████▋                | 61 kB 5.5 MB/s eta 0:00:01\r\u001b[K     |██████████████████▏             | 71 kB 5.5 MB/s eta 0:00:01\r\u001b[K     |████████████████████▉           | 81 kB 5.5 MB/s eta 0:00:01\r\u001b[K     |███████████████████████▍        | 92 kB 6.0 MB/s eta 0:00:01\r\u001b[K     |██████████████████████████      | 102 kB 5.3 MB/s eta 0:00:01\r\u001b[K     |████████████████████████████▋   | 112 kB 5.3 MB/s eta 0:00:01\r\u001b[K     |███████████████████████████████▏| 122 kB 5.3 MB/s eta 0:00:01\r\u001b[K     |████████████████████████████████| 125 kB 5.3 MB/s \n",
            "\u001b[?25hRequirement already satisfied: requests in /usr/local/lib/python3.7/dist-packages (from vaderSentiment) (2.23.0)\n",
            "Requirement already satisfied: idna<3,>=2.5 in /usr/local/lib/python3.7/dist-packages (from requests->vaderSentiment) (2.10)\n",
            "Requirement already satisfied: chardet<4,>=3.0.2 in /usr/local/lib/python3.7/dist-packages (from requests->vaderSentiment) (3.0.4)\n",
            "Requirement already satisfied: urllib3!=1.25.0,!=1.25.1,<1.26,>=1.21.1 in /usr/local/lib/python3.7/dist-packages (from requests->vaderSentiment) (1.24.3)\n",
            "Requirement already satisfied: certifi>=2017.4.17 in /usr/local/lib/python3.7/dist-packages (from requests->vaderSentiment) (2021.10.8)\n",
            "Installing collected packages: vaderSentiment\n",
            "Successfully installed vaderSentiment-3.3.2\n"
          ]
        }
      ]
    },
    {
      "cell_type": "code",
      "source": [
        "# define a function that returns the polarity score of a sentence.\n",
        "\n",
        "def sentiment_analyzer_scores(sentence):\n",
        "    score = analyser.polarity_scores(sentence)\n",
        "    print(\"{:-<55} {}\".format(sentence, str(score)), \"\\n\")\n",
        "\n",
        "\n",
        "# calculating compound sentiment scores for all reviews:\n",
        "\n",
        "# import the sentiment module.\n",
        "\n",
        "from vaderSentiment.vaderSentiment import SentimentIntensityAnalyzer\n",
        "\n",
        "# import numpy.\n",
        "\n",
        "import numpy as np\n",
        "\n",
        "# instantiate the sentiment analyzer.\n",
        "\n",
        "analyser = SentimentIntensityAnalyzer()\n",
        "\n",
        "# get the compound sentiment score for each review.\n",
        "\n",
        "graduatetopics['sent_score'] = np.nan \n",
        "for index, row in graduatetopics.iterrows():  \n",
        "    graduatetopics.loc[index, 'sent_score'] = analyser.polarity_scores(row['sentences'])['compound']\n",
        "\n",
        "# view results.\n",
        "\n",
        "pd.set_option('display.max_colwidth', None)\n",
        "\n",
        "final_graduate = graduatetopics.drop('predicted_labels', axis = 1)\n",
        "final_graduate = final_graduate.drop('predicted_scores', axis = 1)\n",
        "final_graduate = final_graduate[final_graduate[\"Topic\"] >= 0]\n",
        "top1 = final_graduate.sort_values(by=['sent_score'], ascending = True)\n",
        "top1.head(20)\n",
        "\n"
      ],
      "metadata": {
        "id": "abr_2RM_DYp5",
        "colab": {
          "base_uri": "https://localhost:8080/",
          "height": 235
        },
        "outputId": "65314191-fa79-4e5f-85d7-27f6155c06de"
      },
      "execution_count": null,
      "outputs": [
        {
          "output_type": "error",
          "ename": "NameError",
          "evalue": "ignored",
          "traceback": [
            "\u001b[0;31m---------------------------------------------------------------------------\u001b[0m",
            "\u001b[0;31mNameError\u001b[0m                                 Traceback (most recent call last)",
            "\u001b[0;32m<ipython-input-110-4150e4e8d58b>\u001b[0m in \u001b[0;36m<module>\u001b[0;34m()\u001b[0m\n\u001b[1;32m     17\u001b[0m \u001b[0;34m\u001b[0m\u001b[0m\n\u001b[1;32m     18\u001b[0m \u001b[0;31m# 4. Now get the compound sentiment score for each tweet\u001b[0m\u001b[0;34m\u001b[0m\u001b[0;34m\u001b[0m\u001b[0;34m\u001b[0m\u001b[0m\n\u001b[0;32m---> 19\u001b[0;31m \u001b[0mgraduatetopics\u001b[0m\u001b[0;34m[\u001b[0m\u001b[0;34m'sent_score'\u001b[0m\u001b[0;34m]\u001b[0m \u001b[0;34m=\u001b[0m \u001b[0mnp\u001b[0m\u001b[0;34m.\u001b[0m\u001b[0mnan\u001b[0m \u001b[0;31m# initialize empty comlumn in our tweets dataframe (empty = missing values)\u001b[0m\u001b[0;34m\u001b[0m\u001b[0;34m\u001b[0m\u001b[0m\n\u001b[0m\u001b[1;32m     20\u001b[0m \u001b[0;32mfor\u001b[0m \u001b[0mindex\u001b[0m\u001b[0;34m,\u001b[0m \u001b[0mrow\u001b[0m \u001b[0;32min\u001b[0m \u001b[0mgraduatetopics\u001b[0m\u001b[0;34m.\u001b[0m\u001b[0miterrows\u001b[0m\u001b[0;34m(\u001b[0m\u001b[0;34m)\u001b[0m\u001b[0;34m:\u001b[0m  \u001b[0;31m# loop through all tweets (i.e., rows)\u001b[0m\u001b[0;34m\u001b[0m\u001b[0;34m\u001b[0m\u001b[0m\n\u001b[1;32m     21\u001b[0m     \u001b[0mgraduatetopics\u001b[0m\u001b[0;34m.\u001b[0m\u001b[0mloc\u001b[0m\u001b[0;34m[\u001b[0m\u001b[0mindex\u001b[0m\u001b[0;34m,\u001b[0m \u001b[0;34m'sent_score'\u001b[0m\u001b[0;34m]\u001b[0m \u001b[0;34m=\u001b[0m \u001b[0manalyser\u001b[0m\u001b[0;34m.\u001b[0m\u001b[0mpolarity_scores\u001b[0m\u001b[0;34m(\u001b[0m\u001b[0mrow\u001b[0m\u001b[0;34m[\u001b[0m\u001b[0;34m'sentences'\u001b[0m\u001b[0;34m]\u001b[0m\u001b[0;34m)\u001b[0m\u001b[0;34m[\u001b[0m\u001b[0;34m'compound'\u001b[0m\u001b[0;34m]\u001b[0m\u001b[0;34m\u001b[0m\u001b[0;34m\u001b[0m\u001b[0m\n",
            "\u001b[0;31mNameError\u001b[0m: name 'graduatetopics' is not defined"
          ]
        }
      ]
    },
    {
      "cell_type": "code",
      "source": [
        "# graph data.\n",
        "\n",
        "x = final_graduate['sent_score'] < -0.5\n",
        "x.value_counts()\n",
        "\n",
        "\n",
        "grouped = final_graduate.groupby(\"Topic\")\n",
        "grouped.mean().sort_values(by=['sent_score'], ascending = True)\n"
      ],
      "metadata": {
        "id": "xc_Avq-wZh_J"
      },
      "execution_count": null,
      "outputs": []
    },
    {
      "cell_type": "markdown",
      "source": [
        "Now that we've completed the topic discovery and sentiment analysis for one hotel, the process repeats itself for all six of the hotels we were given reviews for."
      ],
      "metadata": {
        "id": "HiHqx0PhWT_7"
      }
    },
    {
      "cell_type": "markdown",
      "source": [
        "## Ace Hotels Topic Discovery and Sentiment Analysis"
      ],
      "metadata": {
        "id": "OFrQN1UWL1_a"
      }
    },
    {
      "cell_type": "code",
      "source": [
        "\n",
        "model10 = BERTopic(verbose = True, nr_topics = \"auto\",calculate_probabilities=True)\n",
        "\n",
        "\n",
        "%cd /content/drive/MyDrive/BUSI488 - Final Project/CSVs\n",
        "acecsv = pd.read_csv(\"AceHotels.csv\")\n",
        "acecsv_college = acecsv[acecsv[\"predicted_labels\"] == 0]\n",
        "acesamp = acecsv_college.sample(n=11867)\n",
        "\n",
        "\n",
        "nltk.download('stopwords')\n",
        "\n",
        "\n",
        "stop_words = stopwords.words('english') + ['the','very','we','told','said','get']\n",
        "\n",
        "\n",
        "acesamp['sentences'] = acesamp['sentences'].apply(lambda x: ' '.join([word for word in x.split() if word not in (stop_words)]))\n",
        "\n",
        "\n",
        "docs10 = acesamp['sentences'].tolist()\n",
        " \n",
        "\n",
        "topics, probabilities = model10.fit_transform(docs10)"
      ],
      "metadata": {
        "colab": {
          "base_uri": "https://localhost:8080/",
          "height": 235
        },
        "id": "evb4TIw2L9wa",
        "outputId": "80363e3c-e98e-4e88-f00e-940d825b8a0b"
      },
      "execution_count": null,
      "outputs": [
        {
          "output_type": "error",
          "ename": "NameError",
          "evalue": "ignored",
          "traceback": [
            "\u001b[0;31m---------------------------------------------------------------------------\u001b[0m",
            "\u001b[0;31mNameError\u001b[0m                                 Traceback (most recent call last)",
            "\u001b[0;32m<ipython-input-106-97c6447d3cd4>\u001b[0m in \u001b[0;36m<module>\u001b[0;34m()\u001b[0m\n\u001b[1;32m      1\u001b[0m \u001b[0;31m# 1. Instantiate model\u001b[0m\u001b[0;34m\u001b[0m\u001b[0;34m\u001b[0m\u001b[0;34m\u001b[0m\u001b[0m\n\u001b[0;32m----> 2\u001b[0;31m \u001b[0mmodel10\u001b[0m \u001b[0;34m=\u001b[0m \u001b[0mBERTopic\u001b[0m\u001b[0;34m(\u001b[0m\u001b[0mverbose\u001b[0m \u001b[0;34m=\u001b[0m \u001b[0;32mTrue\u001b[0m\u001b[0;34m,\u001b[0m \u001b[0mnr_topics\u001b[0m \u001b[0;34m=\u001b[0m \u001b[0;34m\"auto\"\u001b[0m\u001b[0;34m,\u001b[0m\u001b[0mcalculate_probabilities\u001b[0m\u001b[0;34m=\u001b[0m\u001b[0;32mTrue\u001b[0m\u001b[0;34m)\u001b[0m\u001b[0;34m\u001b[0m\u001b[0;34m\u001b[0m\u001b[0m\n\u001b[0m\u001b[1;32m      3\u001b[0m \u001b[0;34m\u001b[0m\u001b[0m\n\u001b[1;32m      4\u001b[0m \u001b[0;31m##interjection\u001b[0m\u001b[0;34m\u001b[0m\u001b[0;34m\u001b[0m\u001b[0;34m\u001b[0m\u001b[0m\n\u001b[1;32m      5\u001b[0m \u001b[0mget_ipython\u001b[0m\u001b[0;34m(\u001b[0m\u001b[0;34m)\u001b[0m\u001b[0;34m.\u001b[0m\u001b[0mmagic\u001b[0m\u001b[0;34m(\u001b[0m\u001b[0;34m'cd /content/drive/MyDrive/BUSI488 - Final Project/CSVs'\u001b[0m\u001b[0;34m)\u001b[0m\u001b[0;34m\u001b[0m\u001b[0;34m\u001b[0m\u001b[0m\n",
            "\u001b[0;31mNameError\u001b[0m: name 'BERTopic' is not defined"
          ]
        }
      ]
    },
    {
      "cell_type": "code",
      "source": [
        "docs10"
      ],
      "metadata": {
        "id": "DNgjLo1oL9wb"
      },
      "execution_count": null,
      "outputs": []
    },
    {
      "cell_type": "code",
      "source": [
        "\n",
        "model10.get_topic_freq()"
      ],
      "metadata": {
        "id": "mYouC5K2L9wc"
      },
      "execution_count": null,
      "outputs": []
    },
    {
      "cell_type": "code",
      "source": [
        "model10.get_topic_info()"
      ],
      "metadata": {
        "id": "XPig0jlHL9wd"
      },
      "execution_count": null,
      "outputs": []
    },
    {
      "cell_type": "code",
      "source": [
        "model10.get_topic(4)"
      ],
      "metadata": {
        "id": "YW42-rYJL9wd"
      },
      "execution_count": null,
      "outputs": []
    },
    {
      "cell_type": "code",
      "execution_count": null,
      "metadata": {
        "id": "YYRILYObL9we"
      },
      "outputs": [],
      "source": [
        "model10.visualize_topics()"
      ]
    },
    {
      "cell_type": "code",
      "execution_count": null,
      "metadata": {
        "id": "rnvcH9w_L9wf"
      },
      "outputs": [],
      "source": [
        "model10.visualize_barchart()"
      ]
    },
    {
      "cell_type": "code",
      "execution_count": null,
      "metadata": {
        "id": "01EfqCjWL9wf"
      },
      "outputs": [],
      "source": [
        "model10.visualize_heatmap()"
      ]
    },
    {
      "cell_type": "code",
      "execution_count": null,
      "metadata": {
        "id": "_Nso6gQYL9wg"
      },
      "outputs": [],
      "source": [
        "pd.DataFrame(model10.find_topics(\"wifi\"))"
      ]
    },
    {
      "cell_type": "code",
      "execution_count": null,
      "metadata": {
        "id": "O_Abo2bZL9wg"
      },
      "outputs": [],
      "source": [
        "model10.save(\"Ace Hotel model\")\n",
        "\n",
        "ace_model = BERTopic.load(\"Ace Hotel model\")\n",
        "\n",
        "ace_model.visualize_barchart()"
      ]
    },
    {
      "cell_type": "code",
      "source": [
        "model10.visualize_distribution(probabilities[0])"
      ],
      "metadata": {
        "id": "ATpcYnwCL9wh"
      },
      "execution_count": null,
      "outputs": []
    },
    {
      "cell_type": "code",
      "source": [
        "model10.visualize_term_rank()"
      ],
      "metadata": {
        "id": "ReBrCwsLL9wh"
      },
      "execution_count": null,
      "outputs": []
    },
    {
      "cell_type": "code",
      "source": [
        "acetopics = pd.DataFrame(acesamp)\n",
        "acetopics['Topic'] = topics\n",
        "acetopics.rename(columns = {0: \"text\"}, inplace = True)\n",
        "\n",
        "acetopics.head(25)\n",
        "\n"
      ],
      "metadata": {
        "id": "RhyQ7PBEL9wi"
      },
      "execution_count": null,
      "outputs": []
    },
    {
      "cell_type": "code",
      "source": [
        "def sentiment_analyzer_scores(sentence):\n",
        "    score = analyser.polarity_scores(sentence)\n",
        "    print(\"{:-<55} {}\".format(sentence, str(score)), \"\\n\")\n",
        "\n",
        "\n",
        "\n",
        "from vaderSentiment.vaderSentiment import SentimentIntensityAnalyzer\n",
        "\n",
        "import numpy as np\n",
        "\n",
        "analyser = SentimentIntensityAnalyzer()\n",
        "\n",
        "acetopics['sent_score'] = np.nan \n",
        "for index, row in acetopics.iterrows(): \n",
        "    acetopics.loc[index, 'sent_score'] = analyser.polarity_scores(row['sentences'])['compound']\n",
        "\n",
        "pd.set_option('display.max_colwidth', None)\n",
        "\n",
        "final_ace = acetopics.drop('predicted_labels', axis = 1)\n",
        "final_ace = final_ace.drop('predicted_scores', axis = 1)\n",
        "top2 = final_ace.sort_values(by=['sent_score'], ascending = False)\n",
        "top2.head(20)"
      ],
      "metadata": {
        "id": "kZQxcC1SPRD2"
      },
      "execution_count": null,
      "outputs": []
    },
    {
      "cell_type": "code",
      "source": [
        "x = final_ace['sent_score'].mean()\n",
        "x\n",
        "\n",
        "\n",
        "grouped = final_ace.groupby(\"Topic\")\n",
        "grouped.mean().sort_values(by=['sent_score'], ascending = True)"
      ],
      "metadata": {
        "id": "kpOqLW7ngKrC"
      },
      "execution_count": null,
      "outputs": []
    },
    {
      "cell_type": "markdown",
      "source": [
        "## Hoxton Hotels Topic Discovery and Sentiment Analysis\n"
      ],
      "metadata": {
        "id": "va71vBpBPxqq"
      }
    },
    {
      "cell_type": "code",
      "source": [
        "model11 = BERTopic(verbose = True, nr_topics = \"auto\",calculate_probabilities=True)\n",
        "\n",
        "%cd /content/drive/MyDrive/BUSI488 - Final Project/CSVs\n",
        "hoxcsv = pd.read_csv(\"HoxtonHotels.csv\")\n",
        "hoxcsv_college = hoxcsv[hoxcsv[\"predicted_labels\"] == 0]\n",
        "hoxsamp = hoxcsv_college.sample(n=15000)\n",
        "\n",
        "\n",
        "nltk.download('stopwords')\n",
        "\n",
        "\n",
        "stop_words = stopwords.words('english') + ['the','very','we','told','said','get']\n",
        "\n",
        "\n",
        "hoxsamp['sentences'] = hoxsamp['sentences'].apply(lambda x: ' '.join([word for word in x.split() if word not in (stop_words)]))\n",
        "\n",
        "\n",
        "docs11 = hoxsamp['sentences'].tolist()\n",
        " \n",
        "topics, probabilities = model11.fit_transform(docs11)"
      ],
      "metadata": {
        "id": "7lNxtgPpQGd8"
      },
      "execution_count": null,
      "outputs": []
    },
    {
      "cell_type": "code",
      "source": [
        "docs11"
      ],
      "metadata": {
        "id": "6kJHiqKZQGd9"
      },
      "execution_count": null,
      "outputs": []
    },
    {
      "cell_type": "code",
      "source": [
        "model11.get_topic_freq()"
      ],
      "metadata": {
        "id": "2TEo8QKhQGd-"
      },
      "execution_count": null,
      "outputs": []
    },
    {
      "cell_type": "code",
      "source": [
        "model11.get_topic_info()"
      ],
      "metadata": {
        "id": "IUXbO9coQGd_"
      },
      "execution_count": null,
      "outputs": []
    },
    {
      "cell_type": "code",
      "source": [
        "model11.get_topic(4)"
      ],
      "metadata": {
        "id": "AFqIoA_rQGd_"
      },
      "execution_count": null,
      "outputs": []
    },
    {
      "cell_type": "code",
      "execution_count": null,
      "metadata": {
        "id": "OIcxiExPQGeA"
      },
      "outputs": [],
      "source": [
        "model11.visualize_topics()"
      ]
    },
    {
      "cell_type": "code",
      "execution_count": null,
      "metadata": {
        "id": "0ykFne5oQGeA"
      },
      "outputs": [],
      "source": [
        "model11.visualize_barchart()"
      ]
    },
    {
      "cell_type": "code",
      "execution_count": null,
      "metadata": {
        "id": "nMgIpYtxQGeB"
      },
      "outputs": [],
      "source": [
        "model11.visualize_heatmap()"
      ]
    },
    {
      "cell_type": "code",
      "execution_count": null,
      "metadata": {
        "id": "uMs6nOINQGeC"
      },
      "outputs": [],
      "source": [
        "pd.DataFrame(model11.find_topics(\"wifi\"))"
      ]
    },
    {
      "cell_type": "code",
      "execution_count": null,
      "metadata": {
        "id": "fqKTyHoIQGeC"
      },
      "outputs": [],
      "source": [
        "model11.save(\"Hoxton Hotel model\")\n",
        "\n",
        "hox_model = BERTopic.load(\"Hoxton Hotel model\")\n",
        "\n",
        "hox_model.visualize_barchart()"
      ]
    },
    {
      "cell_type": "code",
      "source": [
        "model11.visualize_distribution(probabilities[0])"
      ],
      "metadata": {
        "id": "cyPOoiU3QGeD"
      },
      "execution_count": null,
      "outputs": []
    },
    {
      "cell_type": "code",
      "source": [
        "model11.visualize_term_rank()"
      ],
      "metadata": {
        "id": "w1FUEhjUQGeD"
      },
      "execution_count": null,
      "outputs": []
    },
    {
      "cell_type": "code",
      "source": [
        "hoxtopics = pd.DataFrame(hoxsamp)\n",
        "hoxtopics['Topic'] = topics\n",
        "hoxtopics.rename(columns = {0: \"text\"}, inplace = True)\n",
        "\n",
        "hoxtopics.head(25)"
      ],
      "metadata": {
        "id": "rJNvpUkFQGeE"
      },
      "execution_count": null,
      "outputs": []
    },
    {
      "cell_type": "code",
      "source": [
        "def sentiment_analyzer_scores(sentence):\n",
        "    score = analyser.polarity_scores(sentence)\n",
        "    print(\"{:-<55} {}\".format(sentence, str(score)), \"\\n\")\n",
        "\n",
        "\n",
        "from vaderSentiment.vaderSentiment import SentimentIntensityAnalyzer\n",
        "\n",
        "import numpy as np\n",
        "\n",
        "analyser = SentimentIntensityAnalyzer()\n",
        "\n",
        "hoxtopics['sent_score'] = np.nan \n",
        "for index, row in hoxtopics.iterrows():  \n",
        "    hoxtopics.loc[index, 'sent_score'] = analyser.polarity_scores(row['sentences'])['compound']\n",
        "\n",
        "pd.set_option('display.max_colwidth', None)\n",
        "\n",
        "final_hoxton = hoxtopics.drop('predicted_labels', axis = 1)\n",
        "final_hoxton = final_hoxton.drop('predicted_scores', axis = 1)\n",
        "top3 = final_hoxton.sort_values(by=['sent_score'], ascending = False)\n",
        "top3.head(20)"
      ],
      "metadata": {
        "id": "dXhv62_8QGeF"
      },
      "execution_count": null,
      "outputs": []
    },
    {
      "cell_type": "markdown",
      "source": [
        "## Study Hotels Topic Discovery and Sentiment Analysis"
      ],
      "metadata": {
        "id": "tb_ibO51SWyx"
      }
    },
    {
      "cell_type": "code",
      "source": [
        "model12 = BERTopic(verbose = True, nr_topics = \"auto\",calculate_probabilities=True)\n",
        "\n",
        "%cd /content/drive/MyDrive/BUSI488 - Final Project/CSVs\n",
        "stucsv = pd.read_csv(\"StudyHotels.csv\")\n",
        "stucsv_college = stucsv[stucsv[\"predicted_labels\"] == 0]\n",
        "stusamp = stucsv_college.sample(n=1650)\n",
        "\n",
        "nltk.download('stopwords')\n",
        "\n",
        "stop_words = stopwords.words('english') + ['the','very','we','told','said','get']\n",
        "\n",
        "stusamp['sentences'] = stusamp['sentences'].apply(lambda x: ' '.join([word for word in x.split() if word not in (stop_words)]))\n",
        "\n",
        "docs12 = stusamp['sentences'].tolist()\n",
        "\n",
        "topics, probabilities = model12.fit_transform(docs12)"
      ],
      "metadata": {
        "id": "E2AJaWmvSj2X"
      },
      "execution_count": null,
      "outputs": []
    },
    {
      "cell_type": "code",
      "source": [
        "docs12"
      ],
      "metadata": {
        "id": "oSJvmyg-Sj2Y"
      },
      "execution_count": null,
      "outputs": []
    },
    {
      "cell_type": "code",
      "source": [
        "model12.get_topic_freq()"
      ],
      "metadata": {
        "id": "nzVXff9qSj2Z"
      },
      "execution_count": null,
      "outputs": []
    },
    {
      "cell_type": "code",
      "source": [
        "model12.get_topic_info()"
      ],
      "metadata": {
        "id": "YPc85-nTSj2a"
      },
      "execution_count": null,
      "outputs": []
    },
    {
      "cell_type": "code",
      "source": [
        "model12.get_topic(4)"
      ],
      "metadata": {
        "id": "9AEyfY1ASj2a"
      },
      "execution_count": null,
      "outputs": []
    },
    {
      "cell_type": "code",
      "execution_count": null,
      "metadata": {
        "id": "bm3SvI2bSj2b"
      },
      "outputs": [],
      "source": [
        "model12.visualize_topics()"
      ]
    },
    {
      "cell_type": "code",
      "execution_count": null,
      "metadata": {
        "id": "kpNnugQkSj2c"
      },
      "outputs": [],
      "source": [
        "model12.visualize_barchart()"
      ]
    },
    {
      "cell_type": "code",
      "execution_count": null,
      "metadata": {
        "id": "Ohhr1fp-Sj2c"
      },
      "outputs": [],
      "source": [
        "model12.visualize_heatmap()"
      ]
    },
    {
      "cell_type": "code",
      "execution_count": null,
      "metadata": {
        "id": "kzjuPh2TSj2d"
      },
      "outputs": [],
      "source": [
        "pd.DataFrame(model12.find_topics(\"wifi\"))"
      ]
    },
    {
      "cell_type": "code",
      "execution_count": null,
      "metadata": {
        "id": "WEvSDAzBSj2e"
      },
      "outputs": [],
      "source": [
        "model12.save(\"Study Hotel model\")\n",
        "\n",
        "stu_model = BERTopic.load(\"Study Hotel model\")\n",
        "\n",
        "stu_model.visualize_barchart()"
      ]
    },
    {
      "cell_type": "code",
      "source": [
        "model12.visualize_distribution(probabilities[0])"
      ],
      "metadata": {
        "id": "J_oH_D_pSj2f"
      },
      "execution_count": null,
      "outputs": []
    },
    {
      "cell_type": "code",
      "source": [
        "model12.visualize_term_rank()"
      ],
      "metadata": {
        "id": "E7nnnMotSj2f"
      },
      "execution_count": null,
      "outputs": []
    },
    {
      "cell_type": "code",
      "source": [
        "stutopics = pd.DataFrame(stusamp)\n",
        "stutopics['Topic'] = topics\n",
        "stutopics.rename(columns = {0: \"text\"}, inplace = True)\n",
        "\n",
        "stutopics.head(25)\n",
        "\n"
      ],
      "metadata": {
        "id": "FAUFZcY5Sj2g"
      },
      "execution_count": null,
      "outputs": []
    },
    {
      "cell_type": "code",
      "source": [
        "def sentiment_analyzer_scores(sentence):\n",
        "    score = analyser.polarity_scores(sentence)\n",
        "    print(\"{:-<55} {}\".format(sentence, str(score)), \"\\n\")\n",
        "\n",
        "\n",
        "from vaderSentiment.vaderSentiment import SentimentIntensityAnalyzer\n",
        "\n",
        "import numpy as np\n",
        "\n",
        "analyser = SentimentIntensityAnalyzer()\n",
        "\n",
        "stutopics['sent_score'] = np.nan \n",
        "for index, row in stutopics.iterrows():  \n",
        "    stutopics.loc[index, 'sent_score'] = analyser.polarity_scores(row['sentences'])['compound']\n",
        "\n",
        "pd.set_option('display.max_colwidth', None)\n",
        "\n",
        "final_study = stutopics.drop('predicted_labels', axis = 1)\n",
        "final_study = final_study.drop('predicted_scores', axis = 1)\n",
        "top4 = final_study.sort_values(by=['sent_score'], ascending = False)\n",
        "top4.head(20)"
      ],
      "metadata": {
        "id": "E0XBYBIqSj2g"
      },
      "execution_count": null,
      "outputs": []
    },
    {
      "cell_type": "markdown",
      "source": [
        "## Standard Hotels Topic Discovery and Sentiment Analysis\n"
      ],
      "metadata": {
        "id": "5rheXNYsUrHe"
      }
    },
    {
      "cell_type": "code",
      "source": [
        "model13 = BERTopic(verbose = True, nr_topics = \"auto\",calculate_probabilities=True)\n",
        "\n",
        "%cd /content/drive/MyDrive/BUSI488 - Final Project/CSVs\n",
        "stacsv = pd.read_csv(\"StandardHotels.csv\")\n",
        "stacsv_college = stacsv[stacsv[\"predicted_labels\"] == 0]\n",
        "stasamp = stacsv_college.sample(n=12856)\n",
        "\n",
        "\n",
        "nltk.download('stopwords')\n",
        "\n",
        "\n",
        "stop_words = stopwords.words('english') + ['the','very','we','told','said','get']\n",
        "\n",
        "\n",
        "stasamp['sentences'] = stasamp['sentences'].apply(lambda x: ' '.join([word for word in x.split() if word not in (stop_words)]))\n",
        "\n",
        "docs13 = stasamp['sentences'].tolist()\n",
        " \n",
        "topics, probabilities = model13.fit_transform(docs13)"
      ],
      "metadata": {
        "id": "OSGJ8sFLUyvG",
        "colab": {
          "base_uri": "https://localhost:8080/",
          "height": 235
        },
        "outputId": "c41f992e-d3fe-4f5c-842d-a8c31e955c8d"
      },
      "execution_count": null,
      "outputs": [
        {
          "output_type": "error",
          "ename": "NameError",
          "evalue": "ignored",
          "traceback": [
            "\u001b[0;31m---------------------------------------------------------------------------\u001b[0m",
            "\u001b[0;31mNameError\u001b[0m                                 Traceback (most recent call last)",
            "\u001b[0;32m<ipython-input-92-4fffe72e0858>\u001b[0m in \u001b[0;36m<module>\u001b[0;34m()\u001b[0m\n\u001b[1;32m      1\u001b[0m \u001b[0;31m# 1. Instantiate model\u001b[0m\u001b[0;34m\u001b[0m\u001b[0;34m\u001b[0m\u001b[0;34m\u001b[0m\u001b[0m\n\u001b[0;32m----> 2\u001b[0;31m \u001b[0mmodel13\u001b[0m \u001b[0;34m=\u001b[0m \u001b[0mBERTopic\u001b[0m\u001b[0;34m(\u001b[0m\u001b[0mverbose\u001b[0m \u001b[0;34m=\u001b[0m \u001b[0;32mTrue\u001b[0m\u001b[0;34m,\u001b[0m \u001b[0mnr_topics\u001b[0m \u001b[0;34m=\u001b[0m \u001b[0;34m\"auto\"\u001b[0m\u001b[0;34m,\u001b[0m\u001b[0mcalculate_probabilities\u001b[0m\u001b[0;34m=\u001b[0m\u001b[0;32mTrue\u001b[0m\u001b[0;34m)\u001b[0m\u001b[0;34m\u001b[0m\u001b[0;34m\u001b[0m\u001b[0m\n\u001b[0m\u001b[1;32m      3\u001b[0m \u001b[0;34m\u001b[0m\u001b[0m\n\u001b[1;32m      4\u001b[0m \u001b[0;31m##interjection\u001b[0m\u001b[0;34m\u001b[0m\u001b[0;34m\u001b[0m\u001b[0;34m\u001b[0m\u001b[0m\n\u001b[1;32m      5\u001b[0m \u001b[0mget_ipython\u001b[0m\u001b[0;34m(\u001b[0m\u001b[0;34m)\u001b[0m\u001b[0;34m.\u001b[0m\u001b[0mmagic\u001b[0m\u001b[0;34m(\u001b[0m\u001b[0;34m'cd /content/drive/MyDrive/BUSI488 - Final Project/CSVs'\u001b[0m\u001b[0;34m)\u001b[0m\u001b[0;34m\u001b[0m\u001b[0;34m\u001b[0m\u001b[0m\n",
            "\u001b[0;31mNameError\u001b[0m: name 'BERTopic' is not defined"
          ]
        }
      ]
    },
    {
      "cell_type": "code",
      "source": [
        "docs13"
      ],
      "metadata": {
        "id": "KlHnSUhPUyvH"
      },
      "execution_count": null,
      "outputs": []
    },
    {
      "cell_type": "code",
      "source": [
        "model13.get_topic_freq()"
      ],
      "metadata": {
        "id": "ebSzmZY1UyvI"
      },
      "execution_count": null,
      "outputs": []
    },
    {
      "cell_type": "code",
      "source": [
        "model13.get_topic_info()"
      ],
      "metadata": {
        "id": "YqaJzVumUyvJ"
      },
      "execution_count": null,
      "outputs": []
    },
    {
      "cell_type": "code",
      "source": [
        "model13.get_topic(4)"
      ],
      "metadata": {
        "id": "aGll5Jq-UyvJ"
      },
      "execution_count": null,
      "outputs": []
    },
    {
      "cell_type": "code",
      "execution_count": null,
      "metadata": {
        "id": "u7AMfZjQUyvK"
      },
      "outputs": [],
      "source": [
        "model13.visualize_topics()"
      ]
    },
    {
      "cell_type": "code",
      "execution_count": null,
      "metadata": {
        "id": "0kmLsvuEUyvK"
      },
      "outputs": [],
      "source": [
        "model13.visualize_barchart()"
      ]
    },
    {
      "cell_type": "code",
      "execution_count": null,
      "metadata": {
        "id": "cSZSC7apUyvL"
      },
      "outputs": [],
      "source": [
        "model13.visualize_heatmap()"
      ]
    },
    {
      "cell_type": "code",
      "execution_count": null,
      "metadata": {
        "id": "o2RYutlKUyvM"
      },
      "outputs": [],
      "source": [
        "pd.DataFrame(model13.find_topics(\"wifi\"))\n"
      ]
    },
    {
      "cell_type": "code",
      "execution_count": null,
      "metadata": {
        "id": "On-4-AjKUyvM"
      },
      "outputs": [],
      "source": [
        "model13.save(\"Standard Hotel model\")\n",
        "\n",
        "sta_model = BERTopic.load(\"Standard Hotel model\")\n",
        "\n",
        "sta_model.visualize_barchart()"
      ]
    },
    {
      "cell_type": "code",
      "source": [
        "model13.visualize_distribution(probabilities[0])"
      ],
      "metadata": {
        "id": "UXYxJhGPUyvN"
      },
      "execution_count": null,
      "outputs": []
    },
    {
      "cell_type": "code",
      "source": [
        "model13.visualize_term_rank()"
      ],
      "metadata": {
        "id": "G5AqNz6vUyvO"
      },
      "execution_count": null,
      "outputs": []
    },
    {
      "cell_type": "code",
      "source": [
        "statopics = pd.DataFrame(stasamp)\n",
        "statopics['Topic'] = topics\n",
        "statopics.rename(columns = {0: \"text\"}, inplace = True)\n",
        "\n",
        "statopics.head(25)"
      ],
      "metadata": {
        "id": "ZOtx1xxNUyvO"
      },
      "execution_count": null,
      "outputs": []
    },
    {
      "cell_type": "code",
      "source": [
        "def sentiment_analyzer_scores(sentence):\n",
        "    score = analyser.polarity_scores(sentence)\n",
        "    print(\"{:-<55} {}\".format(sentence, str(score)), \"\\n\")\n",
        "\n",
        "from vaderSentiment.vaderSentiment import SentimentIntensityAnalyzer\n",
        "\n",
        "import numpy as np\n",
        "\n",
        "analyser = SentimentIntensityAnalyzer()\n",
        "\n",
        "statopics['sent_score'] = np.nan \n",
        "for index, row in statopics.iterrows(): \n",
        "    statopics.loc[index, 'sent_score'] = analyser.polarity_scores(row['sentences'])['compound']\n",
        "\n",
        "pd.set_option('display.max_colwidth', None)\n",
        "\n",
        "final_standard = statopics.drop('predicted_labels', axis = 1)\n",
        "final_standard = final_standard.drop('predicted_scores', axis = 1)\n",
        "top5 = final_standard.sort_values(by=['sent_score'], ascending = False)\n",
        "top5.head(20)"
      ],
      "metadata": {
        "id": "qnGmVIC6UyvP",
        "colab": {
          "base_uri": "https://localhost:8080/",
          "height": 235
        },
        "outputId": "0d595d5c-43fe-4ea6-ece8-13e55263a53c"
      },
      "execution_count": null,
      "outputs": [
        {
          "output_type": "error",
          "ename": "NameError",
          "evalue": "ignored",
          "traceback": [
            "\u001b[0;31m---------------------------------------------------------------------------\u001b[0m",
            "\u001b[0;31mNameError\u001b[0m                                 Traceback (most recent call last)",
            "\u001b[0;32m<ipython-input-87-bccc2ca5b12e>\u001b[0m in \u001b[0;36m<module>\u001b[0;34m()\u001b[0m\n\u001b[1;32m     17\u001b[0m \u001b[0;34m\u001b[0m\u001b[0m\n\u001b[1;32m     18\u001b[0m \u001b[0;31m# 4. Now get the compound sentiment score for each tweet\u001b[0m\u001b[0;34m\u001b[0m\u001b[0;34m\u001b[0m\u001b[0;34m\u001b[0m\u001b[0m\n\u001b[0;32m---> 19\u001b[0;31m \u001b[0mstatopics\u001b[0m\u001b[0;34m[\u001b[0m\u001b[0;34m'sent_score'\u001b[0m\u001b[0;34m]\u001b[0m \u001b[0;34m=\u001b[0m \u001b[0mnp\u001b[0m\u001b[0;34m.\u001b[0m\u001b[0mnan\u001b[0m \u001b[0;31m# initialize empty comlumn in our tweets dataframe (empty = missing values)\u001b[0m\u001b[0;34m\u001b[0m\u001b[0;34m\u001b[0m\u001b[0m\n\u001b[0m\u001b[1;32m     20\u001b[0m \u001b[0;32mfor\u001b[0m \u001b[0mindex\u001b[0m\u001b[0;34m,\u001b[0m \u001b[0mrow\u001b[0m \u001b[0;32min\u001b[0m \u001b[0mstatopics\u001b[0m\u001b[0;34m.\u001b[0m\u001b[0miterrows\u001b[0m\u001b[0;34m(\u001b[0m\u001b[0;34m)\u001b[0m\u001b[0;34m:\u001b[0m  \u001b[0;31m# loop through all tweets (i.e., rows)\u001b[0m\u001b[0;34m\u001b[0m\u001b[0;34m\u001b[0m\u001b[0m\n\u001b[1;32m     21\u001b[0m     \u001b[0mstatopics\u001b[0m\u001b[0;34m.\u001b[0m\u001b[0mloc\u001b[0m\u001b[0;34m[\u001b[0m\u001b[0mindex\u001b[0m\u001b[0;34m,\u001b[0m \u001b[0;34m'sent_score'\u001b[0m\u001b[0;34m]\u001b[0m \u001b[0;34m=\u001b[0m \u001b[0manalyser\u001b[0m\u001b[0;34m.\u001b[0m\u001b[0mpolarity_scores\u001b[0m\u001b[0;34m(\u001b[0m\u001b[0mrow\u001b[0m\u001b[0;34m[\u001b[0m\u001b[0;34m'sentences'\u001b[0m\u001b[0;34m]\u001b[0m\u001b[0;34m)\u001b[0m\u001b[0;34m[\u001b[0m\u001b[0;34m'compound'\u001b[0m\u001b[0;34m]\u001b[0m\u001b[0;34m\u001b[0m\u001b[0;34m\u001b[0m\u001b[0m\n",
            "\u001b[0;31mNameError\u001b[0m: name 'statopics' is not defined"
          ]
        }
      ]
    },
    {
      "cell_type": "markdown",
      "source": [
        "## Altair"
      ],
      "metadata": {
        "id": "qwxwXHkcBEAx"
      }
    },
    {
      "cell_type": "markdown",
      "source": [
        "We will use the sentiment analyzer code above in order to develop visualizations of the positive and negative sentiment across different hotel chains."
      ],
      "metadata": {
        "id": "tik80lz2Xo7T"
      }
    },
    {
      "cell_type": "code",
      "source": [
        "# 3. Define a function that returns the polarity score of a sentence\n",
        "def sentiment_analyzer_scores(sentence):\n",
        "    score = analyser.polarity_scores(sentence)\n",
        "    print(\"{:-<55} {}\".format(sentence, str(score)), \"\\n\")\n",
        "\n",
        "\n",
        "# 1. Import the sentiment module (in case you haven't already done so)\n",
        "from vaderSentiment.vaderSentiment import SentimentIntensityAnalyzer\n",
        "\n",
        "# 2. Import numpy (in case you have not already done so)\n",
        "import numpy as np\n",
        "\n",
        "# 3. Instantiate the sentiment analyzer (in case you haven't already done so)\n",
        "analyser = SentimentIntensityAnalyzer()\n",
        "\n",
        "# 4. Now get the compound sentiment score for each review\n",
        "GraduateHotels_alltext['sent_score'] = np.nan \n",
        "for index, row in GraduateHotels_alltext.iterrows():  \n",
        "    GraduateHotels_alltext.loc[index, 'sent_score'] = analyser.polarity_scores(row['text'])['compound']\n",
        "\n",
        "# 5. Let's take a look!\n",
        "pd.set_option('display.max_colwidth', None)\n",
        "\n"
      ],
      "metadata": {
        "id": "vyK0VtnC8YSL"
      },
      "execution_count": null,
      "outputs": []
    },
    {
      "cell_type": "code",
      "source": [
        "grad_appendable = GraduateHotels_alltext"
      ],
      "metadata": {
        "id": "8GgY18O0ADwi"
      },
      "execution_count": null,
      "outputs": []
    },
    {
      "cell_type": "code",
      "source": [
        "def sentiment_analyzer_scores(sentence):\n",
        "    score = analyser.polarity_scores(sentence)\n",
        "    print(\"{:-<55} {}\".format(sentence, str(score)), \"\\n\")\n",
        "\n",
        "# 1. Import the sentiment module (in case you haven't already done so)\n",
        "from vaderSentiment.vaderSentiment import SentimentIntensityAnalyzer\n",
        "\n",
        "# 2. Import numpy (in case you have not already done so)\n",
        "import numpy as np\n",
        "\n",
        "# 3. Instantiate the sentiment analyzer (in case you haven't already done so)\n",
        "analyser = SentimentIntensityAnalyzer()\n",
        "\n",
        "# 4. Now get the compound sentiment score for each review\n",
        "ace_alltext['sent_score'] = np.nan \n",
        "for index, row in ace_alltext.iterrows():  \n",
        "    ace_alltext.loc[index, 'sent_score'] = analyser.polarity_scores(row['text'])['compound']\n",
        "\n",
        "# 5. Let's take a look!\n",
        "pd.set_option('display.max_colwidth', None)"
      ],
      "metadata": {
        "id": "2AnrbMkVAGTB"
      },
      "execution_count": null,
      "outputs": []
    },
    {
      "cell_type": "code",
      "source": [
        "ace_appendable = ace_alltext"
      ],
      "metadata": {
        "id": "lJAFlMKZAdU1"
      },
      "execution_count": null,
      "outputs": []
    },
    {
      "cell_type": "code",
      "source": [
        "def sentiment_analyzer_scores(sentence):\n",
        "    score = analyser.polarity_scores(sentence)\n",
        "    print(\"{:-<55} {}\".format(sentence, str(score)), \"\\n\")\n",
        "\n",
        "# 1. Import the sentiment module (in case you haven't already done so)\n",
        "from vaderSentiment.vaderSentiment import SentimentIntensityAnalyzer\n",
        "\n",
        "# 2. Import numpy (in case you have not already done so)\n",
        "import numpy as np\n",
        "\n",
        "# 3. Instantiate the sentiment analyzer (in case you haven't already done so)\n",
        "analyser = SentimentIntensityAnalyzer()\n",
        "\n",
        "# 4. Now get the compound sentiment score for each review\n",
        "standard_alltext['sent_score'] = np.nan \n",
        "for index, row in standard_alltext.iterrows():  \n",
        "    standard_alltext.loc[index, 'sent_score'] = analyser.polarity_scores(row['text'])['compound']\n",
        "\n",
        "# 5. Let's take a look!\n",
        "pd.set_option('display.max_colwidth', None)"
      ],
      "metadata": {
        "id": "mlsSMuchAf6z"
      },
      "execution_count": null,
      "outputs": []
    },
    {
      "cell_type": "code",
      "source": [
        "standard_appendable = standard_alltext"
      ],
      "metadata": {
        "id": "_2DxetXXAt2G"
      },
      "execution_count": null,
      "outputs": []
    },
    {
      "cell_type": "code",
      "source": [
        "def sentiment_analyzer_scores(sentence):\n",
        "    score = analyser.polarity_scores(sentence)\n",
        "    print(\"{:-<55} {}\".format(sentence, str(score)), \"\\n\")\n",
        "\n",
        "# 1. Import the sentiment module (in case you haven't already done so)\n",
        "from vaderSentiment.vaderSentiment import SentimentIntensityAnalyzer\n",
        "\n",
        "# 2. Import numpy (in case you have not already done so)\n",
        "import numpy as np\n",
        "\n",
        "# 3. Instantiate the sentiment analyzer (in case you haven't already done so)\n",
        "analyser = SentimentIntensityAnalyzer()\n",
        "\n",
        "# 4. Now get the compound sentiment score for each review\n",
        "hoxton_alltext['sent_score'] = np.nan \n",
        "for index, row in hoxton_alltext.iterrows(): \n",
        "    hoxton_alltext.loc[index, 'sent_score'] = analyser.polarity_scores(row['text'])['compound']\n",
        "\n",
        "# 5. Let's take a look!\n",
        "pd.set_option('display.max_colwidth', None)"
      ],
      "metadata": {
        "id": "hbBaIiuCAv94"
      },
      "execution_count": null,
      "outputs": []
    },
    {
      "cell_type": "code",
      "source": [
        "hoxton_appendable = hoxton_alltext"
      ],
      "metadata": {
        "id": "RufnUhYaA1Kq"
      },
      "execution_count": null,
      "outputs": []
    },
    {
      "cell_type": "markdown",
      "source": [
        "We append dataframes together by hotel chain and not by source. In other words, both Google and TripAdvisor review text is located in the same DataFrame."
      ],
      "metadata": {
        "id": "LV9sjEM4YUOq"
      }
    },
    {
      "cell_type": "code",
      "source": [
        "comb1 = grad_appendable.append(ace_appendable)\n",
        "comb2 = comb1.append(hoxton_appendable)\n",
        "combined = comb2.append(standard_appendable)\n",
        "\n",
        "grads = combined[combined['hotel'].str.contains('Graduate')]\n",
        "\n",
        "ace = combined[combined['hotel'] == ]\n",
        "#combined = combined['hotel'].mask(grads, 'Graduate', inplace = True)\n",
        "combined.replace(to_replace=r'^Graduate Ann Arbor$', value = 'Graduate', regex=True)\n",
        "# grads[\"sent_score\"].mean()\n",
        "combined.head(10)\n",
        "#grads.tail(20)"
      ],
      "metadata": {
        "colab": {
          "base_uri": "https://localhost:8080/",
          "height": 615
        },
        "id": "5ZKqXpsPA29o",
        "outputId": "6b6cc02f-ab52-42de-97c8-db27e49a8929"
      },
      "execution_count": null,
      "outputs": [
        {
          "output_type": "execute_result",
          "data": {
            "text/plain": [
              "                hotel  \\\n",
              "0  Graduate Ann Arbor   \n",
              "1  Graduate Ann Arbor   \n",
              "2  Graduate Ann Arbor   \n",
              "3  Graduate Ann Arbor   \n",
              "4  Graduate Ann Arbor   \n",
              "5  Graduate Ann Arbor   \n",
              "6  Graduate Ann Arbor   \n",
              "7  Graduate Ann Arbor   \n",
              "8  Graduate Ann Arbor   \n",
              "9  Graduate Ann Arbor   \n",
              "\n",
              "                                                                                                                                                                                                                                                                                                                                                                                                                                                                                                                                                                                                text  \\\n",
              "0                                                                                                                                                                                                                                                                   Hotel is VERY conveniently located but lacks the college vibe/decor/colors and space that other Graduates have.  They don't have a TV in the common area and the bar doesn't open until 4:00, so that's inconvenient when you want to watch a football or basketball game that starts before 4 pm ;-(. And rooms are very small.   \n",
              "1                                                                                                                                                                                                                                                                                                 Love the style and atmosphere. Everything feels so cozy and the decor is unique and quaint. Also, the furnishings and service are high quality. I REALLY enjoyed my stay! Honestly this is the best hotel I have stayed at in a very long time. Doesn't feel like a chain if you know what I mean.   \n",
              "2                                                                                                                                                                                                                                                                                     The Staff was amazing, the Lobby and all rooms were cozy, comfortable, and inviting. The little lobby cafe had everything we needed! Plus the location to campus was perfect as we could walk everywhere. The only way our stay could have been better is if we could of stayed a little longer!   Thank you!    \n",
              "3                                                                                                                                                                                                                                                                                                                                                                                          Excellent service and accommodations. Staff are over the top nice and engaging.  Short walking distance to about everything. Wonderful coffee bar. Great weekend getaway. Look forward to our next visit.   \n",
              "4                                                                                                                                                                                                                     Top notch Graduate Hotel. You feel like your in a community of its own inside, the staff is friendly and engaging. The lobby concept is brilliant and studious. I enjoyed meeting folks that were U Mich Alumni in town for a campus visit with their kid(s). Would highly recommend for anyone looking to stay near campus for a multitude of reasons (i.e. Gameday, Campus…)   \n",
              "5  We did not have a good stay as we explained to the front desk on checkout.  They placed us in room 302 which was sub standard for a four star hotel. It had an attached room it.  We could hear everything from next door. The bathroom grout was disgusting and the door handles didn't work on the bathroom door.  The door also had weird splattering on the back. The room should never have been rented out. If I had known this was the room quality I would not have stayed there and would have booked a different hotel.  The front desk could not move us since the hotel was sold out.   \n",
              "6                                                                                                                                                                                                                                                                                                                                                                  Quirky hotel. Rooms were very nice and clean. Check in and out was easy. The valet service was very helpful as my sister couldn't walk very far. the The restaurant was nice and the bartender was very friendly. Love the decor.   \n",
              "7                                                                                                                                                                                                                                                                                                                                                                     Always the best go-to when in Ann Arbor. visiting our UOM daughter. The Service is excellent. We love where the hotel is situated and the feeling / look of the property. Reserve in advance on parents weekend and game days!   \n",
              "8           I recently stayed at the Graduate Ann Arbor and everything was fabulous! I was staying there to be close to UofM hospital for medical reasons and as such required a little more accommodation than an average guest. The front desk team were always friendly and helpful in ensuring deliveries made it up to my room and assisted me with getting to/from my room to the lobby for taxis to my medical appointments. The guest service/concierge Ethan made sure that my every request was promptly attended to.  Can’t thank all the hotel staff for making my stay so comfortable!    \n",
              "9                                                                                                                                                                                                                                                                                                                                                   The service from reservation to check out was simply amazing. The attention to detail is impressive. I received a call and email directly from the front desk to ensure I completed an item. Also, room and environment comfortable enjoyable.     \n",
              "\n",
              "   sent_score  \n",
              "0     -0.3304  \n",
              "1     -0.7003  \n",
              "2      0.9017  \n",
              "3     -0.4325  \n",
              "4      0.8687  \n",
              "5      0.7707  \n",
              "6      0.8225  \n",
              "7     -0.6656  \n",
              "8     -0.6125  \n",
              "9      0.5423  "
            ],
            "text/html": [
              "\n",
              "  <div id=\"df-fb87c59c-e7f5-4d47-9ae2-a4804c21991a\">\n",
              "    <div class=\"colab-df-container\">\n",
              "      <div>\n",
              "<style scoped>\n",
              "    .dataframe tbody tr th:only-of-type {\n",
              "        vertical-align: middle;\n",
              "    }\n",
              "\n",
              "    .dataframe tbody tr th {\n",
              "        vertical-align: top;\n",
              "    }\n",
              "\n",
              "    .dataframe thead th {\n",
              "        text-align: right;\n",
              "    }\n",
              "</style>\n",
              "<table border=\"1\" class=\"dataframe\">\n",
              "  <thead>\n",
              "    <tr style=\"text-align: right;\">\n",
              "      <th></th>\n",
              "      <th>hotel</th>\n",
              "      <th>text</th>\n",
              "      <th>sent_score</th>\n",
              "    </tr>\n",
              "  </thead>\n",
              "  <tbody>\n",
              "    <tr>\n",
              "      <th>0</th>\n",
              "      <td>Graduate Ann Arbor</td>\n",
              "      <td>Hotel is VERY conveniently located but lacks the college vibe/decor/colors and space that other Graduates have.  They don't have a TV in the common area and the bar doesn't open until 4:00, so that's inconvenient when you want to watch a football or basketball game that starts before 4 pm ;-(. And rooms are very small.</td>\n",
              "      <td>-0.3304</td>\n",
              "    </tr>\n",
              "    <tr>\n",
              "      <th>1</th>\n",
              "      <td>Graduate Ann Arbor</td>\n",
              "      <td>Love the style and atmosphere. Everything feels so cozy and the decor is unique and quaint. Also, the furnishings and service are high quality. I REALLY enjoyed my stay! Honestly this is the best hotel I have stayed at in a very long time. Doesn't feel like a chain if you know what I mean.</td>\n",
              "      <td>-0.7003</td>\n",
              "    </tr>\n",
              "    <tr>\n",
              "      <th>2</th>\n",
              "      <td>Graduate Ann Arbor</td>\n",
              "      <td>The Staff was amazing, the Lobby and all rooms were cozy, comfortable, and inviting. The little lobby cafe had everything we needed! Plus the location to campus was perfect as we could walk everywhere. The only way our stay could have been better is if we could of stayed a little longer!   Thank you!</td>\n",
              "      <td>0.9017</td>\n",
              "    </tr>\n",
              "    <tr>\n",
              "      <th>3</th>\n",
              "      <td>Graduate Ann Arbor</td>\n",
              "      <td>Excellent service and accommodations. Staff are over the top nice and engaging.  Short walking distance to about everything. Wonderful coffee bar. Great weekend getaway. Look forward to our next visit.</td>\n",
              "      <td>-0.4325</td>\n",
              "    </tr>\n",
              "    <tr>\n",
              "      <th>4</th>\n",
              "      <td>Graduate Ann Arbor</td>\n",
              "      <td>Top notch Graduate Hotel. You feel like your in a community of its own inside, the staff is friendly and engaging. The lobby concept is brilliant and studious. I enjoyed meeting folks that were U Mich Alumni in town for a campus visit with their kid(s). Would highly recommend for anyone looking to stay near campus for a multitude of reasons (i.e. Gameday, Campus…)</td>\n",
              "      <td>0.8687</td>\n",
              "    </tr>\n",
              "    <tr>\n",
              "      <th>5</th>\n",
              "      <td>Graduate Ann Arbor</td>\n",
              "      <td>We did not have a good stay as we explained to the front desk on checkout.  They placed us in room 302 which was sub standard for a four star hotel. It had an attached room it.  We could hear everything from next door. The bathroom grout was disgusting and the door handles didn't work on the bathroom door.  The door also had weird splattering on the back. The room should never have been rented out. If I had known this was the room quality I would not have stayed there and would have booked a different hotel.  The front desk could not move us since the hotel was sold out.</td>\n",
              "      <td>0.7707</td>\n",
              "    </tr>\n",
              "    <tr>\n",
              "      <th>6</th>\n",
              "      <td>Graduate Ann Arbor</td>\n",
              "      <td>Quirky hotel. Rooms were very nice and clean. Check in and out was easy. The valet service was very helpful as my sister couldn't walk very far. the The restaurant was nice and the bartender was very friendly. Love the decor.</td>\n",
              "      <td>0.8225</td>\n",
              "    </tr>\n",
              "    <tr>\n",
              "      <th>7</th>\n",
              "      <td>Graduate Ann Arbor</td>\n",
              "      <td>Always the best go-to when in Ann Arbor. visiting our UOM daughter. The Service is excellent. We love where the hotel is situated and the feeling / look of the property. Reserve in advance on parents weekend and game days!</td>\n",
              "      <td>-0.6656</td>\n",
              "    </tr>\n",
              "    <tr>\n",
              "      <th>8</th>\n",
              "      <td>Graduate Ann Arbor</td>\n",
              "      <td>I recently stayed at the Graduate Ann Arbor and everything was fabulous! I was staying there to be close to UofM hospital for medical reasons and as such required a little more accommodation than an average guest. The front desk team were always friendly and helpful in ensuring deliveries made it up to my room and assisted me with getting to/from my room to the lobby for taxis to my medical appointments. The guest service/concierge Ethan made sure that my every request was promptly attended to.  Can’t thank all the hotel staff for making my stay so comfortable!</td>\n",
              "      <td>-0.6125</td>\n",
              "    </tr>\n",
              "    <tr>\n",
              "      <th>9</th>\n",
              "      <td>Graduate Ann Arbor</td>\n",
              "      <td>The service from reservation to check out was simply amazing. The attention to detail is impressive. I received a call and email directly from the front desk to ensure I completed an item. Also, room and environment comfortable enjoyable.</td>\n",
              "      <td>0.5423</td>\n",
              "    </tr>\n",
              "  </tbody>\n",
              "</table>\n",
              "</div>\n",
              "      <button class=\"colab-df-convert\" onclick=\"convertToInteractive('df-fb87c59c-e7f5-4d47-9ae2-a4804c21991a')\"\n",
              "              title=\"Convert this dataframe to an interactive table.\"\n",
              "              style=\"display:none;\">\n",
              "        \n",
              "  <svg xmlns=\"http://www.w3.org/2000/svg\" height=\"24px\"viewBox=\"0 0 24 24\"\n",
              "       width=\"24px\">\n",
              "    <path d=\"M0 0h24v24H0V0z\" fill=\"none\"/>\n",
              "    <path d=\"M18.56 5.44l.94 2.06.94-2.06 2.06-.94-2.06-.94-.94-2.06-.94 2.06-2.06.94zm-11 1L8.5 8.5l.94-2.06 2.06-.94-2.06-.94L8.5 2.5l-.94 2.06-2.06.94zm10 10l.94 2.06.94-2.06 2.06-.94-2.06-.94-.94-2.06-.94 2.06-2.06.94z\"/><path d=\"M17.41 7.96l-1.37-1.37c-.4-.4-.92-.59-1.43-.59-.52 0-1.04.2-1.43.59L10.3 9.45l-7.72 7.72c-.78.78-.78 2.05 0 2.83L4 21.41c.39.39.9.59 1.41.59.51 0 1.02-.2 1.41-.59l7.78-7.78 2.81-2.81c.8-.78.8-2.07 0-2.86zM5.41 20L4 18.59l7.72-7.72 1.47 1.35L5.41 20z\"/>\n",
              "  </svg>\n",
              "      </button>\n",
              "      \n",
              "  <style>\n",
              "    .colab-df-container {\n",
              "      display:flex;\n",
              "      flex-wrap:wrap;\n",
              "      gap: 12px;\n",
              "    }\n",
              "\n",
              "    .colab-df-convert {\n",
              "      background-color: #E8F0FE;\n",
              "      border: none;\n",
              "      border-radius: 50%;\n",
              "      cursor: pointer;\n",
              "      display: none;\n",
              "      fill: #1967D2;\n",
              "      height: 32px;\n",
              "      padding: 0 0 0 0;\n",
              "      width: 32px;\n",
              "    }\n",
              "\n",
              "    .colab-df-convert:hover {\n",
              "      background-color: #E2EBFA;\n",
              "      box-shadow: 0px 1px 2px rgba(60, 64, 67, 0.3), 0px 1px 3px 1px rgba(60, 64, 67, 0.15);\n",
              "      fill: #174EA6;\n",
              "    }\n",
              "\n",
              "    [theme=dark] .colab-df-convert {\n",
              "      background-color: #3B4455;\n",
              "      fill: #D2E3FC;\n",
              "    }\n",
              "\n",
              "    [theme=dark] .colab-df-convert:hover {\n",
              "      background-color: #434B5C;\n",
              "      box-shadow: 0px 1px 3px 1px rgba(0, 0, 0, 0.15);\n",
              "      filter: drop-shadow(0px 1px 2px rgba(0, 0, 0, 0.3));\n",
              "      fill: #FFFFFF;\n",
              "    }\n",
              "  </style>\n",
              "\n",
              "      <script>\n",
              "        const buttonEl =\n",
              "          document.querySelector('#df-fb87c59c-e7f5-4d47-9ae2-a4804c21991a button.colab-df-convert');\n",
              "        buttonEl.style.display =\n",
              "          google.colab.kernel.accessAllowed ? 'block' : 'none';\n",
              "\n",
              "        async function convertToInteractive(key) {\n",
              "          const element = document.querySelector('#df-fb87c59c-e7f5-4d47-9ae2-a4804c21991a');\n",
              "          const dataTable =\n",
              "            await google.colab.kernel.invokeFunction('convertToInteractive',\n",
              "                                                     [key], {});\n",
              "          if (!dataTable) return;\n",
              "\n",
              "          const docLinkHtml = 'Like what you see? Visit the ' +\n",
              "            '<a target=\"_blank\" href=https://colab.research.google.com/notebooks/data_table.ipynb>data table notebook</a>'\n",
              "            + ' to learn more about interactive tables.';\n",
              "          element.innerHTML = '';\n",
              "          dataTable['output_type'] = 'display_data';\n",
              "          await google.colab.output.renderOutput(dataTable, element);\n",
              "          const docLink = document.createElement('div');\n",
              "          docLink.innerHTML = docLinkHtml;\n",
              "          element.appendChild(docLink);\n",
              "        }\n",
              "      </script>\n",
              "    </div>\n",
              "  </div>\n",
              "  "
            ]
          },
          "metadata": {},
          "execution_count": 160
        }
      ]
    },
    {
      "cell_type": "code",
      "source": [
        "combined = comb2.append(standard_appendable)\n",
        "combined"
      ],
      "metadata": {
        "id": "h4KYTF0jGNP6",
        "outputId": "047f11c7-5647-4847-8f90-008af7785753",
        "colab": {
          "base_uri": "https://localhost:8080/",
          "height": 641
        }
      },
      "execution_count": null,
      "outputs": [
        {
          "output_type": "execute_result",
          "data": {
            "text/plain": [
              "                        hotel  \\\n",
              "0          Graduate Ann Arbor   \n",
              "1          Graduate Ann Arbor   \n",
              "2          Graduate Ann Arbor   \n",
              "3          Graduate Ann Arbor   \n",
              "4          Graduate Ann Arbor   \n",
              "...                       ...   \n",
              "5888  The Standard, High Line   \n",
              "5889  The Standard, High Line   \n",
              "5890  The Standard, High Line   \n",
              "5891  The Standard, High Line   \n",
              "5892  The Standard, High Line   \n",
              "\n",
              "                                                                                                                                                                                                                                                                                                                                                                                text  \\\n",
              "0                                                   Hotel is VERY conveniently located but lacks the college vibe/decor/colors and space that other Graduates have.  They don't have a TV in the common area and the bar doesn't open until 4:00, so that's inconvenient when you want to watch a football or basketball game that starts before 4 pm ;-(. And rooms are very small.   \n",
              "1                                                                                 Love the style and atmosphere. Everything feels so cozy and the decor is unique and quaint. Also, the furnishings and service are high quality. I REALLY enjoyed my stay! Honestly this is the best hotel I have stayed at in a very long time. Doesn't feel like a chain if you know what I mean.   \n",
              "2                                                                     The Staff was amazing, the Lobby and all rooms were cozy, comfortable, and inviting. The little lobby cafe had everything we needed! Plus the location to campus was perfect as we could walk everywhere. The only way our stay could have been better is if we could of stayed a little longer!   Thank you!    \n",
              "3                                                                                                                                                                          Excellent service and accommodations. Staff are over the top nice and engaging.  Short walking distance to about everything. Wonderful coffee bar. Great weekend getaway. Look forward to our next visit.   \n",
              "4     Top notch Graduate Hotel. You feel like your in a community of its own inside, the staff is friendly and engaging. The lobby concept is brilliant and studious. I enjoyed meeting folks that were U Mich Alumni in town for a campus visit with their kid(s). Would highly recommend for anyone looking to stay near campus for a multitude of reasons (i.e. Gameday, Campus…)   \n",
              "...                                                                                                                                                                                                                                                                                                                                                                              ...   \n",
              "5888                                                                                                                                                                                                                                                                                                           (Translated by Google) Good attentions  (Original)  Buenas atenciones   \n",
              "5889                                                                                                                                                                                                                                                                                                                      (Translated by Google) delete del  (Original)  suppr suppr   \n",
              "5890                                                                                                                                                                                                                                                                                                                      (Translated by Google) Good night view  (Original)  야경이 멋짐   \n",
              "5891                                                                                                                                                                                                                                                                                                                                     (Translated by Google) N/a  (Original)  N/a   \n",
              "5892                                                                                                                                                                                                                                                                                                                                     (Translated by Google) N/a  (Original)  N/a   \n",
              "\n",
              "      sent_score  \n",
              "0        -0.3304  \n",
              "1        -0.7003  \n",
              "2         0.9017  \n",
              "3        -0.4325  \n",
              "4         0.8687  \n",
              "...          ...  \n",
              "5888      0.6369  \n",
              "5889      0.3182  \n",
              "5890      0.6369  \n",
              "5891      0.3182  \n",
              "5892      0.3182  \n",
              "\n",
              "[74166 rows x 3 columns]"
            ],
            "text/html": [
              "\n",
              "  <div id=\"df-4080c56a-4726-4161-97eb-a60c315b4e3e\">\n",
              "    <div class=\"colab-df-container\">\n",
              "      <div>\n",
              "<style scoped>\n",
              "    .dataframe tbody tr th:only-of-type {\n",
              "        vertical-align: middle;\n",
              "    }\n",
              "\n",
              "    .dataframe tbody tr th {\n",
              "        vertical-align: top;\n",
              "    }\n",
              "\n",
              "    .dataframe thead th {\n",
              "        text-align: right;\n",
              "    }\n",
              "</style>\n",
              "<table border=\"1\" class=\"dataframe\">\n",
              "  <thead>\n",
              "    <tr style=\"text-align: right;\">\n",
              "      <th></th>\n",
              "      <th>hotel</th>\n",
              "      <th>text</th>\n",
              "      <th>sent_score</th>\n",
              "    </tr>\n",
              "  </thead>\n",
              "  <tbody>\n",
              "    <tr>\n",
              "      <th>0</th>\n",
              "      <td>Graduate Ann Arbor</td>\n",
              "      <td>Hotel is VERY conveniently located but lacks the college vibe/decor/colors and space that other Graduates have.  They don't have a TV in the common area and the bar doesn't open until 4:00, so that's inconvenient when you want to watch a football or basketball game that starts before 4 pm ;-(. And rooms are very small.</td>\n",
              "      <td>-0.3304</td>\n",
              "    </tr>\n",
              "    <tr>\n",
              "      <th>1</th>\n",
              "      <td>Graduate Ann Arbor</td>\n",
              "      <td>Love the style and atmosphere. Everything feels so cozy and the decor is unique and quaint. Also, the furnishings and service are high quality. I REALLY enjoyed my stay! Honestly this is the best hotel I have stayed at in a very long time. Doesn't feel like a chain if you know what I mean.</td>\n",
              "      <td>-0.7003</td>\n",
              "    </tr>\n",
              "    <tr>\n",
              "      <th>2</th>\n",
              "      <td>Graduate Ann Arbor</td>\n",
              "      <td>The Staff was amazing, the Lobby and all rooms were cozy, comfortable, and inviting. The little lobby cafe had everything we needed! Plus the location to campus was perfect as we could walk everywhere. The only way our stay could have been better is if we could of stayed a little longer!   Thank you!</td>\n",
              "      <td>0.9017</td>\n",
              "    </tr>\n",
              "    <tr>\n",
              "      <th>3</th>\n",
              "      <td>Graduate Ann Arbor</td>\n",
              "      <td>Excellent service and accommodations. Staff are over the top nice and engaging.  Short walking distance to about everything. Wonderful coffee bar. Great weekend getaway. Look forward to our next visit.</td>\n",
              "      <td>-0.4325</td>\n",
              "    </tr>\n",
              "    <tr>\n",
              "      <th>4</th>\n",
              "      <td>Graduate Ann Arbor</td>\n",
              "      <td>Top notch Graduate Hotel. You feel like your in a community of its own inside, the staff is friendly and engaging. The lobby concept is brilliant and studious. I enjoyed meeting folks that were U Mich Alumni in town for a campus visit with their kid(s). Would highly recommend for anyone looking to stay near campus for a multitude of reasons (i.e. Gameday, Campus…)</td>\n",
              "      <td>0.8687</td>\n",
              "    </tr>\n",
              "    <tr>\n",
              "      <th>...</th>\n",
              "      <td>...</td>\n",
              "      <td>...</td>\n",
              "      <td>...</td>\n",
              "    </tr>\n",
              "    <tr>\n",
              "      <th>5888</th>\n",
              "      <td>The Standard, High Line</td>\n",
              "      <td>(Translated by Google) Good attentions  (Original)  Buenas atenciones</td>\n",
              "      <td>0.6369</td>\n",
              "    </tr>\n",
              "    <tr>\n",
              "      <th>5889</th>\n",
              "      <td>The Standard, High Line</td>\n",
              "      <td>(Translated by Google) delete del  (Original)  suppr suppr</td>\n",
              "      <td>0.3182</td>\n",
              "    </tr>\n",
              "    <tr>\n",
              "      <th>5890</th>\n",
              "      <td>The Standard, High Line</td>\n",
              "      <td>(Translated by Google) Good night view  (Original)  야경이 멋짐</td>\n",
              "      <td>0.6369</td>\n",
              "    </tr>\n",
              "    <tr>\n",
              "      <th>5891</th>\n",
              "      <td>The Standard, High Line</td>\n",
              "      <td>(Translated by Google) N/a  (Original)  N/a</td>\n",
              "      <td>0.3182</td>\n",
              "    </tr>\n",
              "    <tr>\n",
              "      <th>5892</th>\n",
              "      <td>The Standard, High Line</td>\n",
              "      <td>(Translated by Google) N/a  (Original)  N/a</td>\n",
              "      <td>0.3182</td>\n",
              "    </tr>\n",
              "  </tbody>\n",
              "</table>\n",
              "<p>74166 rows × 3 columns</p>\n",
              "</div>\n",
              "      <button class=\"colab-df-convert\" onclick=\"convertToInteractive('df-4080c56a-4726-4161-97eb-a60c315b4e3e')\"\n",
              "              title=\"Convert this dataframe to an interactive table.\"\n",
              "              style=\"display:none;\">\n",
              "        \n",
              "  <svg xmlns=\"http://www.w3.org/2000/svg\" height=\"24px\"viewBox=\"0 0 24 24\"\n",
              "       width=\"24px\">\n",
              "    <path d=\"M0 0h24v24H0V0z\" fill=\"none\"/>\n",
              "    <path d=\"M18.56 5.44l.94 2.06.94-2.06 2.06-.94-2.06-.94-.94-2.06-.94 2.06-2.06.94zm-11 1L8.5 8.5l.94-2.06 2.06-.94-2.06-.94L8.5 2.5l-.94 2.06-2.06.94zm10 10l.94 2.06.94-2.06 2.06-.94-2.06-.94-.94-2.06-.94 2.06-2.06.94z\"/><path d=\"M17.41 7.96l-1.37-1.37c-.4-.4-.92-.59-1.43-.59-.52 0-1.04.2-1.43.59L10.3 9.45l-7.72 7.72c-.78.78-.78 2.05 0 2.83L4 21.41c.39.39.9.59 1.41.59.51 0 1.02-.2 1.41-.59l7.78-7.78 2.81-2.81c.8-.78.8-2.07 0-2.86zM5.41 20L4 18.59l7.72-7.72 1.47 1.35L5.41 20z\"/>\n",
              "  </svg>\n",
              "      </button>\n",
              "      \n",
              "  <style>\n",
              "    .colab-df-container {\n",
              "      display:flex;\n",
              "      flex-wrap:wrap;\n",
              "      gap: 12px;\n",
              "    }\n",
              "\n",
              "    .colab-df-convert {\n",
              "      background-color: #E8F0FE;\n",
              "      border: none;\n",
              "      border-radius: 50%;\n",
              "      cursor: pointer;\n",
              "      display: none;\n",
              "      fill: #1967D2;\n",
              "      height: 32px;\n",
              "      padding: 0 0 0 0;\n",
              "      width: 32px;\n",
              "    }\n",
              "\n",
              "    .colab-df-convert:hover {\n",
              "      background-color: #E2EBFA;\n",
              "      box-shadow: 0px 1px 2px rgba(60, 64, 67, 0.3), 0px 1px 3px 1px rgba(60, 64, 67, 0.15);\n",
              "      fill: #174EA6;\n",
              "    }\n",
              "\n",
              "    [theme=dark] .colab-df-convert {\n",
              "      background-color: #3B4455;\n",
              "      fill: #D2E3FC;\n",
              "    }\n",
              "\n",
              "    [theme=dark] .colab-df-convert:hover {\n",
              "      background-color: #434B5C;\n",
              "      box-shadow: 0px 1px 3px 1px rgba(0, 0, 0, 0.15);\n",
              "      filter: drop-shadow(0px 1px 2px rgba(0, 0, 0, 0.3));\n",
              "      fill: #FFFFFF;\n",
              "    }\n",
              "  </style>\n",
              "\n",
              "      <script>\n",
              "        const buttonEl =\n",
              "          document.querySelector('#df-4080c56a-4726-4161-97eb-a60c315b4e3e button.colab-df-convert');\n",
              "        buttonEl.style.display =\n",
              "          google.colab.kernel.accessAllowed ? 'block' : 'none';\n",
              "\n",
              "        async function convertToInteractive(key) {\n",
              "          const element = document.querySelector('#df-4080c56a-4726-4161-97eb-a60c315b4e3e');\n",
              "          const dataTable =\n",
              "            await google.colab.kernel.invokeFunction('convertToInteractive',\n",
              "                                                     [key], {});\n",
              "          if (!dataTable) return;\n",
              "\n",
              "          const docLinkHtml = 'Like what you see? Visit the ' +\n",
              "            '<a target=\"_blank\" href=https://colab.research.google.com/notebooks/data_table.ipynb>data table notebook</a>'\n",
              "            + ' to learn more about interactive tables.';\n",
              "          element.innerHTML = '';\n",
              "          dataTable['output_type'] = 'display_data';\n",
              "          await google.colab.output.renderOutput(dataTable, element);\n",
              "          const docLink = document.createElement('div');\n",
              "          docLink.innerHTML = docLinkHtml;\n",
              "          element.appendChild(docLink);\n",
              "        }\n",
              "      </script>\n",
              "    </div>\n",
              "  </div>\n",
              "  "
            ]
          },
          "metadata": {},
          "execution_count": 162
        }
      ]
    },
    {
      "cell_type": "code",
      "source": [],
      "metadata": {
        "id": "rKXjcr1DD3Bc"
      },
      "execution_count": null,
      "outputs": []
    }
  ],
  "metadata": {
    "colab": {
      "collapsed_sections": [],
      "provenance": []
    },
    "kernelspec": {
      "display_name": "Python 3",
      "name": "python3"
    },
    "language_info": {
      "name": "python"
    },
    "accelerator": "GPU"
  },
  "nbformat": 4,
  "nbformat_minor": 0
}